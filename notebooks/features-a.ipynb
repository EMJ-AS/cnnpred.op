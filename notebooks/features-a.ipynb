{
 "cells": [
  {
   "cell_type": "markdown",
   "metadata": {},
   "source": [
    "# Feature creation with yfinance data"
   ]
  },
  {
   "cell_type": "markdown",
   "metadata": {},
   "source": [
    "### Setup"
   ]
  },
  {
   "cell_type": "code",
   "execution_count": 5,
   "metadata": {},
   "outputs": [],
   "source": [
    "import pandas as pd\n",
    "import numpy as np\n",
    "import yfinance as yf\n",
    "import matplotlib.pyplot as plt\n",
    "import pandas_ta as ta\n",
    "import warnings"
   ]
  },
  {
   "cell_type": "markdown",
   "metadata": {},
   "source": [
    "### Tickers"
   ]
  },
  {
   "cell_type": "code",
   "execution_count": 6,
   "metadata": {},
   "outputs": [],
   "source": [
    "tickers  = ['AAPL', 'ADBE', 'ADI', 'ADP', 'ADSK', 'AMAT', 'AMBA', 'AMD', 'AMZN', 'ANET', 'ARKK', 'ASML', 'ATER', 'AVAV', 'AVGO', 'AYX', 'BABA', 'BB', 'BIDU', 'BILI', 'BKNG', 'BL', 'BLUE', 'BOX', 'BSX', 'BYND', 'CCJ', 'CDNS', 'CDW', 'CHGG', 'CHKP', 'CHWY', 'CMCSA', 'CORT', 'CRM', 'CRSP', 'CRWD', 'CSCO', 'CSIQ', 'CVNA', 'CYBR', 'DBX', 'DIS', 'DKNG', 'DNN', 'DOCU', 'DT', 'DXCM', 'EA', 'EB', 'EBAY', 'EDIT', 'ENPH', 'ESTC', 'ETSY', 'EXAS', 'EXPE', 'FATE', 'FCEL', 'FI', 'FIS', 'FSLY', 'FTCH', 'FTNT', 'FUBO', 'FUTU', 'FVRR', 'GDS', 'GLOB', 'GME', 'GNRC', 'GOGO', 'GOOGL', 'GPRO', 'GRPN', 'HIMX', 'HPE', 'HUBS', 'IAC', 'ILMN', 'IMAX', 'INTC', 'INTU', 'IONS', 'ISRG', 'JD', 'KLAC', 'KOPN', 'KURA', 'KWEB', 'LC', 'LITE', 'LOGI', 'LRCX', 'LULU', 'LYFT', 'MARA', 'MCHP', 'MDB', 'MELI', 'META', 'MGNI', 'MRNA', 'MRVL', 'MSFT', 'MSTR', 'MU', 'MVIS', 'MVST', 'NFLX', 'NICE', 'NIO', 'NKLA', 'NOW', 'NTAP', 'NTDOY', 'NTES', 'NTLA', 'NTNX', 'NVAX', 'NVDA', 'NVTA', 'NXPI', 'NYT', 'OKTA', 'ON', 'ORCL', 'PACB', 'PANW', 'PARA', 'PAYC', 'PD', 'PDD', 'PENN', 'PINS', 'PLUG', 'PSTG', 'PYPL', 'QCOM', 'RDFN', 'REAL', 'RNG', 'ROKU', 'RVLV', 'SABR', 'SAP', 'SBGI', 'SE', 'SFIX', 'SFTBY', 'SGBI', 'SGML', 'SHOP', 'SMAR', 'SMCI', 'SMH', 'SNAP', 'SNPS', 'SOHU', 'SONO', 'SONY', 'SPCE', 'SPLK', 'SPOT', 'SQ', 'STM', 'T', 'TDC', 'TDOC', 'TEAM', 'TENB', 'TIGR', 'TNDM', 'TSLA', 'TTD', 'TTWO', 'TWLO', 'TXN', 'UBER', 'UPWK', 'VEEV', 'VIPS', 'VZ', 'W', 'WB', 'WBD', 'WDAY', 'WDC', 'WIX', 'XBI', 'YELP', 'YEXT', 'Z', 'ZM', 'ZS']\n",
    "# Exclude ADPT, ATVI, NEWR, WWE, TRUE\n",
    "tickers = [\n",
    "    \"0700.HK\",\n",
    "    \"1024.HK\",\n",
    "    \"1263.HK\",\n",
    "    \"1810.HK\",\n",
    "    \"2330.TW\",\n",
    "    \"2454.TW\",\n",
    "    \"3668.T\",\n",
    "    \"3690.HK\",\n",
    "    \"7832.T\",\n",
    "    \"9684.T\",\n",
    "    \"9697.T\",\n",
    "    \"9992.HK\",\n",
    "    \"AAPL\",\n",
    "    \"ACCD\",\n",
    "    \"ADBE\",\n",
    "    \"ADE.OL\",\n",
    "    \"ADI\",\n",
    "    \"ADP\",\n",
    "#    \"ADPT\",\n",
    "    \"ADSK\",\n",
    "    \"ADYEN.AS\",\n",
    "    \"AFRM\",\n",
    "    \"AI\",\n",
    "    \"AMAT\",\n",
    "    \"AMBA\",\n",
    "    \"AMD\",\n",
    "    \"AMZN\",\n",
    "    \"ANET\",\n",
    "    \"ARKK\",\n",
    "    \"ARRY\",\n",
    "    \"ASAN\",\n",
    "    \"ASML\",\n",
    "    \"ATER\",\n",
    "#    \"ATVI\",\n",
    "    \"ATZ.TO\",\n",
    "    \"AVAV\",\n",
    "    \"AVGO\",\n",
    "    \"AYX\",\n",
    "    \"BABA\",\n",
    "    \"BB\",\n",
    "    \"BBD-B.TO\",\n",
    "    \"BEAM\",\n",
    "    \"BIDU\",\n",
    "    \"BIGC\",\n",
    "    \"BILI\",\n",
    "    \"BILL\",\n",
    "    \"BITO\",\n",
    "    \"BKNG\",\n",
    "    \"BL\",\n",
    "    \"BLND\",\n",
    "    \"BLUE\",\n",
    "    \"BMBL\",\n",
    "    \"BNTX\",\n",
    "    \"BOX\",\n",
    "    \"BSX\",\n",
    "    \"BYND\",\n",
    "    \"BZFD\",\n",
    "    \"CCJ\",\n",
    "    \"CDNS\",\n",
    "    \"CDW\",\n",
    "    \"CHGG\",\n",
    "    \"CHKP\",\n",
    "    \"CHWY\",\n",
    "    \"CMCSA\",\n",
    "    \"COIN\",\n",
    "    \"CORT\",\n",
    "    \"CPNG\",\n",
    "    \"CRM\",\n",
    "    \"CRSP\",\n",
    "    \"CRWD\",\n",
    "    \"CSCO\",\n",
    "    \"CSIQ\",\n",
    "    \"CSU.TO\",\n",
    "    \"CVNA\",\n",
    "    \"CYBR\",\n",
    "    \"DASH\",\n",
    "    \"DBX\",\n",
    "    \"DDOG\",\n",
    "    \"DHER.DE\",\n",
    "    \"DIS\",\n",
    "    \"DKNG\",\n",
    "    \"DLO\",\n",
    "    \"DNN\",\n",
    "    \"DOCS\",\n",
    "    \"DOCU\",\n",
    "    \"DSY.PA\",\n",
    "    \"DT\",\n",
    "    \"DUOL\",\n",
    "    \"DXCM\",\n",
    "    \"EA\",\n",
    "    \"EB\",\n",
    "    \"EBAY\",\n",
    "    \"EDIT\",\n",
    "    \"EDR\",\n",
    "    \"ENPH\",\n",
    "    \"ENVX\",\n",
    "    \"ESTC\",\n",
    "    \"ETH-USD\",\n",
    "    \"ETSY\",\n",
    "    \"EXAS\",\n",
    "    \"EXPE\",\n",
    "    \"FATE\",\n",
    "    \"FCEL\",\n",
    "    \"FI\",\n",
    "    \"FIS\",\n",
    "    \"FLTR.L\",\n",
    "    \"FREY\",\n",
    "    \"FSLY\",\n",
    "    \"FTCH\",\n",
    "    \"FTNT\",\n",
    "    \"FUBO\",\n",
    "    \"FUTU\",\n",
    "    \"FVRR\",\n",
    "    \"GCT\",\n",
    "    \"GDRX\",\n",
    "    \"GDS\",\n",
    "    \"GFS\",\n",
    "    \"GLBE\",\n",
    "    \"GLOB\",\n",
    "    \"GLXY.TO\",\n",
    "    \"GME\",\n",
    "    \"GNRC\",\n",
    "    \"GOGO\",\n",
    "    \"GOOGL\",\n",
    "    \"GPRO\",\n",
    "    \"GRAB\",\n",
    "    \"GRPN\",\n",
    "    \"GTLB\",\n",
    "    \"HCP\",\n",
    "    \"HFG.DE\",\n",
    "    \"HIMX\",\n",
    "    \"HOOD\",\n",
    "    \"HPE\",\n",
    "    \"HUBS\",\n",
    "    \"IAC\",\n",
    "    \"IBM\",\n",
    "    \"ILMN\",\n",
    "    \"IMAX\",\n",
    "    \"INTC\",\n",
    "    \"INTU\",\n",
    "    \"IONS\",\n",
    "    \"IPX\",\n",
    "    \"ISRG\",\n",
    "    \"JD\",\n",
    "    \"JOBY\",\n",
    "    \"KAHOT.OL\",\n",
    "    \"KC\",\n",
    "    \"KLAC\",\n",
    "    \"KOPN\",\n",
    "    \"KURA\",\n",
    "    \"KWEB\",\n",
    "    \"LC\",\n",
    "    \"LCID\",\n",
    "    \"LI\",\n",
    "    \"LITE\",\n",
    "    \"LMND\",\n",
    "    \"LOGI\",\n",
    "    \"LRCX\",\n",
    "    \"LSPD\",\n",
    "    \"LULU\",\n",
    "    \"LYFT\",\n",
    "    \"MARA\",\n",
    "    \"MBLY\",\n",
    "    \"MCHP\",\n",
    "    \"MDB\",\n",
    "    \"ME\",\n",
    "    \"MELI\",\n",
    "    \"META\",\n",
    "    \"MGNI\",\n",
    "    \"MNDY\",\n",
    "    \"MQ\",\n",
    "    \"MRNA\",\n",
    "    \"MRVL\",\n",
    "    \"MSFT\",\n",
    "    \"MSTR\",\n",
    "    \"MU\",\n",
    "    \"MVIS\",\n",
    "    \"MVST\",\n",
    "    \"NCNO\",\n",
    "    \"NET\",\n",
    "#    \"NEWR\",\n",
    "    \"NFLX\",\n",
    "    \"NICE\",\n",
    "    \"NIO\",\n",
    "    \"NKLA\",\n",
    "    \"NOW\",\n",
    "    \"NTAP\",\n",
    "    \"NTDOY\",\n",
    "    \"NTES\",\n",
    "    \"NTLA\",\n",
    "    \"NTNX\",\n",
    "    \"NVAX\",\n",
    "    \"NVDA\",\n",
    "    \"NVTA\",\n",
    "    \"NXPI\",\n",
    "    \"NYT\",\n",
    "    \"OKTA\",\n",
    "    \"ON\",\n",
    "    \"OPAD\",\n",
    "    \"OPEN\",\n",
    "    \"ORCL\",\n",
    "    \"OTLY\",\n",
    "    \"PACB\",\n",
    "    \"PANW\",\n",
    "    \"PARA\",\n",
    "    \"PATH\",\n",
    "    \"PAYC\",\n",
    "    \"PD\",\n",
    "    \"PDD\",\n",
    "    \"PENN\",\n",
    "    \"PINS\",\n",
    "    \"PLTK\",\n",
    "    \"PLTR\",\n",
    "    \"PLUG\",\n",
    "    \"PSTG\",\n",
    "    \"PTON\",\n",
    "    \"PYPL\",\n",
    "    \"QCOM\",\n",
    "    \"QS\",\n",
    "    \"RBLX\",\n",
    "    \"RDFN\",\n",
    "    \"REAL\",\n",
    "    \"RENT\",\n",
    "    \"RIVN\",\n",
    "    \"RNG\",\n",
    "    \"ROKU\",\n",
    "    \"ROOT\",\n",
    "    \"RSI\",\n",
    "    \"RVLV\",\n",
    "    \"S\",\n",
    "    \"SABR\",\n",
    "    \"SANA\",\n",
    "    \"SAP\",\n",
    "    \"SBGI\",\n",
    "    \"SDGR\",\n",
    "    \"SE\",\n",
    "    \"SFIX\",\n",
    "    \"SFTBY\",\n",
    "    \"SGBI\",\n",
    "    \"SGML\",\n",
    "    \"SHOP\",\n",
    "    \"SMAR\",\n",
    "    \"SMCI\",\n",
    "    \"SMH\",\n",
    "    \"SMR\",\n",
    "    \"SNAP\",\n",
    "    \"SNOW\",\n",
    "    \"SNPS\",\n",
    "    \"SOFI\",\n",
    "    \"SOHU\",\n",
    "    \"SONO\",\n",
    "    \"SONY\",\n",
    "    \"SPCE\",\n",
    "    \"SPLK\",\n",
    "    \"SPOT\",\n",
    "    \"SQ\",\n",
    "    \"STM\",\n",
    "    \"T\",\n",
    "    \"TBLA\",\n",
    "    \"TDC\",\n",
    "    \"TDOC\",\n",
    "    \"TEAM\",\n",
    "    \"TENB\",\n",
    "    \"TIGR\",\n",
    "    \"TKWY.AS\",\n",
    "    \"TNDM\",\n",
    "    \"TOST\",\n",
    "#    \"TRUE\",\n",
    "    \"TSLA\",\n",
    "    \"TTD\",\n",
    "    \"TTWO\",\n",
    "    \"TWLO\",\n",
    "    \"TXN\",\n",
    "    \"U\",\n",
    "    \"UBER\",\n",
    "    \"UBI.PA\",\n",
    "    \"UPST\",\n",
    "    \"UPWK\",\n",
    "    \"V\",\n",
    "    \"VEEV\",\n",
    "    \"VIPS\",\n",
    "    \"VIV.PA\",\n",
    "    \"VRT\",\n",
    "    \"VTEX\",\n",
    "    \"VZ\",\n",
    "    \"W\",\n",
    "    \"WB\",\n",
    "    \"WBD\",\n",
    "    \"WDAY\",\n",
    "    \"WDC\",\n",
    "    \"WISH\",\n",
    "    \"WIX\",\n",
    "    \"WLDS\",\n",
    "    \"WNDR.TO\",\n",
    "#    \"WWE\",\n",
    "    \"XBI\",\n",
    "    \"XPEV\",\n",
    "    \"XRO.AX\",\n",
    "    \"YELP\",\n",
    "    \"YEXT\",\n",
    "    \"Z\",\n",
    "    \"ZAL.DE\",\n",
    "    \"ZI\",\n",
    "    \"ZM\",\n",
    "    \"ZS\"\n",
    "]"
   ]
  },
  {
   "cell_type": "markdown",
   "metadata": {},
   "source": [
    "## pandas-ta and ts-fresh.\n",
    "\n",
    "The pandas-ta documentation is [here](https://twopirllc.github.io/pandas-ta/).\n",
    "\n",
    "The ts-fresh documentation is [here](https://tsfresh.readthedocs.io/en/latest/text/list_of_features.html)"
   ]
  },
  {
   "cell_type": "code",
   "execution_count": 7,
   "metadata": {},
   "outputs": [],
   "source": [
    "def create_features(ticker=None, data=None):\n",
    "    if ticker is None or data is None:\n",
    "        return None\n",
    "\n",
    "    # Aberration\n",
    "    aberration_df = ta.aberration(data['High'], data['Low'], data['Close'], length=5, \\\n",
    "                                    atr_length=14)\n",
    "    data = pd.concat([data, aberration_df], axis=1)\n",
    "\n",
    "    # ATR = Average True Range\n",
    "    atr_df = ta.atr(data['High'], data['Low'], data['Close'], length=14)\n",
    "    data = pd.concat([data, atr_df], axis=1)\n",
    "\n",
    "    # BBands = Bollinger Bands\n",
    "    bbands_df = ta.bbands(data['Close'], length=5, std=2, mamode='sma')\n",
    "    data = pd.concat([data, bbands_df], axis=1)\n",
    "\n",
    "    # AO = Awesome Oscillator\n",
    "    data['AO_5_34'] = ta.ao(data['High'], data['Low'], fast=5, slow=34)\n",
    "    \n",
    "    # BOP = Balance Of Power\n",
    "    data['BOP'] = ta.bop(data['Open'], data['High'], data['Low'], data['Close'])\n",
    "\n",
    "    # MOM = Momentum\n",
    "    data['MOM_1'] = ta.mom(data['Close'], length=1)\n",
    "    data['MOM_2'] = ta.mom(data['Close'], length=2)\n",
    "    data['MOM_4'] = ta.mom(data['Close'], length=4)\n",
    "    data['MOM_6'] = ta.mom(data['Close'], length=6)\n",
    "\n",
    "    # SMA = Simple Moving Average\n",
    "    data['SMA_30'] = ta.sma(data['Close'], length=30)\n",
    "    data['SMA_60'] = ta.sma(data['Close'],length=60)\n",
    "    data['SMA_90'] = ta.sma(data['Close'],length=90)\n",
    "\n",
    "    # RSI = Relative Strength Index\n",
    "    data['RSI_14'] = ta.rsi(close=data['Close'], length=14)\n",
    "\n",
    "    # STOCH = Stochastic Oscillator\n",
    "    stoch = ta.stoch(high=data['High'], low=data['Low'], close=data['Close'], k=14, d=3, smooth_k=3)\n",
    "    # Add the stochastic oscillator values to the DataFrame\n",
    "    data['%K_14_3_3'] = stoch['STOCHk_14_3_3']\n",
    "    data['%D_14_3_3'] = stoch['STOCHd_14_3_3']\n",
    "\n",
    "    # CMF = Chaikin Money Flow\n",
    "    data['CMF_20'] = ta.cmf(high=data['High'], low=data['Low'], close=data['Close'], \\\n",
    "                            volume=data['Volume'], length=20)\n",
    "    # AD = Accumulation/Distribution\n",
    "    data['AD'] = ta.ad(high=data['High'], low=data['Low'], close=data['Close'], \\\n",
    "                            volume=data['Volume'])\n",
    "\n",
    "\n",
    "    data = data.astype('float64')\n",
    "    data = data.add_prefix(f'{ticker}_')\n",
    "    # Print the updated DataFrame with Aberration values\n",
    "    data_filtered = data.iloc[100:]\n",
    "    \n",
    "\n",
    "    return data_filtered\n"
   ]
  },
  {
   "cell_type": "code",
   "execution_count": 9,
   "metadata": {},
   "outputs": [
    {
     "name": "stdout",
     "output_type": "stream",
     "text": [
      "  0:0700.HK\n"
     ]
    },
    {
     "name": "stderr",
     "output_type": "stream",
     "text": [
      "[*********************100%%**********************]  1 of 1 completed\n",
      "[*********************100%%**********************]  1 of 1 completed\n"
     ]
    },
    {
     "name": "stdout",
     "output_type": "stream",
     "text": [
      "ticker: 0700.HK\n",
      "range: 2014-07-22 00:00:00 2024-02-23 00:00:00\n",
      "index: 2014-02-24 00:00:00 2024-02-22 00:00:00\n",
      "all: 2014-07-22 00:00:00 2024-02-22 00:00:00\n",
      "dataset lengths (existing vs new): 2366, 2417\n"
     ]
    },
    {
     "name": "stderr",
     "output_type": "stream",
     "text": [
      "[*********************100%%**********************]  1 of 1 completed\n",
      "[*********************100%%**********************]  1 of 1 completed\n"
     ]
    },
    {
     "name": "stdout",
     "output_type": "stream",
     "text": [
      "index: 2014-02-24 00:00:00 2024-02-22 00:00:00\n",
      "all: 2014-07-22 00:00:00 2024-02-22 00:00:00\n",
      "dataset lengths (existing vs new): 2306, 2417\n",
      "index: 2014-02-24 00:00:00 2024-02-22 00:00:00\n",
      "all: 2014-07-22 00:00:00 2024-02-22 00:00:00\n",
      "dataset lengths (existing vs new): 2306, 2417\n",
      "treas: ^TNX\n"
     ]
    },
    {
     "name": "stderr",
     "output_type": "stream",
     "text": [
      "[*********************100%%**********************]  1 of 1 completed\n",
      "[*********************100%%**********************]  1 of 1 completed\n"
     ]
    },
    {
     "name": "stdout",
     "output_type": "stream",
     "text": [
      "all: 2014-07-22 00:00:00 2024-02-22 00:00:00\n",
      "dataset lengths (existing vs new): 2306, 2415\n",
      "treas: ^FVX\n",
      "all: 2014-07-22 00:00:00 2024-02-22 00:00:00\n",
      "dataset lengths (existing vs new): 2305, 2415\n",
      "treas: ARKK\n"
     ]
    },
    {
     "name": "stderr",
     "output_type": "stream",
     "text": [
      "[*********************100%%**********************]  1 of 1 completed\n",
      "[*********************100%%**********************]  1 of 1 completed\n"
     ]
    },
    {
     "name": "stdout",
     "output_type": "stream",
     "text": [
      "all: 2015-03-27 00:00:00 2024-02-22 00:00:00\n",
      "dataset lengths (existing vs new): 2305, 2242\n",
      "treas: IWM\n",
      "all: 2015-03-27 00:00:00 2024-02-22 00:00:00\n",
      "dataset lengths (existing vs new): 2139, 2417\n",
      "treas: QQQ\n"
     ]
    },
    {
     "name": "stderr",
     "output_type": "stream",
     "text": [
      "[*********************100%%**********************]  1 of 1 completed\n"
     ]
    },
    {
     "name": "stdout",
     "output_type": "stream",
     "text": [
      "all: 2015-03-27 00:00:00 2024-02-22 00:00:00\n",
      "dataset lengths (existing vs new): 2139, 2417\n",
      "treas: AAPL\n"
     ]
    },
    {
     "name": "stderr",
     "output_type": "stream",
     "text": [
      "[*********************100%%**********************]  1 of 1 completed\n"
     ]
    },
    {
     "name": "stdout",
     "output_type": "stream",
     "text": [
      "all: 2015-03-27 00:00:00 2024-02-22 00:00:00\n",
      "dataset lengths (existing vs new): 2139, 2417\n"
     ]
    },
    {
     "name": "stderr",
     "output_type": "stream",
     "text": [
      "[*********************100%%**********************]  1 of 1 completed\n",
      "[*********************100%%**********************]  1 of 1 completed"
     ]
    },
    {
     "name": "stdout",
     "output_type": "stream",
     "text": [
      "  1:1024.HK\n",
      "ticker: 1024.HK\n",
      "range: 2021-07-07 00:00:00 2024-02-23 00:00:00\n",
      "index: 2014-02-24 00:00:00 2024-02-22 00:00:00\n"
     ]
    },
    {
     "name": "stderr",
     "output_type": "stream",
     "text": [
      "\n",
      "[*********************100%%**********************]  1 of 1 completed\n",
      "[*********************100%%**********************]  1 of 1 completed\n",
      "[*********************100%%**********************]  1 of 1 completed"
     ]
    },
    {
     "name": "stdout",
     "output_type": "stream",
     "text": [
      "all: 2021-07-07 00:00:00 2024-02-22 00:00:00\n",
      "dataset lengths (existing vs new): 649, 2417\n",
      "index: 2014-02-24 00:00:00 2024-02-22 00:00:00\n",
      "all: 2021-07-07 00:00:00 2024-02-22 00:00:00\n",
      "dataset lengths (existing vs new): 629, 2417\n",
      "index: 2014-02-24 00:00:00 2024-02-22 00:00:00\n",
      "all: 2021-07-07 00:00:00 2024-02-22 00:00:00\n",
      "dataset lengths (existing vs new): 629, 2417\n",
      "treas: ^TNX\n"
     ]
    },
    {
     "name": "stderr",
     "output_type": "stream",
     "text": [
      "\n",
      "[*********************100%%**********************]  1 of 1 completed\n",
      "[*********************100%%**********************]  1 of 1 completed\n"
     ]
    },
    {
     "name": "stdout",
     "output_type": "stream",
     "text": [
      "all: 2021-07-07 00:00:00 2024-02-22 00:00:00\n",
      "dataset lengths (existing vs new): 629, 2415\n",
      "treas: ^FVX\n",
      "all: 2021-07-07 00:00:00 2024-02-22 00:00:00\n",
      "dataset lengths (existing vs new): 629, 2415\n",
      "treas: ARKK\n",
      "all: 2021-07-07 00:00:00 2024-02-22 00:00:00\n",
      "dataset lengths (existing vs new): 629, 2242\n",
      "treas: IWM\n"
     ]
    },
    {
     "name": "stderr",
     "output_type": "stream",
     "text": [
      "[*********************100%%**********************]  1 of 1 completed\n",
      "[*********************100%%**********************]  1 of 1 completed\n",
      "[*********************100%%**********************]  1 of 1 completed\n"
     ]
    },
    {
     "name": "stdout",
     "output_type": "stream",
     "text": [
      "all: 2021-07-07 00:00:00 2024-02-22 00:00:00\n",
      "dataset lengths (existing vs new): 629, 2417\n",
      "treas: QQQ\n",
      "all: 2021-07-07 00:00:00 2024-02-22 00:00:00\n",
      "dataset lengths (existing vs new): 629, 2417\n",
      "treas: AAPL\n",
      "all: 2021-07-07 00:00:00 2024-02-22 00:00:00\n",
      "dataset lengths (existing vs new): 629, 2417\n"
     ]
    },
    {
     "name": "stderr",
     "output_type": "stream",
     "text": [
      "[*********************100%%**********************]  1 of 1 completed"
     ]
    },
    {
     "name": "stdout",
     "output_type": "stream",
     "text": [
      "  2:1263.HK\n",
      "ticker: 1263.HK\n",
      "range: 2014-07-22 00:00:00 2024-02-23 00:00:00\n"
     ]
    },
    {
     "name": "stderr",
     "output_type": "stream",
     "text": [
      "\n",
      "[*********************100%%**********************]  1 of 1 completed\n",
      "[*********************100%%**********************]  1 of 1 completed\n",
      "[*********************100%%**********************]  1 of 1 completed\n"
     ]
    },
    {
     "name": "stdout",
     "output_type": "stream",
     "text": [
      "index: 2014-02-24 00:00:00 2024-02-22 00:00:00\n",
      "all: 2014-07-22 00:00:00 2024-02-22 00:00:00\n",
      "dataset lengths (existing vs new): 2366, 2417\n",
      "index: 2014-02-24 00:00:00 2024-02-22 00:00:00\n",
      "all: 2014-07-22 00:00:00 2024-02-22 00:00:00\n",
      "dataset lengths (existing vs new): 2306, 2417\n",
      "index: 2014-02-24 00:00:00 2024-02-22 00:00:00\n",
      "all: 2014-07-22 00:00:00 2024-02-22 00:00:00\n",
      "dataset lengths (existing vs new): 2306, 2417\n",
      "treas: ^TNX\n"
     ]
    },
    {
     "name": "stderr",
     "output_type": "stream",
     "text": [
      "[*********************100%%**********************]  1 of 1 completed\n",
      "[*********************100%%**********************]  1 of 1 completed\n",
      "[*********************100%%**********************]  1 of 1 completed\n"
     ]
    },
    {
     "name": "stdout",
     "output_type": "stream",
     "text": [
      "all: 2014-07-22 00:00:00 2024-02-22 00:00:00\n",
      "dataset lengths (existing vs new): 2306, 2415\n",
      "treas: ^FVX\n",
      "all: 2014-07-22 00:00:00 2024-02-22 00:00:00\n",
      "dataset lengths (existing vs new): 2305, 2415\n",
      "treas: ARKK\n",
      "all: 2015-03-27 00:00:00 2024-02-22 00:00:00\n",
      "dataset lengths (existing vs new): 2305, 2242\n",
      "treas: IWM\n"
     ]
    },
    {
     "name": "stderr",
     "output_type": "stream",
     "text": [
      "[*********************100%%**********************]  1 of 1 completed\n",
      "[*********************100%%**********************]  1 of 1 completed\n",
      "[*********************100%%**********************]  1 of 1 completed\n"
     ]
    },
    {
     "name": "stdout",
     "output_type": "stream",
     "text": [
      "all: 2015-03-27 00:00:00 2024-02-22 00:00:00\n",
      "dataset lengths (existing vs new): 2139, 2417\n",
      "treas: QQQ\n",
      "all: 2015-03-27 00:00:00 2024-02-22 00:00:00\n",
      "dataset lengths (existing vs new): 2139, 2417\n",
      "treas: AAPL\n",
      "all: 2015-03-27 00:00:00 2024-02-22 00:00:00\n",
      "dataset lengths (existing vs new): 2139, 2417\n"
     ]
    },
    {
     "name": "stderr",
     "output_type": "stream",
     "text": [
      "[*********************100%%**********************]  1 of 1 completed"
     ]
    },
    {
     "name": "stdout",
     "output_type": "stream",
     "text": [
      "  3:1810.HK\n",
      "ticker: 1810.HK\n",
      "range: 2018-11-29 00:00:00 2024-02-23 00:00:00\n"
     ]
    },
    {
     "name": "stderr",
     "output_type": "stream",
     "text": [
      "\n",
      "[*********************100%%**********************]  1 of 1 completed\n",
      "[*********************100%%**********************]  1 of 1 completed\n",
      "[*********************100%%**********************]  1 of 1 completed\n"
     ]
    },
    {
     "name": "stdout",
     "output_type": "stream",
     "text": [
      "index: 2014-02-24 00:00:00 2024-02-22 00:00:00\n",
      "all: 2018-11-29 00:00:00 2024-02-22 00:00:00\n",
      "dataset lengths (existing vs new): 1288, 2417\n",
      "index: 2014-02-24 00:00:00 2024-02-22 00:00:00\n",
      "all: 2018-11-29 00:00:00 2024-02-22 00:00:00\n",
      "dataset lengths (existing vs new): 1252, 2417\n",
      "index: 2014-02-24 00:00:00 2024-02-22 00:00:00\n",
      "all: 2018-11-29 00:00:00 2024-02-22 00:00:00\n",
      "dataset lengths (existing vs new): 1252, 2417\n",
      "treas: ^TNX\n"
     ]
    },
    {
     "name": "stderr",
     "output_type": "stream",
     "text": [
      "[*********************100%%**********************]  1 of 1 completed\n",
      "[*********************100%%**********************]  1 of 1 completed\n",
      "[*********************100%%**********************]  1 of 1 completed\n"
     ]
    },
    {
     "name": "stdout",
     "output_type": "stream",
     "text": [
      "all: 2018-11-29 00:00:00 2024-02-22 00:00:00\n",
      "dataset lengths (existing vs new): 1252, 2415\n",
      "treas: ^FVX\n",
      "all: 2018-11-29 00:00:00 2024-02-22 00:00:00\n",
      "dataset lengths (existing vs new): 1252, 2415\n",
      "treas: ARKK\n",
      "all: 2018-11-29 00:00:00 2024-02-22 00:00:00\n",
      "dataset lengths (existing vs new): 1252, 2242\n",
      "treas: IWM\n"
     ]
    },
    {
     "name": "stderr",
     "output_type": "stream",
     "text": [
      "[*********************100%%**********************]  1 of 1 completed\n",
      "[*********************100%%**********************]  1 of 1 completed\n"
     ]
    },
    {
     "name": "stdout",
     "output_type": "stream",
     "text": [
      "all: 2018-11-29 00:00:00 2024-02-22 00:00:00\n",
      "dataset lengths (existing vs new): 1252, 2417\n",
      "treas: QQQ\n",
      "all: 2018-11-29 00:00:00 2024-02-22 00:00:00\n",
      "dataset lengths (existing vs new): 1252, 2417\n",
      "treas: AAPL\n"
     ]
    },
    {
     "name": "stderr",
     "output_type": "stream",
     "text": [
      "[*********************100%%**********************]  1 of 1 completed\n"
     ]
    },
    {
     "name": "stdout",
     "output_type": "stream",
     "text": [
      "all: 2018-11-29 00:00:00 2024-02-22 00:00:00\n",
      "dataset lengths (existing vs new): 1252, 2417\n",
      "  4:2330.TW\n"
     ]
    },
    {
     "name": "stderr",
     "output_type": "stream",
     "text": [
      "[*********************100%%**********************]  1 of 1 completed\n",
      "[*********************100%%**********************]  1 of 1 completed\n",
      "[*********************100%%**********************]  1 of 1 completed\n"
     ]
    },
    {
     "name": "stdout",
     "output_type": "stream",
     "text": [
      "ticker: 2330.TW\n",
      "range: 2014-07-18 00:00:00 2024-02-23 00:00:00\n",
      "index: 2014-02-24 00:00:00 2024-02-22 00:00:00\n",
      "all: 2014-07-18 00:00:00 2024-02-22 00:00:00\n",
      "dataset lengths (existing vs new): 2341, 2417\n",
      "index: 2014-02-24 00:00:00 2024-02-22 00:00:00\n",
      "all: 2014-07-18 00:00:00 2024-02-22 00:00:00\n",
      "dataset lengths (existing vs new): 2266, 2417\n"
     ]
    },
    {
     "name": "stderr",
     "output_type": "stream",
     "text": [
      "[*********************100%%**********************]  1 of 1 completed\n",
      "[*********************100%%**********************]  1 of 1 completed\n",
      "[*********************100%%**********************]  1 of 1 completed\n"
     ]
    },
    {
     "name": "stdout",
     "output_type": "stream",
     "text": [
      "index: 2014-02-24 00:00:00 2024-02-22 00:00:00\n",
      "all: 2014-07-18 00:00:00 2024-02-22 00:00:00\n",
      "dataset lengths (existing vs new): 2266, 2417\n",
      "treas: ^TNX\n",
      "all: 2014-07-18 00:00:00 2024-02-22 00:00:00\n",
      "dataset lengths (existing vs new): 2266, 2415\n",
      "treas: ^FVX\n",
      "all: 2014-07-18 00:00:00 2024-02-22 00:00:00\n",
      "dataset lengths (existing vs new): 2265, 2415\n",
      "treas: ARKK\n"
     ]
    },
    {
     "name": "stderr",
     "output_type": "stream",
     "text": [
      "[*********************100%%**********************]  1 of 1 completed\n",
      "[*********************100%%**********************]  1 of 1 completed\n",
      "[*********************100%%**********************]  1 of 1 completed\n"
     ]
    },
    {
     "name": "stdout",
     "output_type": "stream",
     "text": [
      "all: 2015-03-27 00:00:00 2024-02-22 00:00:00\n",
      "dataset lengths (existing vs new): 2265, 2242\n",
      "treas: IWM\n",
      "all: 2015-03-27 00:00:00 2024-02-22 00:00:00\n",
      "dataset lengths (existing vs new): 2100, 2417\n",
      "treas: QQQ\n",
      "all: 2015-03-27 00:00:00 2024-02-22 00:00:00\n",
      "dataset lengths (existing vs new): 2100, 2417\n",
      "treas: AAPL\n"
     ]
    },
    {
     "name": "stderr",
     "output_type": "stream",
     "text": [
      "[*********************100%%**********************]  1 of 1 completed\n"
     ]
    },
    {
     "name": "stdout",
     "output_type": "stream",
     "text": [
      "all: 2015-03-27 00:00:00 2024-02-22 00:00:00\n",
      "dataset lengths (existing vs new): 2100, 2417\n"
     ]
    },
    {
     "name": "stderr",
     "output_type": "stream",
     "text": [
      "[*********************100%%**********************]  1 of 1 completed"
     ]
    },
    {
     "name": "stdout",
     "output_type": "stream",
     "text": [
      "  5:2454.TW\n",
      "ticker: 2454.TW\n",
      "range: 2014-07-18 00:00:00 2024-02-23 00:00:00\n"
     ]
    },
    {
     "name": "stderr",
     "output_type": "stream",
     "text": [
      "\n",
      "[*********************100%%**********************]  1 of 1 completed\n",
      "[*********************100%%**********************]  1 of 1 completed\n"
     ]
    },
    {
     "name": "stdout",
     "output_type": "stream",
     "text": [
      "index: 2014-02-24 00:00:00 2024-02-22 00:00:00\n",
      "all: 2014-07-18 00:00:00 2024-02-22 00:00:00\n",
      "dataset lengths (existing vs new): 2341, 2417\n",
      "index: 2014-02-24 00:00:00 2024-02-22 00:00:00\n",
      "all: 2014-07-18 00:00:00 2024-02-22 00:00:00\n",
      "dataset lengths (existing vs new): 2266, 2417\n"
     ]
    },
    {
     "name": "stderr",
     "output_type": "stream",
     "text": [
      "[*********************100%%**********************]  1 of 1 completed\n",
      "[*********************100%%**********************]  1 of 1 completed\n"
     ]
    },
    {
     "name": "stdout",
     "output_type": "stream",
     "text": [
      "index: 2014-02-24 00:00:00 2024-02-22 00:00:00\n",
      "all: 2014-07-18 00:00:00 2024-02-22 00:00:00\n",
      "dataset lengths (existing vs new): 2266, 2417\n",
      "treas: ^TNX\n",
      "all: 2014-07-18 00:00:00 2024-02-22 00:00:00\n",
      "dataset lengths (existing vs new): 2266, 2415\n",
      "treas: ^FVX\n"
     ]
    },
    {
     "name": "stderr",
     "output_type": "stream",
     "text": [
      "[*********************100%%**********************]  1 of 1 completed\n",
      "[*********************100%%**********************]  1 of 1 completed\n"
     ]
    },
    {
     "name": "stdout",
     "output_type": "stream",
     "text": [
      "all: 2014-07-18 00:00:00 2024-02-22 00:00:00\n",
      "dataset lengths (existing vs new): 2265, 2415\n",
      "treas: ARKK\n",
      "all: 2015-03-27 00:00:00 2024-02-22 00:00:00\n",
      "dataset lengths (existing vs new): 2265, 2242\n",
      "treas: IWM\n"
     ]
    },
    {
     "name": "stderr",
     "output_type": "stream",
     "text": [
      "[*********************100%%**********************]  1 of 1 completed\n",
      "[*********************100%%**********************]  1 of 1 completed\n"
     ]
    },
    {
     "name": "stdout",
     "output_type": "stream",
     "text": [
      "all: 2015-03-27 00:00:00 2024-02-22 00:00:00\n",
      "dataset lengths (existing vs new): 2100, 2417\n",
      "treas: QQQ\n",
      "all: 2015-03-27 00:00:00 2024-02-22 00:00:00\n",
      "dataset lengths (existing vs new): 2100, 2417\n",
      "treas: AAPL\n"
     ]
    },
    {
     "name": "stderr",
     "output_type": "stream",
     "text": [
      "[*********************100%%**********************]  1 of 1 completed\n"
     ]
    },
    {
     "name": "stdout",
     "output_type": "stream",
     "text": [
      "all: 2015-03-27 00:00:00 2024-02-22 00:00:00\n",
      "dataset lengths (existing vs new): 2100, 2417\n"
     ]
    },
    {
     "name": "stderr",
     "output_type": "stream",
     "text": [
      "[*********************100%%**********************]  1 of 1 completed"
     ]
    },
    {
     "name": "stdout",
     "output_type": "stream",
     "text": [
      "  6:3668.T\n"
     ]
    },
    {
     "name": "stderr",
     "output_type": "stream",
     "text": [
      "\n",
      "[*********************100%%**********************]  1 of 1 completed\n",
      "[*********************100%%**********************]  1 of 1 completed\n"
     ]
    },
    {
     "name": "stdout",
     "output_type": "stream",
     "text": [
      "ticker: 3668.T\n",
      "range: 2014-07-18 00:00:00 2024-02-22 00:00:00\n",
      "index: 2014-02-24 00:00:00 2024-02-22 00:00:00\n",
      "all: 2014-07-18 00:00:00 2024-02-22 00:00:00\n",
      "dataset lengths (existing vs new): 2366, 2417\n",
      "index: 2014-02-24 00:00:00 2024-02-22 00:00:00\n",
      "all: 2014-07-18 00:00:00 2024-02-22 00:00:00\n",
      "dataset lengths (existing vs new): 2286, 2417\n"
     ]
    },
    {
     "name": "stderr",
     "output_type": "stream",
     "text": [
      "[*********************100%%**********************]  1 of 1 completed\n",
      "[*********************100%%**********************]  1 of 1 completed\n",
      "[*********************100%%**********************]  1 of 1 completed\n"
     ]
    },
    {
     "name": "stdout",
     "output_type": "stream",
     "text": [
      "index: 2014-02-24 00:00:00 2024-02-22 00:00:00\n",
      "all: 2014-07-18 00:00:00 2024-02-22 00:00:00\n",
      "dataset lengths (existing vs new): 2286, 2417\n",
      "treas: ^TNX\n",
      "all: 2014-07-18 00:00:00 2024-02-22 00:00:00\n",
      "dataset lengths (existing vs new): 2286, 2415\n",
      "treas: ^FVX\n",
      "all: 2014-07-18 00:00:00 2024-02-22 00:00:00\n",
      "dataset lengths (existing vs new): 2285, 2415\n",
      "treas: ARKK\n"
     ]
    },
    {
     "name": "stderr",
     "output_type": "stream",
     "text": [
      "[*********************100%%**********************]  1 of 1 completed\n",
      "[*********************100%%**********************]  1 of 1 completed\n",
      "[*********************100%%**********************]  1 of 1 completed\n"
     ]
    },
    {
     "name": "stdout",
     "output_type": "stream",
     "text": [
      "all: 2015-03-27 00:00:00 2024-02-22 00:00:00\n",
      "dataset lengths (existing vs new): 2285, 2242\n",
      "treas: IWM\n",
      "all: 2015-03-27 00:00:00 2024-02-22 00:00:00\n",
      "dataset lengths (existing vs new): 2122, 2417\n",
      "treas: QQQ\n",
      "all: 2015-03-27 00:00:00 2024-02-22 00:00:00\n",
      "dataset lengths (existing vs new): 2122, 2417\n",
      "treas: AAPL\n"
     ]
    },
    {
     "name": "stderr",
     "output_type": "stream",
     "text": [
      "[*********************100%%**********************]  1 of 1 completed\n"
     ]
    },
    {
     "name": "stdout",
     "output_type": "stream",
     "text": [
      "all: 2015-03-27 00:00:00 2024-02-22 00:00:00\n",
      "dataset lengths (existing vs new): 2122, 2417\n"
     ]
    },
    {
     "name": "stderr",
     "output_type": "stream",
     "text": [
      "[*********************100%%**********************]  1 of 1 completed\n",
      "[*********************100%%**********************]  1 of 1 completed"
     ]
    },
    {
     "name": "stdout",
     "output_type": "stream",
     "text": [
      "  7:3690.HK\n",
      "ticker: 3690.HK\n",
      "range: 2019-02-20 00:00:00 2024-02-23 00:00:00\n"
     ]
    },
    {
     "name": "stderr",
     "output_type": "stream",
     "text": [
      "\n",
      "[*********************100%%**********************]  1 of 1 completed\n",
      "[*********************100%%**********************]  1 of 1 completed\n"
     ]
    },
    {
     "name": "stdout",
     "output_type": "stream",
     "text": [
      "index: 2014-02-24 00:00:00 2024-02-22 00:00:00\n",
      "all: 2019-02-20 00:00:00 2024-02-22 00:00:00\n",
      "dataset lengths (existing vs new): 1235, 2417\n",
      "index: 2014-02-24 00:00:00 2024-02-22 00:00:00\n",
      "all: 2019-02-20 00:00:00 2024-02-22 00:00:00\n",
      "dataset lengths (existing vs new): 1202, 2417\n",
      "index: 2014-02-24 00:00:00 2024-02-22 00:00:00\n",
      "all: 2019-02-20 00:00:00 2024-02-22 00:00:00\n",
      "dataset lengths (existing vs new): 1202, 2417\n",
      "treas: ^TNX\n"
     ]
    },
    {
     "name": "stderr",
     "output_type": "stream",
     "text": [
      "[*********************100%%**********************]  1 of 1 completed\n",
      "[*********************100%%**********************]  1 of 1 completed\n",
      "[*********************100%%**********************]  1 of 1 completed\n"
     ]
    },
    {
     "name": "stdout",
     "output_type": "stream",
     "text": [
      "all: 2019-02-20 00:00:00 2024-02-22 00:00:00\n",
      "dataset lengths (existing vs new): 1202, 2415\n",
      "treas: ^FVX\n",
      "all: 2019-02-20 00:00:00 2024-02-22 00:00:00\n",
      "dataset lengths (existing vs new): 1202, 2415\n",
      "treas: ARKK\n",
      "all: 2019-02-20 00:00:00 2024-02-22 00:00:00\n",
      "dataset lengths (existing vs new): 1202, 2242\n",
      "treas: IWM\n"
     ]
    },
    {
     "name": "stderr",
     "output_type": "stream",
     "text": [
      "[*********************100%%**********************]  1 of 1 completed\n",
      "[*********************100%%**********************]  1 of 1 completed\n",
      "[*********************100%%**********************]  1 of 1 completed\n"
     ]
    },
    {
     "name": "stdout",
     "output_type": "stream",
     "text": [
      "all: 2019-02-20 00:00:00 2024-02-22 00:00:00\n",
      "dataset lengths (existing vs new): 1202, 2417\n",
      "treas: QQQ\n",
      "all: 2019-02-20 00:00:00 2024-02-22 00:00:00\n",
      "dataset lengths (existing vs new): 1202, 2417\n",
      "treas: AAPL\n",
      "all: 2019-02-20 00:00:00 2024-02-22 00:00:00\n",
      "dataset lengths (existing vs new): 1202, 2417\n",
      "  8:7832.T\n"
     ]
    },
    {
     "name": "stderr",
     "output_type": "stream",
     "text": [
      "[*********************100%%**********************]  1 of 1 completed\n",
      "[*********************100%%**********************]  1 of 1 completed\n",
      "[*********************100%%**********************]  1 of 1 completed\n",
      "[*********************100%%**********************]  1 of 1 completed"
     ]
    },
    {
     "name": "stdout",
     "output_type": "stream",
     "text": [
      "ticker: 7832.T\n",
      "range: 2014-07-18 00:00:00 2024-02-22 00:00:00\n",
      "index: 2014-02-24 00:00:00 2024-02-22 00:00:00\n",
      "all: 2014-07-18 00:00:00 2024-02-22 00:00:00\n",
      "dataset lengths (existing vs new): 2366, 2417\n",
      "index: 2014-02-24 00:00:00 2024-02-22 00:00:00\n",
      "all: 2014-07-18 00:00:00 2024-02-22 00:00:00\n",
      "dataset lengths (existing vs new): 2286, 2417\n",
      "index: 2014-02-24 00:00:00 2024-02-22 00:00:00\n"
     ]
    },
    {
     "name": "stderr",
     "output_type": "stream",
     "text": [
      "\n",
      "[*********************100%%**********************]  1 of 1 completed\n",
      "[*********************100%%**********************]  1 of 1 completed\n"
     ]
    },
    {
     "name": "stdout",
     "output_type": "stream",
     "text": [
      "all: 2014-07-18 00:00:00 2024-02-22 00:00:00\n",
      "dataset lengths (existing vs new): 2286, 2417\n",
      "treas: ^TNX\n",
      "all: 2014-07-18 00:00:00 2024-02-22 00:00:00\n",
      "dataset lengths (existing vs new): 2286, 2415\n",
      "treas: ^FVX\n",
      "all: 2014-07-18 00:00:00 2024-02-22 00:00:00\n",
      "dataset lengths (existing vs new): 2285, 2415\n",
      "treas: ARKK\n"
     ]
    },
    {
     "name": "stderr",
     "output_type": "stream",
     "text": [
      "[*********************100%%**********************]  1 of 1 completed\n",
      "[*********************100%%**********************]  1 of 1 completed\n",
      "[*********************100%%**********************]  1 of 1 completed\n"
     ]
    },
    {
     "name": "stdout",
     "output_type": "stream",
     "text": [
      "all: 2015-03-27 00:00:00 2024-02-22 00:00:00\n",
      "dataset lengths (existing vs new): 2285, 2242\n",
      "treas: IWM\n",
      "all: 2015-03-27 00:00:00 2024-02-22 00:00:00\n",
      "dataset lengths (existing vs new): 2122, 2417\n",
      "treas: QQQ\n",
      "all: 2015-03-27 00:00:00 2024-02-22 00:00:00\n",
      "dataset lengths (existing vs new): 2122, 2417\n",
      "treas: AAPL\n"
     ]
    },
    {
     "name": "stderr",
     "output_type": "stream",
     "text": [
      "[*********************100%%**********************]  1 of 1 completed\n"
     ]
    },
    {
     "name": "stdout",
     "output_type": "stream",
     "text": [
      "all: 2015-03-27 00:00:00 2024-02-22 00:00:00\n",
      "dataset lengths (existing vs new): 2122, 2417\n",
      "  9:9684.T\n"
     ]
    },
    {
     "name": "stderr",
     "output_type": "stream",
     "text": [
      "[*********************100%%**********************]  1 of 1 completed\n",
      "[*********************100%%**********************]  1 of 1 completed\n",
      "[*********************100%%**********************]  1 of 1 completed\n",
      "[*********************100%%**********************]  1 of 1 completed"
     ]
    },
    {
     "name": "stdout",
     "output_type": "stream",
     "text": [
      "ticker: 9684.T\n",
      "range: 2014-07-18 00:00:00 2024-02-22 00:00:00\n",
      "index: 2014-02-24 00:00:00 2024-02-22 00:00:00\n",
      "all: 2014-07-18 00:00:00 2024-02-22 00:00:00\n",
      "dataset lengths (existing vs new): 2366, 2417\n",
      "index: 2014-02-24 00:00:00 2024-02-22 00:00:00\n",
      "all: 2014-07-18 00:00:00 2024-02-22 00:00:00\n",
      "dataset lengths (existing vs new): 2286, 2417\n",
      "index: 2014-02-24 00:00:00 2024-02-22 00:00:00\n",
      "all: 2014-07-18 00:00:00 2024-02-22 00:00:00\n",
      "dataset lengths (existing vs new): 2286, 2417\n",
      "treas: ^TNX\n"
     ]
    },
    {
     "name": "stderr",
     "output_type": "stream",
     "text": [
      "\n",
      "[*********************100%%**********************]  1 of 1 completed\n",
      "[*********************100%%**********************]  1 of 1 completed\n",
      "[*********************100%%**********************]  1 of 1 completed\n"
     ]
    },
    {
     "name": "stdout",
     "output_type": "stream",
     "text": [
      "all: 2014-07-18 00:00:00 2024-02-22 00:00:00\n",
      "dataset lengths (existing vs new): 2286, 2415\n",
      "treas: ^FVX\n",
      "all: 2014-07-18 00:00:00 2024-02-22 00:00:00\n",
      "dataset lengths (existing vs new): 2285, 2415\n",
      "treas: ARKK\n",
      "all: 2015-03-27 00:00:00 2024-02-22 00:00:00\n",
      "dataset lengths (existing vs new): 2285, 2242\n",
      "treas: IWM\n"
     ]
    },
    {
     "name": "stderr",
     "output_type": "stream",
     "text": [
      "[*********************100%%**********************]  1 of 1 completed\n",
      "[*********************100%%**********************]  1 of 1 completed\n"
     ]
    },
    {
     "name": "stdout",
     "output_type": "stream",
     "text": [
      "all: 2015-03-27 00:00:00 2024-02-22 00:00:00\n",
      "dataset lengths (existing vs new): 2122, 2417\n",
      "treas: QQQ\n",
      "all: 2015-03-27 00:00:00 2024-02-22 00:00:00\n",
      "dataset lengths (existing vs new): 2122, 2417\n",
      "treas: AAPL\n"
     ]
    },
    {
     "name": "stderr",
     "output_type": "stream",
     "text": [
      "[*********************100%%**********************]  1 of 1 completed\n"
     ]
    },
    {
     "name": "stdout",
     "output_type": "stream",
     "text": [
      "all: 2015-03-27 00:00:00 2024-02-22 00:00:00\n",
      "dataset lengths (existing vs new): 2122, 2417\n",
      " 10:9697.T\n"
     ]
    },
    {
     "name": "stderr",
     "output_type": "stream",
     "text": [
      "[*********************100%%**********************]  1 of 1 completed\n"
     ]
    },
    {
     "name": "stdout",
     "output_type": "stream",
     "text": [
      "ticker: 9697.T\n",
      "range: 2014-07-18 00:00:00 2024-02-22 00:00:00\n"
     ]
    },
    {
     "name": "stderr",
     "output_type": "stream",
     "text": [
      "[*********************100%%**********************]  1 of 1 completed\n"
     ]
    },
    {
     "name": "stdout",
     "output_type": "stream",
     "text": [
      "index: 2014-02-24 00:00:00 2024-02-22 00:00:00\n",
      "all: 2014-07-18 00:00:00 2024-02-22 00:00:00\n",
      "dataset lengths (existing vs new): 2366, 2417\n"
     ]
    },
    {
     "name": "stderr",
     "output_type": "stream",
     "text": [
      "[*********************100%%**********************]  1 of 1 completed\n"
     ]
    },
    {
     "name": "stdout",
     "output_type": "stream",
     "text": [
      "index: 2014-02-24 00:00:00 2024-02-22 00:00:00\n",
      "all: 2014-07-18 00:00:00 2024-02-22 00:00:00\n",
      "dataset lengths (existing vs new): 2286, 2417\n"
     ]
    },
    {
     "name": "stderr",
     "output_type": "stream",
     "text": [
      "[*********************100%%**********************]  1 of 1 completed\n"
     ]
    },
    {
     "name": "stdout",
     "output_type": "stream",
     "text": [
      "index: 2014-02-24 00:00:00 2024-02-22 00:00:00\n",
      "all: 2014-07-18 00:00:00 2024-02-22 00:00:00\n",
      "dataset lengths (existing vs new): 2286, 2417\n",
      "treas: ^TNX\n"
     ]
    },
    {
     "name": "stderr",
     "output_type": "stream",
     "text": [
      "[*********************100%%**********************]  1 of 1 completed\n"
     ]
    },
    {
     "name": "stdout",
     "output_type": "stream",
     "text": [
      "all: 2014-07-18 00:00:00 2024-02-22 00:00:00\n",
      "dataset lengths (existing vs new): 2286, 2415\n",
      "treas: ^FVX\n"
     ]
    },
    {
     "name": "stderr",
     "output_type": "stream",
     "text": [
      "[*********************100%%**********************]  1 of 1 completed\n"
     ]
    },
    {
     "name": "stdout",
     "output_type": "stream",
     "text": [
      "all: 2014-07-18 00:00:00 2024-02-22 00:00:00\n",
      "dataset lengths (existing vs new): 2285, 2415\n",
      "treas: ARKK\n"
     ]
    },
    {
     "name": "stderr",
     "output_type": "stream",
     "text": [
      "[*********************100%%**********************]  1 of 1 completed\n",
      "[*********************100%%**********************]  1 of 1 completed\n"
     ]
    },
    {
     "name": "stdout",
     "output_type": "stream",
     "text": [
      "all: 2015-03-27 00:00:00 2024-02-22 00:00:00\n",
      "dataset lengths (existing vs new): 2285, 2242\n",
      "treas: IWM\n",
      "all: 2015-03-27 00:00:00 2024-02-22 00:00:00\n",
      "dataset lengths (existing vs new): 2122, 2417\n",
      "treas: QQQ\n"
     ]
    },
    {
     "name": "stderr",
     "output_type": "stream",
     "text": [
      "[*********************100%%**********************]  1 of 1 completed\n",
      "[*********************100%%**********************]  1 of 1 completed\n"
     ]
    },
    {
     "name": "stdout",
     "output_type": "stream",
     "text": [
      "all: 2015-03-27 00:00:00 2024-02-22 00:00:00\n",
      "dataset lengths (existing vs new): 2122, 2417\n",
      "treas: AAPL\n",
      "all: 2015-03-27 00:00:00 2024-02-22 00:00:00\n",
      "dataset lengths (existing vs new): 2122, 2417\n",
      " 11:9992.HK\n"
     ]
    },
    {
     "name": "stderr",
     "output_type": "stream",
     "text": [
      "[*********************100%%**********************]  1 of 1 completed\n",
      "[*********************100%%**********************]  1 of 1 completed\n",
      "[*********************100%%**********************]  1 of 1 completed\n",
      "[*********************100%%**********************]  1 of 1 completed"
     ]
    },
    {
     "name": "stdout",
     "output_type": "stream",
     "text": [
      "ticker: 9992.HK\n",
      "range: 2021-05-11 00:00:00 2024-02-23 00:00:00\n",
      "index: 2014-02-24 00:00:00 2024-02-22 00:00:00\n",
      "all: 2021-05-11 00:00:00 2024-02-22 00:00:00\n",
      "dataset lengths (existing vs new): 687, 2417\n",
      "index: 2014-02-24 00:00:00 2024-02-22 00:00:00\n",
      "all: 2021-05-11 00:00:00 2024-02-22 00:00:00\n",
      "dataset lengths (existing vs new): 665, 2417\n"
     ]
    },
    {
     "name": "stderr",
     "output_type": "stream",
     "text": [
      "\n",
      "[*********************100%%**********************]  1 of 1 completed\n",
      "[*********************100%%**********************]  1 of 1 completed\n"
     ]
    },
    {
     "name": "stdout",
     "output_type": "stream",
     "text": [
      "index: 2014-02-24 00:00:00 2024-02-22 00:00:00\n",
      "all: 2021-05-11 00:00:00 2024-02-22 00:00:00\n",
      "dataset lengths (existing vs new): 665, 2417\n",
      "treas: ^TNX\n",
      "all: 2021-05-11 00:00:00 2024-02-22 00:00:00\n",
      "dataset lengths (existing vs new): 665, 2415\n",
      "treas: ^FVX\n",
      "all: 2021-05-11 00:00:00 2024-02-22 00:00:00\n",
      "dataset lengths (existing vs new): 665, 2415\n",
      "treas: ARKK\n"
     ]
    },
    {
     "name": "stderr",
     "output_type": "stream",
     "text": [
      "[*********************100%%**********************]  1 of 1 completed\n",
      "[*********************100%%**********************]  1 of 1 completed\n",
      "[*********************100%%**********************]  1 of 1 completed\n"
     ]
    },
    {
     "name": "stdout",
     "output_type": "stream",
     "text": [
      "all: 2021-05-11 00:00:00 2024-02-22 00:00:00\n",
      "dataset lengths (existing vs new): 665, 2242\n",
      "treas: IWM\n",
      "all: 2021-05-11 00:00:00 2024-02-22 00:00:00\n",
      "dataset lengths (existing vs new): 665, 2417\n",
      "treas: QQQ\n",
      "all: 2021-05-11 00:00:00 2024-02-22 00:00:00\n",
      "dataset lengths (existing vs new): 665, 2417\n",
      "treas: AAPL\n"
     ]
    },
    {
     "name": "stderr",
     "output_type": "stream",
     "text": [
      "[*********************100%%**********************]  1 of 1 completed\n"
     ]
    },
    {
     "name": "stdout",
     "output_type": "stream",
     "text": [
      "all: 2021-05-11 00:00:00 2024-02-22 00:00:00\n",
      "dataset lengths (existing vs new): 665, 2417\n"
     ]
    },
    {
     "name": "stderr",
     "output_type": "stream",
     "text": [
      "[*********************100%%**********************]  1 of 1 completed\n",
      "[*********************100%%**********************]  1 of 1 completed"
     ]
    },
    {
     "name": "stdout",
     "output_type": "stream",
     "text": [
      " 12:AAPL\n",
      "ticker: AAPL\n",
      "range: 2014-07-17 00:00:00 2024-02-22 00:00:00\n",
      "index: 2014-02-24 00:00:00 2024-02-22 00:00:00\n"
     ]
    },
    {
     "name": "stderr",
     "output_type": "stream",
     "text": [
      "\n",
      "[*********************100%%**********************]  1 of 1 completed\n",
      "[*********************100%%**********************]  1 of 1 completed\n",
      "[*********************100%%**********************]  1 of 1 completed"
     ]
    },
    {
     "name": "stdout",
     "output_type": "stream",
     "text": [
      "all: 2014-07-17 00:00:00 2024-02-22 00:00:00\n",
      "dataset lengths (existing vs new): 2417, 2417\n",
      "index: 2014-02-24 00:00:00 2024-02-22 00:00:00\n",
      "all: 2014-07-17 00:00:00 2024-02-22 00:00:00\n",
      "dataset lengths (existing vs new): 2417, 2417\n",
      "index: 2014-02-24 00:00:00 2024-02-22 00:00:00\n",
      "all: 2014-07-17 00:00:00 2024-02-22 00:00:00\n",
      "dataset lengths (existing vs new): 2417, 2417\n",
      "treas: ^TNX\n"
     ]
    },
    {
     "name": "stderr",
     "output_type": "stream",
     "text": [
      "\n",
      "[*********************100%%**********************]  1 of 1 completed\n",
      "[*********************100%%**********************]  1 of 1 completed\n"
     ]
    },
    {
     "name": "stdout",
     "output_type": "stream",
     "text": [
      "all: 2014-07-17 00:00:00 2024-02-22 00:00:00\n",
      "dataset lengths (existing vs new): 2417, 2415\n",
      "treas: ^FVX\n",
      "all: 2014-07-17 00:00:00 2024-02-22 00:00:00\n",
      "dataset lengths (existing vs new): 2415, 2415\n",
      "treas: ARKK\n",
      "all: 2015-03-27 00:00:00 2024-02-22 00:00:00\n",
      "dataset lengths (existing vs new): 2415, 2242\n",
      "treas: IWM\n"
     ]
    },
    {
     "name": "stderr",
     "output_type": "stream",
     "text": [
      "[*********************100%%**********************]  1 of 1 completed\n",
      "[*********************100%%**********************]  1 of 1 completed\n"
     ]
    },
    {
     "name": "stdout",
     "output_type": "stream",
     "text": [
      "all: 2015-03-27 00:00:00 2024-02-22 00:00:00\n",
      "dataset lengths (existing vs new): 2240, 2417\n",
      "treas: QQQ\n",
      "all: 2015-03-27 00:00:00 2024-02-22 00:00:00\n",
      "dataset lengths (existing vs new): 2240, 2417\n"
     ]
    },
    {
     "name": "stderr",
     "output_type": "stream",
     "text": [
      "[*********************100%%**********************]  1 of 1 completed"
     ]
    },
    {
     "name": "stdout",
     "output_type": "stream",
     "text": [
      " 13:ACCD\n",
      "ticker: ACCD\n",
      "range: 2020-11-20 00:00:00 2024-02-22 00:00:00\n"
     ]
    },
    {
     "name": "stderr",
     "output_type": "stream",
     "text": [
      "\n",
      "[*********************100%%**********************]  1 of 1 completed\n",
      "[*********************100%%**********************]  1 of 1 completed\n",
      "[*********************100%%**********************]  1 of 1 completed\n",
      "[*********************100%%**********************]  1 of 1 completed\n"
     ]
    },
    {
     "name": "stdout",
     "output_type": "stream",
     "text": [
      "index: 2014-02-24 00:00:00 2024-02-22 00:00:00\n",
      "all: 2020-11-20 00:00:00 2024-02-22 00:00:00\n",
      "dataset lengths (existing vs new): 817, 2417\n",
      "index: 2014-02-24 00:00:00 2024-02-22 00:00:00\n",
      "all: 2020-11-20 00:00:00 2024-02-22 00:00:00\n",
      "dataset lengths (existing vs new): 817, 2417\n",
      "index: 2014-02-24 00:00:00 2024-02-22 00:00:00\n",
      "all: 2020-11-20 00:00:00 2024-02-22 00:00:00\n",
      "dataset lengths (existing vs new): 817, 2417\n",
      "treas: ^TNX\n"
     ]
    },
    {
     "name": "stderr",
     "output_type": "stream",
     "text": [
      "[*********************100%%**********************]  1 of 1 completed\n",
      "[*********************100%%**********************]  1 of 1 completed\n"
     ]
    },
    {
     "name": "stdout",
     "output_type": "stream",
     "text": [
      "all: 2020-11-20 00:00:00 2024-02-22 00:00:00\n",
      "dataset lengths (existing vs new): 817, 2415\n",
      "treas: ^FVX\n",
      "all: 2020-11-20 00:00:00 2024-02-22 00:00:00\n",
      "dataset lengths (existing vs new): 817, 2415\n",
      "treas: ARKK\n",
      "all: 2020-11-20 00:00:00 2024-02-22 00:00:00\n",
      "dataset lengths (existing vs new): 817, 2242\n",
      "treas: IWM\n"
     ]
    },
    {
     "name": "stderr",
     "output_type": "stream",
     "text": [
      "[*********************100%%**********************]  1 of 1 completed\n",
      "[*********************100%%**********************]  1 of 1 completed\n",
      "[*********************100%%**********************]  1 of 1 completed\n"
     ]
    },
    {
     "name": "stdout",
     "output_type": "stream",
     "text": [
      "all: 2020-11-20 00:00:00 2024-02-22 00:00:00\n",
      "dataset lengths (existing vs new): 817, 2417\n",
      "treas: QQQ\n",
      "all: 2020-11-20 00:00:00 2024-02-22 00:00:00\n",
      "dataset lengths (existing vs new): 817, 2417\n",
      "treas: AAPL\n",
      "all: 2020-11-20 00:00:00 2024-02-22 00:00:00\n",
      "dataset lengths (existing vs new): 817, 2417\n",
      " 14:ADBE\n"
     ]
    },
    {
     "name": "stderr",
     "output_type": "stream",
     "text": [
      "[*********************100%%**********************]  1 of 1 completed\n",
      "[*********************100%%**********************]  1 of 1 completed\n",
      "[*********************100%%**********************]  1 of 1 completed\n",
      "[*********************100%%**********************]  1 of 1 completed"
     ]
    },
    {
     "name": "stdout",
     "output_type": "stream",
     "text": [
      "ticker: ADBE\n",
      "range: 2014-07-17 00:00:00 2024-02-22 00:00:00\n",
      "index: 2014-02-24 00:00:00 2024-02-22 00:00:00\n",
      "all: 2014-07-17 00:00:00 2024-02-22 00:00:00\n",
      "dataset lengths (existing vs new): 2417, 2417\n",
      "index: 2014-02-24 00:00:00 2024-02-22 00:00:00\n",
      "all: 2014-07-17 00:00:00 2024-02-22 00:00:00\n",
      "dataset lengths (existing vs new): 2417, 2417\n",
      "index: 2014-02-24 00:00:00 2024-02-22 00:00:00\n"
     ]
    },
    {
     "name": "stderr",
     "output_type": "stream",
     "text": [
      "\n",
      "[*********************100%%**********************]  1 of 1 completed\n",
      "[*********************100%%**********************]  1 of 1 completed\n"
     ]
    },
    {
     "name": "stdout",
     "output_type": "stream",
     "text": [
      "all: 2014-07-17 00:00:00 2024-02-22 00:00:00\n",
      "dataset lengths (existing vs new): 2417, 2417\n",
      "treas: ^TNX\n",
      "all: 2014-07-17 00:00:00 2024-02-22 00:00:00\n",
      "dataset lengths (existing vs new): 2417, 2415\n",
      "treas: ^FVX\n",
      "all: 2014-07-17 00:00:00 2024-02-22 00:00:00\n",
      "dataset lengths (existing vs new): 2415, 2415\n",
      "treas: ARKK\n"
     ]
    },
    {
     "name": "stderr",
     "output_type": "stream",
     "text": [
      "[*********************100%%**********************]  1 of 1 completed\n",
      "[*********************100%%**********************]  1 of 1 completed\n",
      "[*********************100%%**********************]  1 of 1 completed\n"
     ]
    },
    {
     "name": "stdout",
     "output_type": "stream",
     "text": [
      "all: 2015-03-27 00:00:00 2024-02-22 00:00:00\n",
      "dataset lengths (existing vs new): 2415, 2242\n",
      "treas: IWM\n",
      "all: 2015-03-27 00:00:00 2024-02-22 00:00:00\n",
      "dataset lengths (existing vs new): 2240, 2417\n",
      "treas: QQQ\n",
      "all: 2015-03-27 00:00:00 2024-02-22 00:00:00\n",
      "dataset lengths (existing vs new): 2240, 2417\n",
      "treas: AAPL\n"
     ]
    },
    {
     "name": "stderr",
     "output_type": "stream",
     "text": [
      "[*********************100%%**********************]  1 of 1 completed\n"
     ]
    },
    {
     "name": "stdout",
     "output_type": "stream",
     "text": [
      "all: 2015-03-27 00:00:00 2024-02-22 00:00:00\n",
      "dataset lengths (existing vs new): 2240, 2417\n"
     ]
    },
    {
     "name": "stderr",
     "output_type": "stream",
     "text": [
      "[*********************100%%**********************]  1 of 1 completed"
     ]
    },
    {
     "name": "stdout",
     "output_type": "stream",
     "text": [
      " 15:ADE.OL\n",
      "ticker: ADE.OL\n",
      "range: 2019-09-06 00:00:00 2024-02-23 00:00:00\n"
     ]
    },
    {
     "name": "stderr",
     "output_type": "stream",
     "text": [
      "\n",
      "[*********************100%%**********************]  1 of 1 completed\n",
      "[*********************100%%**********************]  1 of 1 completed\n"
     ]
    },
    {
     "name": "stdout",
     "output_type": "stream",
     "text": [
      "index: 2014-02-24 00:00:00 2024-02-22 00:00:00\n",
      "all: 2019-09-06 00:00:00 2024-02-22 00:00:00\n",
      "dataset lengths (existing vs new): 1126, 2417\n",
      "index: 2014-02-24 00:00:00 2024-02-22 00:00:00\n",
      "all: 2019-09-06 00:00:00 2024-02-22 00:00:00\n",
      "dataset lengths (existing vs new): 1096, 2417\n"
     ]
    },
    {
     "name": "stderr",
     "output_type": "stream",
     "text": [
      "[*********************100%%**********************]  1 of 1 completed\n",
      "[*********************100%%**********************]  1 of 1 completed\n"
     ]
    },
    {
     "name": "stdout",
     "output_type": "stream",
     "text": [
      "index: 2014-02-24 00:00:00 2024-02-22 00:00:00\n",
      "all: 2019-09-06 00:00:00 2024-02-22 00:00:00\n",
      "dataset lengths (existing vs new): 1096, 2417\n",
      "treas: ^TNX\n",
      "all: 2019-09-06 00:00:00 2024-02-22 00:00:00\n",
      "dataset lengths (existing vs new): 1096, 2415\n",
      "treas: ^FVX\n"
     ]
    },
    {
     "name": "stderr",
     "output_type": "stream",
     "text": [
      "[*********************100%%**********************]  1 of 1 completed\n",
      "[*********************100%%**********************]  1 of 1 completed"
     ]
    },
    {
     "name": "stdout",
     "output_type": "stream",
     "text": [
      "all: 2019-09-06 00:00:00 2024-02-22 00:00:00\n",
      "dataset lengths (existing vs new): 1096, 2415\n",
      "treas: ARKK\n"
     ]
    },
    {
     "name": "stderr",
     "output_type": "stream",
     "text": [
      "\n",
      "[*********************100%%**********************]  1 of 1 completed\n"
     ]
    },
    {
     "name": "stdout",
     "output_type": "stream",
     "text": [
      "all: 2019-09-06 00:00:00 2024-02-22 00:00:00\n",
      "dataset lengths (existing vs new): 1096, 2242\n",
      "treas: IWM\n",
      "all: 2019-09-06 00:00:00 2024-02-22 00:00:00\n",
      "dataset lengths (existing vs new): 1096, 2417\n",
      "treas: QQQ\n"
     ]
    },
    {
     "name": "stderr",
     "output_type": "stream",
     "text": [
      "[*********************100%%**********************]  1 of 1 completed\n",
      "[*********************100%%**********************]  1 of 1 completed\n"
     ]
    },
    {
     "name": "stdout",
     "output_type": "stream",
     "text": [
      "all: 2019-09-06 00:00:00 2024-02-22 00:00:00\n",
      "dataset lengths (existing vs new): 1096, 2417\n",
      "treas: AAPL\n",
      "all: 2019-09-06 00:00:00 2024-02-22 00:00:00\n",
      "dataset lengths (existing vs new): 1096, 2417\n",
      " 16:ADI\n"
     ]
    },
    {
     "name": "stderr",
     "output_type": "stream",
     "text": [
      "[*********************100%%**********************]  1 of 1 completed\n",
      "[*********************100%%**********************]  1 of 1 completed\n",
      "[*********************100%%**********************]  1 of 1 completed\n",
      "[*********************100%%**********************]  1 of 1 completed"
     ]
    },
    {
     "name": "stdout",
     "output_type": "stream",
     "text": [
      "ticker: ADI\n",
      "range: 2014-07-17 00:00:00 2024-02-22 00:00:00\n",
      "index: 2014-02-24 00:00:00 2024-02-22 00:00:00\n",
      "all: 2014-07-17 00:00:00 2024-02-22 00:00:00\n",
      "dataset lengths (existing vs new): 2417, 2417\n",
      "index: 2014-02-24 00:00:00 2024-02-22 00:00:00\n",
      "all: 2014-07-17 00:00:00 2024-02-22 00:00:00\n",
      "dataset lengths (existing vs new): 2417, 2417\n",
      "index: 2014-02-24 00:00:00 2024-02-22 00:00:00\n"
     ]
    },
    {
     "name": "stderr",
     "output_type": "stream",
     "text": [
      "\n",
      "[*********************100%%**********************]  1 of 1 completed\n",
      "[*********************100%%**********************]  1 of 1 completed\n"
     ]
    },
    {
     "name": "stdout",
     "output_type": "stream",
     "text": [
      "all: 2014-07-17 00:00:00 2024-02-22 00:00:00\n",
      "dataset lengths (existing vs new): 2417, 2417\n",
      "treas: ^TNX\n",
      "all: 2014-07-17 00:00:00 2024-02-22 00:00:00\n",
      "dataset lengths (existing vs new): 2417, 2415\n",
      "treas: ^FVX\n",
      "all: 2014-07-17 00:00:00 2024-02-22 00:00:00\n",
      "dataset lengths (existing vs new): 2415, 2415\n",
      "treas: ARKK\n"
     ]
    },
    {
     "name": "stderr",
     "output_type": "stream",
     "text": [
      "[*********************100%%**********************]  1 of 1 completed\n",
      "[*********************100%%**********************]  1 of 1 completed\n",
      "[*********************100%%**********************]  1 of 1 completed\n"
     ]
    },
    {
     "name": "stdout",
     "output_type": "stream",
     "text": [
      "all: 2015-03-27 00:00:00 2024-02-22 00:00:00\n",
      "dataset lengths (existing vs new): 2415, 2242\n",
      "treas: IWM\n",
      "all: 2015-03-27 00:00:00 2024-02-22 00:00:00\n",
      "dataset lengths (existing vs new): 2240, 2417\n",
      "treas: QQQ\n",
      "all: 2015-03-27 00:00:00 2024-02-22 00:00:00\n",
      "dataset lengths (existing vs new): 2240, 2417\n",
      "treas: AAPL\n"
     ]
    },
    {
     "name": "stderr",
     "output_type": "stream",
     "text": [
      "[*********************100%%**********************]  1 of 1 completed\n"
     ]
    },
    {
     "name": "stdout",
     "output_type": "stream",
     "text": [
      "all: 2015-03-27 00:00:00 2024-02-22 00:00:00\n",
      "dataset lengths (existing vs new): 2240, 2417\n",
      " 17:ADP\n"
     ]
    },
    {
     "name": "stderr",
     "output_type": "stream",
     "text": [
      "[*********************100%%**********************]  1 of 1 completed\n",
      "[*********************100%%**********************]  1 of 1 completed\n",
      "[*********************100%%**********************]  1 of 1 completed\n",
      "[*********************100%%**********************]  1 of 1 completed"
     ]
    },
    {
     "name": "stdout",
     "output_type": "stream",
     "text": [
      "ticker: ADP\n",
      "range: 2014-07-17 00:00:00 2024-02-22 00:00:00\n",
      "index: 2014-02-24 00:00:00 2024-02-22 00:00:00\n",
      "all: 2014-07-17 00:00:00 2024-02-22 00:00:00\n",
      "dataset lengths (existing vs new): 2417, 2417\n",
      "index: 2014-02-24 00:00:00 2024-02-22 00:00:00\n",
      "all: 2014-07-17 00:00:00 2024-02-22 00:00:00\n",
      "dataset lengths (existing vs new): 2417, 2417\n",
      "index: 2014-02-24 00:00:00 2024-02-22 00:00:00\n"
     ]
    },
    {
     "name": "stderr",
     "output_type": "stream",
     "text": [
      "\n",
      "[*********************100%%**********************]  1 of 1 completed\n",
      "[*********************100%%**********************]  1 of 1 completed\n"
     ]
    },
    {
     "name": "stdout",
     "output_type": "stream",
     "text": [
      "all: 2014-07-17 00:00:00 2024-02-22 00:00:00\n",
      "dataset lengths (existing vs new): 2417, 2417\n",
      "treas: ^TNX\n",
      "all: 2014-07-17 00:00:00 2024-02-22 00:00:00\n",
      "dataset lengths (existing vs new): 2417, 2415\n",
      "treas: ^FVX\n",
      "all: 2014-07-17 00:00:00 2024-02-22 00:00:00\n",
      "dataset lengths (existing vs new): 2415, 2415\n",
      "treas: ARKK\n"
     ]
    },
    {
     "name": "stderr",
     "output_type": "stream",
     "text": [
      "[*********************100%%**********************]  1 of 1 completed\n",
      "[*********************100%%**********************]  1 of 1 completed\n",
      "[*********************100%%**********************]  1 of 1 completed\n"
     ]
    },
    {
     "name": "stdout",
     "output_type": "stream",
     "text": [
      "all: 2015-03-27 00:00:00 2024-02-22 00:00:00\n",
      "dataset lengths (existing vs new): 2415, 2242\n",
      "treas: IWM\n",
      "all: 2015-03-27 00:00:00 2024-02-22 00:00:00\n",
      "dataset lengths (existing vs new): 2240, 2417\n",
      "treas: QQQ\n",
      "all: 2015-03-27 00:00:00 2024-02-22 00:00:00\n",
      "dataset lengths (existing vs new): 2240, 2417\n",
      "treas: AAPL\n"
     ]
    },
    {
     "name": "stderr",
     "output_type": "stream",
     "text": [
      "[*********************100%%**********************]  1 of 1 completed\n"
     ]
    },
    {
     "name": "stdout",
     "output_type": "stream",
     "text": [
      "all: 2015-03-27 00:00:00 2024-02-22 00:00:00\n",
      "dataset lengths (existing vs new): 2240, 2417\n"
     ]
    },
    {
     "name": "stderr",
     "output_type": "stream",
     "text": [
      "[*********************100%%**********************]  1 of 1 completed"
     ]
    },
    {
     "name": "stdout",
     "output_type": "stream",
     "text": [
      " 18:ADSK\n",
      "ticker: ADSK\n",
      "range: 2014-07-17 00:00:00 2024-02-22 00:00:00\n"
     ]
    },
    {
     "name": "stderr",
     "output_type": "stream",
     "text": [
      "\n",
      "[*********************100%%**********************]  1 of 1 completed\n",
      "[*********************100%%**********************]  1 of 1 completed\n",
      "[*********************100%%**********************]  1 of 1 completed\n"
     ]
    },
    {
     "name": "stdout",
     "output_type": "stream",
     "text": [
      "index: 2014-02-24 00:00:00 2024-02-22 00:00:00\n",
      "all: 2014-07-17 00:00:00 2024-02-22 00:00:00\n",
      "dataset lengths (existing vs new): 2417, 2417\n",
      "index: 2014-02-24 00:00:00 2024-02-22 00:00:00\n",
      "all: 2014-07-17 00:00:00 2024-02-22 00:00:00\n",
      "dataset lengths (existing vs new): 2417, 2417\n",
      "index: 2014-02-24 00:00:00 2024-02-22 00:00:00\n",
      "all: 2014-07-17 00:00:00 2024-02-22 00:00:00\n",
      "dataset lengths (existing vs new): 2417, 2417\n",
      "treas: ^TNX\n"
     ]
    },
    {
     "name": "stderr",
     "output_type": "stream",
     "text": [
      "[*********************100%%**********************]  1 of 1 completed\n",
      "[*********************100%%**********************]  1 of 1 completed\n",
      "[*********************100%%**********************]  1 of 1 completed\n"
     ]
    },
    {
     "name": "stdout",
     "output_type": "stream",
     "text": [
      "all: 2014-07-17 00:00:00 2024-02-22 00:00:00\n",
      "dataset lengths (existing vs new): 2417, 2415\n",
      "treas: ^FVX\n",
      "all: 2014-07-17 00:00:00 2024-02-22 00:00:00\n",
      "dataset lengths (existing vs new): 2415, 2415\n",
      "treas: ARKK\n",
      "all: 2015-03-27 00:00:00 2024-02-22 00:00:00\n",
      "dataset lengths (existing vs new): 2415, 2242\n",
      "treas: IWM\n"
     ]
    },
    {
     "name": "stderr",
     "output_type": "stream",
     "text": [
      "[*********************100%%**********************]  1 of 1 completed\n",
      "[*********************100%%**********************]  1 of 1 completed\n"
     ]
    },
    {
     "name": "stdout",
     "output_type": "stream",
     "text": [
      "all: 2015-03-27 00:00:00 2024-02-22 00:00:00\n",
      "dataset lengths (existing vs new): 2240, 2417\n",
      "treas: QQQ\n",
      "all: 2015-03-27 00:00:00 2024-02-22 00:00:00\n",
      "dataset lengths (existing vs new): 2240, 2417\n",
      "treas: AAPL\n"
     ]
    },
    {
     "name": "stderr",
     "output_type": "stream",
     "text": [
      "[*********************100%%**********************]  1 of 1 completed\n"
     ]
    },
    {
     "name": "stdout",
     "output_type": "stream",
     "text": [
      "all: 2015-03-27 00:00:00 2024-02-22 00:00:00\n",
      "dataset lengths (existing vs new): 2240, 2417\n",
      " 19:ADYEN.AS\n"
     ]
    },
    {
     "name": "stderr",
     "output_type": "stream",
     "text": [
      "[*********************100%%**********************]  1 of 1 completed\n",
      "[*********************100%%**********************]  1 of 1 completed"
     ]
    },
    {
     "name": "stdout",
     "output_type": "stream",
     "text": [
      "ticker: ADYEN.AS\n",
      "range: 2018-10-31 00:00:00 2024-02-23 00:00:00\n",
      "index: 2014-02-24 00:00:00 2024-02-22 00:00:00\n"
     ]
    },
    {
     "name": "stderr",
     "output_type": "stream",
     "text": [
      "\n"
     ]
    },
    {
     "name": "stdout",
     "output_type": "stream",
     "text": [
      "all: 2018-10-31 00:00:00 2024-02-22 00:00:00\n",
      "dataset lengths (existing vs new): 1363, 2417\n"
     ]
    },
    {
     "name": "stderr",
     "output_type": "stream",
     "text": [
      "[*********************100%%**********************]  1 of 1 completed\n",
      "[*********************100%%**********************]  1 of 1 completed\n",
      "[*********************100%%**********************]  1 of 1 completed\n"
     ]
    },
    {
     "name": "stdout",
     "output_type": "stream",
     "text": [
      "index: 2014-02-24 00:00:00 2024-02-22 00:00:00\n",
      "all: 2018-10-31 00:00:00 2024-02-22 00:00:00\n",
      "dataset lengths (existing vs new): 1324, 2417\n",
      "index: 2014-02-24 00:00:00 2024-02-22 00:00:00\n",
      "all: 2018-10-31 00:00:00 2024-02-22 00:00:00\n",
      "dataset lengths (existing vs new): 1324, 2417\n",
      "treas: ^TNX\n",
      "all: 2018-10-31 00:00:00 2024-02-22 00:00:00\n",
      "dataset lengths (existing vs new): 1324, 2415\n",
      "treas: ^FVX\n"
     ]
    },
    {
     "name": "stderr",
     "output_type": "stream",
     "text": [
      "[*********************100%%**********************]  1 of 1 completed\n"
     ]
    },
    {
     "name": "stdout",
     "output_type": "stream",
     "text": [
      "all: 2018-10-31 00:00:00 2024-02-22 00:00:00\n",
      "dataset lengths (existing vs new): 1324, 2415\n",
      "treas: ARKK\n"
     ]
    },
    {
     "name": "stderr",
     "output_type": "stream",
     "text": [
      "[*********************100%%**********************]  1 of 1 completed\n",
      "[*********************100%%**********************]  1 of 1 completed\n",
      "[*********************100%%**********************]  1 of 1 completed\n"
     ]
    },
    {
     "name": "stdout",
     "output_type": "stream",
     "text": [
      "all: 2018-10-31 00:00:00 2024-02-22 00:00:00\n",
      "dataset lengths (existing vs new): 1324, 2242\n",
      "treas: IWM\n",
      "all: 2018-10-31 00:00:00 2024-02-22 00:00:00\n",
      "dataset lengths (existing vs new): 1324, 2417\n",
      "treas: QQQ\n",
      "all: 2018-10-31 00:00:00 2024-02-22 00:00:00\n",
      "dataset lengths (existing vs new): 1324, 2417\n",
      "treas: AAPL\n"
     ]
    },
    {
     "name": "stderr",
     "output_type": "stream",
     "text": [
      "[*********************100%%**********************]  1 of 1 completed\n"
     ]
    },
    {
     "name": "stdout",
     "output_type": "stream",
     "text": [
      "all: 2018-10-31 00:00:00 2024-02-22 00:00:00\n",
      "dataset lengths (existing vs new): 1324, 2417\n"
     ]
    },
    {
     "name": "stderr",
     "output_type": "stream",
     "text": [
      "[*********************100%%**********************]  1 of 1 completed"
     ]
    },
    {
     "name": "stdout",
     "output_type": "stream",
     "text": [
      " 20:AFRM\n",
      "ticker: AFRM\n",
      "range: 2021-06-08 00:00:00 2024-02-22 00:00:00\n"
     ]
    },
    {
     "name": "stderr",
     "output_type": "stream",
     "text": [
      "\n",
      "[*********************100%%**********************]  1 of 1 completed\n",
      "[*********************100%%**********************]  1 of 1 completed\n"
     ]
    },
    {
     "name": "stdout",
     "output_type": "stream",
     "text": [
      "index: 2014-02-24 00:00:00 2024-02-22 00:00:00\n",
      "all: 2021-06-08 00:00:00 2024-02-22 00:00:00\n",
      "dataset lengths (existing vs new): 682, 2417\n",
      "index: 2014-02-24 00:00:00 2024-02-22 00:00:00\n",
      "all: 2021-06-08 00:00:00 2024-02-22 00:00:00\n",
      "dataset lengths (existing vs new): 682, 2417\n"
     ]
    },
    {
     "name": "stderr",
     "output_type": "stream",
     "text": [
      "[*********************100%%**********************]  1 of 1 completed\n"
     ]
    },
    {
     "name": "stdout",
     "output_type": "stream",
     "text": [
      "index: 2014-02-24 00:00:00 2024-02-22 00:00:00\n",
      "all: 2021-06-08 00:00:00 2024-02-22 00:00:00\n",
      "dataset lengths (existing vs new): 682, 2417\n",
      "treas: ^TNX\n"
     ]
    },
    {
     "name": "stderr",
     "output_type": "stream",
     "text": [
      "[*********************100%%**********************]  1 of 1 completed\n"
     ]
    },
    {
     "name": "stdout",
     "output_type": "stream",
     "text": [
      "all: 2021-06-08 00:00:00 2024-02-22 00:00:00\n",
      "dataset lengths (existing vs new): 682, 2415\n",
      "treas: ^FVX\n"
     ]
    },
    {
     "name": "stderr",
     "output_type": "stream",
     "text": [
      "[*********************100%%**********************]  1 of 1 completed\n",
      "[*********************100%%**********************]  1 of 1 completed\n",
      "[*********************100%%**********************]  1 of 1 completed\n"
     ]
    },
    {
     "name": "stdout",
     "output_type": "stream",
     "text": [
      "all: 2021-06-08 00:00:00 2024-02-22 00:00:00\n",
      "dataset lengths (existing vs new): 682, 2415\n",
      "treas: ARKK\n",
      "all: 2021-06-08 00:00:00 2024-02-22 00:00:00\n",
      "dataset lengths (existing vs new): 682, 2242\n",
      "treas: IWM\n",
      "all: 2021-06-08 00:00:00 2024-02-22 00:00:00\n",
      "dataset lengths (existing vs new): 682, 2417\n",
      "treas: QQQ\n"
     ]
    },
    {
     "name": "stderr",
     "output_type": "stream",
     "text": [
      "[*********************100%%**********************]  1 of 1 completed\n",
      "[*********************100%%**********************]  1 of 1 completed\n"
     ]
    },
    {
     "name": "stdout",
     "output_type": "stream",
     "text": [
      "all: 2021-06-08 00:00:00 2024-02-22 00:00:00\n",
      "dataset lengths (existing vs new): 682, 2417\n",
      "treas: AAPL\n",
      "all: 2021-06-08 00:00:00 2024-02-22 00:00:00\n",
      "dataset lengths (existing vs new): 682, 2417\n"
     ]
    },
    {
     "name": "stderr",
     "output_type": "stream",
     "text": [
      "[*********************100%%**********************]  1 of 1 completed\n",
      "[*********************100%%**********************]  1 of 1 completed"
     ]
    },
    {
     "name": "stdout",
     "output_type": "stream",
     "text": [
      " 21:AI\n",
      "ticker: AI\n",
      "range: 2021-05-05 00:00:00 2024-02-22 00:00:00\n",
      "index: 2014-02-24 00:00:00 2024-02-22 00:00:00\n"
     ]
    },
    {
     "name": "stderr",
     "output_type": "stream",
     "text": [
      "\n",
      "[*********************100%%**********************]  1 of 1 completed\n",
      "[*********************100%%**********************]  1 of 1 completed\n"
     ]
    },
    {
     "name": "stdout",
     "output_type": "stream",
     "text": [
      "all: 2021-05-05 00:00:00 2024-02-22 00:00:00\n",
      "dataset lengths (existing vs new): 705, 2417\n",
      "index: 2014-02-24 00:00:00 2024-02-22 00:00:00\n",
      "all: 2021-05-05 00:00:00 2024-02-22 00:00:00\n",
      "dataset lengths (existing vs new): 705, 2417\n",
      "index: 2014-02-24 00:00:00 2024-02-22 00:00:00\n",
      "all: 2021-05-05 00:00:00 2024-02-22 00:00:00\n",
      "dataset lengths (existing vs new): 705, 2417\n",
      "treas: ^TNX\n"
     ]
    },
    {
     "name": "stderr",
     "output_type": "stream",
     "text": [
      "[*********************100%%**********************]  1 of 1 completed\n",
      "[*********************100%%**********************]  1 of 1 completed\n",
      "[*********************100%%**********************]  1 of 1 completed\n"
     ]
    },
    {
     "name": "stdout",
     "output_type": "stream",
     "text": [
      "all: 2021-05-05 00:00:00 2024-02-22 00:00:00\n",
      "dataset lengths (existing vs new): 705, 2415\n",
      "treas: ^FVX\n",
      "all: 2021-05-05 00:00:00 2024-02-22 00:00:00\n",
      "dataset lengths (existing vs new): 705, 2415\n",
      "treas: ARKK\n",
      "all: 2021-05-05 00:00:00 2024-02-22 00:00:00\n",
      "dataset lengths (existing vs new): 705, 2242\n",
      "treas: IWM\n"
     ]
    },
    {
     "name": "stderr",
     "output_type": "stream",
     "text": [
      "[*********************100%%**********************]  1 of 1 completed\n",
      "[*********************100%%**********************]  1 of 1 completed\n",
      "[*********************100%%**********************]  1 of 1 completed\n"
     ]
    },
    {
     "name": "stdout",
     "output_type": "stream",
     "text": [
      "all: 2021-05-05 00:00:00 2024-02-22 00:00:00\n",
      "dataset lengths (existing vs new): 705, 2417\n",
      "treas: QQQ\n",
      "all: 2021-05-05 00:00:00 2024-02-22 00:00:00\n",
      "dataset lengths (existing vs new): 705, 2417\n",
      "treas: AAPL\n",
      "all: 2021-05-05 00:00:00 2024-02-22 00:00:00\n",
      "dataset lengths (existing vs new): 705, 2417\n"
     ]
    },
    {
     "name": "stderr",
     "output_type": "stream",
     "text": [
      "[*********************100%%**********************]  1 of 1 completed"
     ]
    },
    {
     "name": "stdout",
     "output_type": "stream",
     "text": [
      " 22:AMAT\n",
      "ticker: AMAT\n",
      "range: 2014-07-17 00:00:00 2024-02-22 00:00:00\n"
     ]
    },
    {
     "name": "stderr",
     "output_type": "stream",
     "text": [
      "\n",
      "[*********************100%%**********************]  1 of 1 completed\n",
      "[*********************100%%**********************]  1 of 1 completed\n",
      "[*********************100%%**********************]  1 of 1 completed\n"
     ]
    },
    {
     "name": "stdout",
     "output_type": "stream",
     "text": [
      "index: 2014-02-24 00:00:00 2024-02-22 00:00:00\n",
      "all: 2014-07-17 00:00:00 2024-02-22 00:00:00\n",
      "dataset lengths (existing vs new): 2417, 2417\n",
      "index: 2014-02-24 00:00:00 2024-02-22 00:00:00\n",
      "all: 2014-07-17 00:00:00 2024-02-22 00:00:00\n",
      "dataset lengths (existing vs new): 2417, 2417\n",
      "index: 2014-02-24 00:00:00 2024-02-22 00:00:00\n",
      "all: 2014-07-17 00:00:00 2024-02-22 00:00:00\n",
      "dataset lengths (existing vs new): 2417, 2417\n",
      "treas: ^TNX\n"
     ]
    },
    {
     "name": "stderr",
     "output_type": "stream",
     "text": [
      "[*********************100%%**********************]  1 of 1 completed\n",
      "[*********************100%%**********************]  1 of 1 completed\n",
      "[*********************100%%**********************]  1 of 1 completed\n"
     ]
    },
    {
     "name": "stdout",
     "output_type": "stream",
     "text": [
      "all: 2014-07-17 00:00:00 2024-02-22 00:00:00\n",
      "dataset lengths (existing vs new): 2417, 2415\n",
      "treas: ^FVX\n",
      "all: 2014-07-17 00:00:00 2024-02-22 00:00:00\n",
      "dataset lengths (existing vs new): 2415, 2415\n",
      "treas: ARKK\n",
      "all: 2015-03-27 00:00:00 2024-02-22 00:00:00\n",
      "dataset lengths (existing vs new): 2415, 2242\n",
      "treas: IWM\n"
     ]
    },
    {
     "name": "stderr",
     "output_type": "stream",
     "text": [
      "[*********************100%%**********************]  1 of 1 completed\n",
      "[*********************100%%**********************]  1 of 1 completed\n",
      "[*********************100%%**********************]  1 of 1 completed"
     ]
    },
    {
     "name": "stdout",
     "output_type": "stream",
     "text": [
      "all: 2015-03-27 00:00:00 2024-02-22 00:00:00\n",
      "dataset lengths (existing vs new): 2240, 2417\n",
      "treas: QQQ\n",
      "all: 2015-03-27 00:00:00 2024-02-22 00:00:00\n",
      "dataset lengths (existing vs new): 2240, 2417\n",
      "treas: AAPL\n"
     ]
    },
    {
     "name": "stderr",
     "output_type": "stream",
     "text": [
      "\n"
     ]
    },
    {
     "name": "stdout",
     "output_type": "stream",
     "text": [
      "all: 2015-03-27 00:00:00 2024-02-22 00:00:00\n",
      "dataset lengths (existing vs new): 2240, 2417\n"
     ]
    },
    {
     "name": "stderr",
     "output_type": "stream",
     "text": [
      "[*********************100%%**********************]  1 of 1 completed"
     ]
    },
    {
     "name": "stdout",
     "output_type": "stream",
     "text": [
      " 23:AMBA\n"
     ]
    },
    {
     "name": "stderr",
     "output_type": "stream",
     "text": [
      "\n",
      "[*********************100%%**********************]  1 of 1 completed\n",
      "[*********************100%%**********************]  1 of 1 completed\n",
      "[*********************100%%**********************]  1 of 1 completed"
     ]
    },
    {
     "name": "stdout",
     "output_type": "stream",
     "text": [
      "ticker: AMBA\n",
      "range: 2014-07-17 00:00:00 2024-02-22 00:00:00\n",
      "index: 2014-02-24 00:00:00 2024-02-22 00:00:00\n",
      "all: 2014-07-17 00:00:00 2024-02-22 00:00:00\n",
      "dataset lengths (existing vs new): 2417, 2417\n",
      "index: 2014-02-24 00:00:00 2024-02-22 00:00:00\n",
      "all: 2014-07-17 00:00:00 2024-02-22 00:00:00\n",
      "dataset lengths (existing vs new): 2417, 2417\n",
      "index: 2014-02-24 00:00:00 2024-02-22 00:00:00\n"
     ]
    },
    {
     "name": "stderr",
     "output_type": "stream",
     "text": [
      "\n",
      "[*********************100%%**********************]  1 of 1 completed\n",
      "[*********************100%%**********************]  1 of 1 completed\n"
     ]
    },
    {
     "name": "stdout",
     "output_type": "stream",
     "text": [
      "all: 2014-07-17 00:00:00 2024-02-22 00:00:00\n",
      "dataset lengths (existing vs new): 2417, 2417\n",
      "treas: ^TNX\n",
      "all: 2014-07-17 00:00:00 2024-02-22 00:00:00\n",
      "dataset lengths (existing vs new): 2417, 2415\n",
      "treas: ^FVX\n",
      "all: 2014-07-17 00:00:00 2024-02-22 00:00:00\n",
      "dataset lengths (existing vs new): 2415, 2415\n",
      "treas: ARKK\n"
     ]
    },
    {
     "name": "stderr",
     "output_type": "stream",
     "text": [
      "[*********************100%%**********************]  1 of 1 completed\n"
     ]
    },
    {
     "name": "stdout",
     "output_type": "stream",
     "text": [
      "all: 2015-03-27 00:00:00 2024-02-22 00:00:00\n",
      "dataset lengths (existing vs new): 2415, 2242\n",
      "treas: IWM\n"
     ]
    },
    {
     "name": "stderr",
     "output_type": "stream",
     "text": [
      "[*********************100%%**********************]  1 of 1 completed\n",
      "[*********************100%%**********************]  1 of 1 completed\n",
      "[*********************100%%**********************]  1 of 1 completed\n"
     ]
    },
    {
     "name": "stdout",
     "output_type": "stream",
     "text": [
      "all: 2015-03-27 00:00:00 2024-02-22 00:00:00\n",
      "dataset lengths (existing vs new): 2240, 2417\n",
      "treas: QQQ\n",
      "all: 2015-03-27 00:00:00 2024-02-22 00:00:00\n",
      "dataset lengths (existing vs new): 2240, 2417\n",
      "treas: AAPL\n",
      "all: 2015-03-27 00:00:00 2024-02-22 00:00:00\n",
      "dataset lengths (existing vs new): 2240, 2417\n",
      " 24:AMD\n"
     ]
    },
    {
     "name": "stderr",
     "output_type": "stream",
     "text": [
      "[*********************100%%**********************]  1 of 1 completed\n",
      "[*********************100%%**********************]  1 of 1 completed\n"
     ]
    },
    {
     "name": "stdout",
     "output_type": "stream",
     "text": [
      "ticker: AMD\n",
      "range: 2014-07-17 00:00:00 2024-02-22 00:00:00\n",
      "index: 2014-02-24 00:00:00 2024-02-22 00:00:00\n",
      "all: 2014-07-17 00:00:00 2024-02-22 00:00:00\n",
      "dataset lengths (existing vs new): 2417, 2417\n"
     ]
    },
    {
     "name": "stderr",
     "output_type": "stream",
     "text": [
      "[*********************100%%**********************]  1 of 1 completed\n",
      "[*********************100%%**********************]  1 of 1 completed\n",
      "[*********************100%%**********************]  1 of 1 completed\n"
     ]
    },
    {
     "name": "stdout",
     "output_type": "stream",
     "text": [
      "index: 2014-02-24 00:00:00 2024-02-22 00:00:00\n",
      "all: 2014-07-17 00:00:00 2024-02-22 00:00:00\n",
      "dataset lengths (existing vs new): 2417, 2417\n",
      "index: 2014-02-24 00:00:00 2024-02-22 00:00:00\n",
      "all: 2014-07-17 00:00:00 2024-02-22 00:00:00\n",
      "dataset lengths (existing vs new): 2417, 2417\n",
      "treas: ^TNX\n",
      "all: 2014-07-17 00:00:00 2024-02-22 00:00:00\n",
      "dataset lengths (existing vs new): 2417, 2415\n",
      "treas: ^FVX\n"
     ]
    },
    {
     "name": "stderr",
     "output_type": "stream",
     "text": [
      "[*********************100%%**********************]  1 of 1 completed\n",
      "[*********************100%%**********************]  1 of 1 completed"
     ]
    },
    {
     "name": "stdout",
     "output_type": "stream",
     "text": [
      "all: 2014-07-17 00:00:00 2024-02-22 00:00:00\n",
      "dataset lengths (existing vs new): 2415, 2415\n",
      "treas: ARKK\n"
     ]
    },
    {
     "name": "stderr",
     "output_type": "stream",
     "text": [
      "\n",
      "[*********************100%%**********************]  1 of 1 completed\n",
      "[*********************100%%**********************]  1 of 1 completed\n"
     ]
    },
    {
     "name": "stdout",
     "output_type": "stream",
     "text": [
      "all: 2015-03-27 00:00:00 2024-02-22 00:00:00\n",
      "dataset lengths (existing vs new): 2415, 2242\n",
      "treas: IWM\n",
      "all: 2015-03-27 00:00:00 2024-02-22 00:00:00\n",
      "dataset lengths (existing vs new): 2240, 2417\n",
      "treas: QQQ\n",
      "all: 2015-03-27 00:00:00 2024-02-22 00:00:00\n",
      "dataset lengths (existing vs new): 2240, 2417\n",
      "treas: AAPL\n"
     ]
    },
    {
     "name": "stderr",
     "output_type": "stream",
     "text": [
      "[*********************100%%**********************]  1 of 1 completed\n"
     ]
    },
    {
     "name": "stdout",
     "output_type": "stream",
     "text": [
      "all: 2015-03-27 00:00:00 2024-02-22 00:00:00\n",
      "dataset lengths (existing vs new): 2240, 2417\n",
      " 25:AMZN\n"
     ]
    },
    {
     "name": "stderr",
     "output_type": "stream",
     "text": [
      "[*********************100%%**********************]  1 of 1 completed\n",
      "[*********************100%%**********************]  1 of 1 completed\n",
      "[*********************100%%**********************]  1 of 1 completed\n"
     ]
    },
    {
     "name": "stdout",
     "output_type": "stream",
     "text": [
      "ticker: AMZN\n",
      "range: 2014-07-17 00:00:00 2024-02-22 00:00:00\n",
      "index: 2014-02-24 00:00:00 2024-02-22 00:00:00\n",
      "all: 2014-07-17 00:00:00 2024-02-22 00:00:00\n",
      "dataset lengths (existing vs new): 2417, 2417\n",
      "index: 2014-02-24 00:00:00 2024-02-22 00:00:00\n",
      "all: 2014-07-17 00:00:00 2024-02-22 00:00:00\n",
      "dataset lengths (existing vs new): 2417, 2417\n"
     ]
    },
    {
     "name": "stderr",
     "output_type": "stream",
     "text": [
      "[*********************100%%**********************]  1 of 1 completed\n"
     ]
    },
    {
     "name": "stdout",
     "output_type": "stream",
     "text": [
      "index: 2014-02-24 00:00:00 2024-02-22 00:00:00\n",
      "all: 2014-07-17 00:00:00 2024-02-22 00:00:00\n",
      "dataset lengths (existing vs new): 2417, 2417\n",
      "treas: ^TNX\n"
     ]
    },
    {
     "name": "stderr",
     "output_type": "stream",
     "text": [
      "[*********************100%%**********************]  1 of 1 completed\n"
     ]
    },
    {
     "name": "stdout",
     "output_type": "stream",
     "text": [
      "all: 2014-07-17 00:00:00 2024-02-22 00:00:00\n",
      "dataset lengths (existing vs new): 2417, 2415\n",
      "treas: ^FVX\n"
     ]
    },
    {
     "name": "stderr",
     "output_type": "stream",
     "text": [
      "[*********************100%%**********************]  1 of 1 completed\n",
      "[*********************100%%**********************]  1 of 1 completed\n",
      "[*********************100%%**********************]  1 of 1 completed\n"
     ]
    },
    {
     "name": "stdout",
     "output_type": "stream",
     "text": [
      "all: 2014-07-17 00:00:00 2024-02-22 00:00:00\n",
      "dataset lengths (existing vs new): 2415, 2415\n",
      "treas: ARKK\n",
      "all: 2015-03-27 00:00:00 2024-02-22 00:00:00\n",
      "dataset lengths (existing vs new): 2415, 2242\n",
      "treas: IWM\n",
      "all: 2015-03-27 00:00:00 2024-02-22 00:00:00\n",
      "dataset lengths (existing vs new): 2240, 2417\n",
      "treas: QQQ\n"
     ]
    },
    {
     "name": "stderr",
     "output_type": "stream",
     "text": [
      "[*********************100%%**********************]  1 of 1 completed\n",
      "[*********************100%%**********************]  1 of 1 completed\n"
     ]
    },
    {
     "name": "stdout",
     "output_type": "stream",
     "text": [
      "all: 2015-03-27 00:00:00 2024-02-22 00:00:00\n",
      "dataset lengths (existing vs new): 2240, 2417\n",
      "treas: AAPL\n",
      "all: 2015-03-27 00:00:00 2024-02-22 00:00:00\n",
      "dataset lengths (existing vs new): 2240, 2417\n"
     ]
    },
    {
     "name": "stderr",
     "output_type": "stream",
     "text": [
      "[*********************100%%**********************]  1 of 1 completed"
     ]
    },
    {
     "name": "stdout",
     "output_type": "stream",
     "text": [
      " 26:ANET\n"
     ]
    },
    {
     "name": "stderr",
     "output_type": "stream",
     "text": [
      "\n",
      "[*********************100%%**********************]  1 of 1 completed\n",
      "[*********************100%%**********************]  1 of 1 completed\n",
      "[*********************100%%**********************]  1 of 1 completed"
     ]
    },
    {
     "name": "stdout",
     "output_type": "stream",
     "text": [
      "ticker: ANET\n",
      "range: 2014-10-28 00:00:00 2024-02-22 00:00:00\n",
      "index: 2014-02-24 00:00:00 2024-02-22 00:00:00\n",
      "all: 2014-10-28 00:00:00 2024-02-22 00:00:00\n",
      "dataset lengths (existing vs new): 2345, 2417\n",
      "index: 2014-02-24 00:00:00 2024-02-22 00:00:00\n",
      "all: 2014-10-28 00:00:00 2024-02-22 00:00:00\n",
      "dataset lengths (existing vs new): 2345, 2417\n",
      "index: 2014-02-24 00:00:00 2024-02-22 00:00:00\n"
     ]
    },
    {
     "name": "stderr",
     "output_type": "stream",
     "text": [
      "\n",
      "[*********************100%%**********************]  1 of 1 completed\n",
      "[*********************100%%**********************]  1 of 1 completed\n"
     ]
    },
    {
     "name": "stdout",
     "output_type": "stream",
     "text": [
      "all: 2014-10-28 00:00:00 2024-02-22 00:00:00\n",
      "dataset lengths (existing vs new): 2345, 2417\n",
      "treas: ^TNX\n",
      "all: 2014-10-28 00:00:00 2024-02-22 00:00:00\n",
      "dataset lengths (existing vs new): 2345, 2415\n",
      "treas: ^FVX\n",
      "all: 2014-10-28 00:00:00 2024-02-22 00:00:00\n",
      "dataset lengths (existing vs new): 2343, 2415\n",
      "treas: ARKK\n"
     ]
    },
    {
     "name": "stderr",
     "output_type": "stream",
     "text": [
      "[*********************100%%**********************]  1 of 1 completed\n",
      "[*********************100%%**********************]  1 of 1 completed\n",
      "[*********************100%%**********************]  1 of 1 completed\n"
     ]
    },
    {
     "name": "stdout",
     "output_type": "stream",
     "text": [
      "all: 2015-03-27 00:00:00 2024-02-22 00:00:00\n",
      "dataset lengths (existing vs new): 2343, 2242\n",
      "treas: IWM\n",
      "all: 2015-03-27 00:00:00 2024-02-22 00:00:00\n",
      "dataset lengths (existing vs new): 2240, 2417\n",
      "treas: QQQ\n",
      "all: 2015-03-27 00:00:00 2024-02-22 00:00:00\n",
      "dataset lengths (existing vs new): 2240, 2417\n",
      "treas: AAPL\n"
     ]
    },
    {
     "name": "stderr",
     "output_type": "stream",
     "text": [
      "[*********************100%%**********************]  1 of 1 completed\n"
     ]
    },
    {
     "name": "stdout",
     "output_type": "stream",
     "text": [
      "all: 2015-03-27 00:00:00 2024-02-22 00:00:00\n",
      "dataset lengths (existing vs new): 2240, 2417\n"
     ]
    },
    {
     "name": "stderr",
     "output_type": "stream",
     "text": [
      "[*********************100%%**********************]  1 of 1 completed"
     ]
    },
    {
     "name": "stdout",
     "output_type": "stream",
     "text": [
      " 27:ARKK\n",
      "ticker: ARKK\n",
      "range: 2015-03-27 00:00:00 2024-02-22 00:00:00\n"
     ]
    },
    {
     "name": "stderr",
     "output_type": "stream",
     "text": [
      "\n",
      "[*********************100%%**********************]  1 of 1 completed\n",
      "[*********************100%%**********************]  1 of 1 completed\n",
      "[*********************100%%**********************]  1 of 1 completed\n"
     ]
    },
    {
     "name": "stdout",
     "output_type": "stream",
     "text": [
      "index: 2014-02-24 00:00:00 2024-02-22 00:00:00\n",
      "all: 2015-03-27 00:00:00 2024-02-22 00:00:00\n",
      "dataset lengths (existing vs new): 2242, 2417\n",
      "index: 2014-02-24 00:00:00 2024-02-22 00:00:00\n",
      "all: 2015-03-27 00:00:00 2024-02-22 00:00:00\n",
      "dataset lengths (existing vs new): 2242, 2417\n",
      "index: 2014-02-24 00:00:00 2024-02-22 00:00:00\n",
      "all: 2015-03-27 00:00:00 2024-02-22 00:00:00\n",
      "dataset lengths (existing vs new): 2242, 2417\n",
      "treas: ^TNX\n"
     ]
    },
    {
     "name": "stderr",
     "output_type": "stream",
     "text": [
      "[*********************100%%**********************]  1 of 1 completed\n",
      "[*********************100%%**********************]  1 of 1 completed\n"
     ]
    },
    {
     "name": "stdout",
     "output_type": "stream",
     "text": [
      "all: 2015-03-27 00:00:00 2024-02-22 00:00:00\n",
      "dataset lengths (existing vs new): 2242, 2415\n",
      "treas: ^FVX\n",
      "all: 2015-03-27 00:00:00 2024-02-22 00:00:00\n",
      "dataset lengths (existing vs new): 2240, 2415\n",
      "treas: IWM\n"
     ]
    },
    {
     "name": "stderr",
     "output_type": "stream",
     "text": [
      "[*********************100%%**********************]  1 of 1 completed\n",
      "[*********************100%%**********************]  1 of 1 completed\n",
      "[*********************100%%**********************]  1 of 1 completed\n"
     ]
    },
    {
     "name": "stdout",
     "output_type": "stream",
     "text": [
      "all: 2015-03-27 00:00:00 2024-02-22 00:00:00\n",
      "dataset lengths (existing vs new): 2240, 2417\n",
      "treas: QQQ\n",
      "all: 2015-03-27 00:00:00 2024-02-22 00:00:00\n",
      "dataset lengths (existing vs new): 2240, 2417\n",
      "treas: AAPL\n",
      "all: 2015-03-27 00:00:00 2024-02-22 00:00:00\n",
      "dataset lengths (existing vs new): 2240, 2417\n",
      " 28:ARRY\n"
     ]
    },
    {
     "name": "stderr",
     "output_type": "stream",
     "text": [
      "[*********************100%%**********************]  1 of 1 completed\n",
      "[*********************100%%**********************]  1 of 1 completed\n"
     ]
    },
    {
     "name": "stdout",
     "output_type": "stream",
     "text": [
      "ticker: ARRY\n",
      "range: 2021-03-11 00:00:00 2024-02-22 00:00:00\n",
      "index: 2014-02-24 00:00:00 2024-02-22 00:00:00\n",
      "all: 2021-03-11 00:00:00 2024-02-22 00:00:00\n",
      "dataset lengths (existing vs new): 743, 2417\n"
     ]
    },
    {
     "name": "stderr",
     "output_type": "stream",
     "text": [
      "[*********************100%%**********************]  1 of 1 completed\n",
      "[*********************100%%**********************]  1 of 1 completed\n",
      "[*********************100%%**********************]  1 of 1 completed\n"
     ]
    },
    {
     "name": "stdout",
     "output_type": "stream",
     "text": [
      "index: 2014-02-24 00:00:00 2024-02-22 00:00:00\n",
      "all: 2021-03-11 00:00:00 2024-02-22 00:00:00\n",
      "dataset lengths (existing vs new): 743, 2417\n",
      "index: 2014-02-24 00:00:00 2024-02-22 00:00:00\n",
      "all: 2021-03-11 00:00:00 2024-02-22 00:00:00\n",
      "dataset lengths (existing vs new): 743, 2417\n",
      "treas: ^TNX\n",
      "all: 2021-03-11 00:00:00 2024-02-22 00:00:00\n",
      "dataset lengths (existing vs new): 743, 2415\n",
      "treas: ^FVX\n"
     ]
    },
    {
     "name": "stderr",
     "output_type": "stream",
     "text": [
      "[*********************100%%**********************]  1 of 1 completed\n",
      "[*********************100%%**********************]  1 of 1 completed"
     ]
    },
    {
     "name": "stdout",
     "output_type": "stream",
     "text": [
      "all: 2021-03-11 00:00:00 2024-02-22 00:00:00\n",
      "dataset lengths (existing vs new): 743, 2415\n",
      "treas: ARKK\n"
     ]
    },
    {
     "name": "stderr",
     "output_type": "stream",
     "text": [
      "\n",
      "[*********************100%%**********************]  1 of 1 completed\n",
      "[*********************100%%**********************]  1 of 1 completed\n"
     ]
    },
    {
     "name": "stdout",
     "output_type": "stream",
     "text": [
      "all: 2021-03-11 00:00:00 2024-02-22 00:00:00\n",
      "dataset lengths (existing vs new): 743, 2242\n",
      "treas: IWM\n",
      "all: 2021-03-11 00:00:00 2024-02-22 00:00:00\n",
      "dataset lengths (existing vs new): 743, 2417\n",
      "treas: QQQ\n",
      "all: 2021-03-11 00:00:00 2024-02-22 00:00:00\n",
      "dataset lengths (existing vs new): 743, 2417\n",
      "treas: AAPL\n"
     ]
    },
    {
     "name": "stderr",
     "output_type": "stream",
     "text": [
      "[*********************100%%**********************]  1 of 1 completed\n"
     ]
    },
    {
     "name": "stdout",
     "output_type": "stream",
     "text": [
      "all: 2021-03-11 00:00:00 2024-02-22 00:00:00\n",
      "dataset lengths (existing vs new): 743, 2417\n"
     ]
    },
    {
     "name": "stderr",
     "output_type": "stream",
     "text": [
      "[*********************100%%**********************]  1 of 1 completed"
     ]
    },
    {
     "name": "stdout",
     "output_type": "stream",
     "text": [
      " 29:ASAN\n",
      "ticker: ASAN\n",
      "range: 2021-02-24 00:00:00 2024-02-22 00:00:00\n"
     ]
    },
    {
     "name": "stderr",
     "output_type": "stream",
     "text": [
      "\n",
      "[*********************100%%**********************]  1 of 1 completed\n",
      "[*********************100%%**********************]  1 of 1 completed\n",
      "[*********************100%%**********************]  1 of 1 completed\n"
     ]
    },
    {
     "name": "stdout",
     "output_type": "stream",
     "text": [
      "index: 2014-02-24 00:00:00 2024-02-22 00:00:00\n",
      "all: 2021-02-24 00:00:00 2024-02-22 00:00:00\n",
      "dataset lengths (existing vs new): 754, 2417\n",
      "index: 2014-02-24 00:00:00 2024-02-22 00:00:00\n",
      "all: 2021-02-24 00:00:00 2024-02-22 00:00:00\n",
      "dataset lengths (existing vs new): 754, 2417\n",
      "index: 2014-02-24 00:00:00 2024-02-22 00:00:00\n",
      "all: 2021-02-24 00:00:00 2024-02-22 00:00:00\n",
      "dataset lengths (existing vs new): 754, 2417\n",
      "treas: ^TNX\n"
     ]
    },
    {
     "name": "stderr",
     "output_type": "stream",
     "text": [
      "[*********************100%%**********************]  1 of 1 completed\n",
      "[*********************100%%**********************]  1 of 1 completed\n",
      "[*********************100%%**********************]  1 of 1 completed\n"
     ]
    },
    {
     "name": "stdout",
     "output_type": "stream",
     "text": [
      "all: 2021-02-24 00:00:00 2024-02-22 00:00:00\n",
      "dataset lengths (existing vs new): 754, 2415\n",
      "treas: ^FVX\n",
      "all: 2021-02-24 00:00:00 2024-02-22 00:00:00\n",
      "dataset lengths (existing vs new): 754, 2415\n",
      "treas: ARKK\n",
      "all: 2021-02-24 00:00:00 2024-02-22 00:00:00\n",
      "dataset lengths (existing vs new): 754, 2242\n",
      "treas: IWM\n"
     ]
    },
    {
     "name": "stderr",
     "output_type": "stream",
     "text": [
      "[*********************100%%**********************]  1 of 1 completed\n",
      "[*********************100%%**********************]  1 of 1 completed\n",
      "[*********************100%%**********************]  1 of 1 completed\n"
     ]
    },
    {
     "name": "stdout",
     "output_type": "stream",
     "text": [
      "all: 2021-02-24 00:00:00 2024-02-22 00:00:00\n",
      "dataset lengths (existing vs new): 754, 2417\n",
      "treas: QQQ\n",
      "all: 2021-02-24 00:00:00 2024-02-22 00:00:00\n",
      "dataset lengths (existing vs new): 754, 2417\n",
      "treas: AAPL\n",
      "all: 2021-02-24 00:00:00 2024-02-22 00:00:00\n",
      "dataset lengths (existing vs new): 754, 2417\n",
      " 30:ASML\n"
     ]
    },
    {
     "name": "stderr",
     "output_type": "stream",
     "text": [
      "[*********************100%%**********************]  1 of 1 completed\n",
      "[*********************100%%**********************]  1 of 1 completed\n",
      "[*********************100%%**********************]  1 of 1 completed\n"
     ]
    },
    {
     "name": "stdout",
     "output_type": "stream",
     "text": [
      "ticker: ASML\n",
      "range: 2014-07-17 00:00:00 2024-02-22 00:00:00\n",
      "index: 2014-02-24 00:00:00 2024-02-22 00:00:00\n",
      "all: 2014-07-17 00:00:00 2024-02-22 00:00:00\n",
      "dataset lengths (existing vs new): 2417, 2417\n",
      "index: 2014-02-24 00:00:00 2024-02-22 00:00:00\n",
      "all: 2014-07-17 00:00:00 2024-02-22 00:00:00\n",
      "dataset lengths (existing vs new): 2417, 2417\n"
     ]
    },
    {
     "name": "stderr",
     "output_type": "stream",
     "text": [
      "[*********************100%%**********************]  1 of 1 completed\n"
     ]
    },
    {
     "name": "stdout",
     "output_type": "stream",
     "text": [
      "index: 2014-02-24 00:00:00 2024-02-22 00:00:00\n",
      "all: 2014-07-17 00:00:00 2024-02-22 00:00:00\n",
      "dataset lengths (existing vs new): 2417, 2417\n",
      "treas: ^TNX\n"
     ]
    },
    {
     "name": "stderr",
     "output_type": "stream",
     "text": [
      "[*********************100%%**********************]  1 of 1 completed\n"
     ]
    },
    {
     "name": "stdout",
     "output_type": "stream",
     "text": [
      "all: 2014-07-17 00:00:00 2024-02-22 00:00:00\n",
      "dataset lengths (existing vs new): 2417, 2415\n",
      "treas: ^FVX\n"
     ]
    },
    {
     "name": "stderr",
     "output_type": "stream",
     "text": [
      "[*********************100%%**********************]  1 of 1 completed\n",
      "[*********************100%%**********************]  1 of 1 completed\n",
      "[*********************100%%**********************]  1 of 1 completed\n"
     ]
    },
    {
     "name": "stdout",
     "output_type": "stream",
     "text": [
      "all: 2014-07-17 00:00:00 2024-02-22 00:00:00\n",
      "dataset lengths (existing vs new): 2415, 2415\n",
      "treas: ARKK\n",
      "all: 2015-03-27 00:00:00 2024-02-22 00:00:00\n",
      "dataset lengths (existing vs new): 2415, 2242\n",
      "treas: IWM\n",
      "all: 2015-03-27 00:00:00 2024-02-22 00:00:00\n",
      "dataset lengths (existing vs new): 2240, 2417\n",
      "treas: QQQ\n"
     ]
    },
    {
     "name": "stderr",
     "output_type": "stream",
     "text": [
      "[*********************100%%**********************]  1 of 1 completed\n",
      "[*********************100%%**********************]  1 of 1 completed\n"
     ]
    },
    {
     "name": "stdout",
     "output_type": "stream",
     "text": [
      "all: 2015-03-27 00:00:00 2024-02-22 00:00:00\n",
      "dataset lengths (existing vs new): 2240, 2417\n",
      "treas: AAPL\n",
      "all: 2015-03-27 00:00:00 2024-02-22 00:00:00\n",
      "dataset lengths (existing vs new): 2240, 2417\n",
      " 31:ATER\n"
     ]
    },
    {
     "name": "stderr",
     "output_type": "stream",
     "text": [
      "[*********************100%%**********************]  1 of 1 completed\n",
      "[*********************100%%**********************]  1 of 1 completed\n",
      "[*********************100%%**********************]  1 of 1 completed\n"
     ]
    },
    {
     "name": "stdout",
     "output_type": "stream",
     "text": [
      "ticker: ATER\n",
      "range: 2019-11-01 00:00:00 2024-02-22 00:00:00\n",
      "index: 2014-02-24 00:00:00 2024-02-22 00:00:00\n",
      "all: 2019-11-01 00:00:00 2024-02-22 00:00:00\n",
      "dataset lengths (existing vs new): 1083, 2417\n",
      "index: 2014-02-24 00:00:00 2024-02-22 00:00:00\n",
      "all: 2019-11-01 00:00:00 2024-02-22 00:00:00\n",
      "dataset lengths (existing vs new): 1083, 2417\n"
     ]
    },
    {
     "name": "stderr",
     "output_type": "stream",
     "text": [
      "[*********************100%%**********************]  1 of 1 completed\n",
      "[*********************100%%**********************]  1 of 1 completed\n",
      "[*********************100%%**********************]  1 of 1 completed\n"
     ]
    },
    {
     "name": "stdout",
     "output_type": "stream",
     "text": [
      "index: 2014-02-24 00:00:00 2024-02-22 00:00:00\n",
      "all: 2019-11-01 00:00:00 2024-02-22 00:00:00\n",
      "dataset lengths (existing vs new): 1083, 2417\n",
      "treas: ^TNX\n",
      "all: 2019-11-01 00:00:00 2024-02-22 00:00:00\n",
      "dataset lengths (existing vs new): 1083, 2415\n",
      "treas: ^FVX\n",
      "all: 2019-11-01 00:00:00 2024-02-22 00:00:00\n",
      "dataset lengths (existing vs new): 1083, 2415\n",
      "treas: ARKK\n"
     ]
    },
    {
     "name": "stderr",
     "output_type": "stream",
     "text": [
      "[*********************100%%**********************]  1 of 1 completed\n",
      "[*********************100%%**********************]  1 of 1 completed\n",
      "[*********************100%%**********************]  1 of 1 completed\n"
     ]
    },
    {
     "name": "stdout",
     "output_type": "stream",
     "text": [
      "all: 2019-11-01 00:00:00 2024-02-22 00:00:00\n",
      "dataset lengths (existing vs new): 1083, 2242\n",
      "treas: IWM\n",
      "all: 2019-11-01 00:00:00 2024-02-22 00:00:00\n",
      "dataset lengths (existing vs new): 1083, 2417\n",
      "treas: QQQ\n",
      "all: 2019-11-01 00:00:00 2024-02-22 00:00:00\n",
      "dataset lengths (existing vs new): 1083, 2417\n",
      "treas: AAPL\n"
     ]
    },
    {
     "name": "stderr",
     "output_type": "stream",
     "text": [
      "[*********************100%%**********************]  1 of 1 completed\n"
     ]
    },
    {
     "name": "stdout",
     "output_type": "stream",
     "text": [
      "all: 2019-11-01 00:00:00 2024-02-22 00:00:00\n",
      "dataset lengths (existing vs new): 1083, 2417\n",
      " 32:ATZ.TO\n"
     ]
    },
    {
     "name": "stderr",
     "output_type": "stream",
     "text": [
      "[*********************100%%**********************]  1 of 1 completed\n",
      "[*********************100%%**********************]  1 of 1 completed\n",
      "[*********************100%%**********************]  1 of 1 completed\n"
     ]
    },
    {
     "name": "stdout",
     "output_type": "stream",
     "text": [
      "ticker: ATZ.TO\n",
      "range: 2017-02-27 00:00:00 2024-02-22 00:00:00\n",
      "index: 2014-02-24 00:00:00 2024-02-22 00:00:00\n",
      "all: 2017-02-27 00:00:00 2024-02-22 00:00:00\n",
      "dataset lengths (existing vs new): 1754, 2417\n",
      "index: 2014-02-24 00:00:00 2024-02-22 00:00:00\n",
      "all: 2017-02-27 00:00:00 2024-02-22 00:00:00\n",
      "dataset lengths (existing vs new): 1722, 2417\n"
     ]
    },
    {
     "name": "stderr",
     "output_type": "stream",
     "text": [
      "[*********************100%%**********************]  1 of 1 completed\n",
      "[*********************100%%**********************]  1 of 1 completed\n",
      "[*********************100%%**********************]  1 of 1 completed\n"
     ]
    },
    {
     "name": "stdout",
     "output_type": "stream",
     "text": [
      "index: 2014-02-24 00:00:00 2024-02-22 00:00:00\n",
      "all: 2017-02-27 00:00:00 2024-02-22 00:00:00\n",
      "dataset lengths (existing vs new): 1722, 2417\n",
      "treas: ^TNX\n",
      "all: 2017-02-27 00:00:00 2024-02-22 00:00:00\n",
      "dataset lengths (existing vs new): 1722, 2415\n",
      "treas: ^FVX\n",
      "all: 2017-02-27 00:00:00 2024-02-22 00:00:00\n",
      "dataset lengths (existing vs new): 1722, 2415\n",
      "treas: ARKK\n"
     ]
    },
    {
     "name": "stderr",
     "output_type": "stream",
     "text": [
      "[*********************100%%**********************]  1 of 1 completed\n",
      "[*********************100%%**********************]  1 of 1 completed\n"
     ]
    },
    {
     "name": "stdout",
     "output_type": "stream",
     "text": [
      "all: 2017-02-27 00:00:00 2024-02-22 00:00:00\n",
      "dataset lengths (existing vs new): 1722, 2242\n",
      "treas: IWM\n",
      "all: 2017-02-27 00:00:00 2024-02-22 00:00:00\n",
      "dataset lengths (existing vs new): 1722, 2417\n",
      "treas: QQQ\n"
     ]
    },
    {
     "name": "stderr",
     "output_type": "stream",
     "text": [
      "[*********************100%%**********************]  1 of 1 completed\n",
      "[*********************100%%**********************]  1 of 1 completed\n"
     ]
    },
    {
     "name": "stdout",
     "output_type": "stream",
     "text": [
      "all: 2017-02-27 00:00:00 2024-02-22 00:00:00\n",
      "dataset lengths (existing vs new): 1722, 2417\n",
      "treas: AAPL\n",
      "all: 2017-02-27 00:00:00 2024-02-22 00:00:00\n",
      "dataset lengths (existing vs new): 1722, 2417\n"
     ]
    },
    {
     "name": "stderr",
     "output_type": "stream",
     "text": [
      "[*********************100%%**********************]  1 of 1 completed"
     ]
    },
    {
     "name": "stdout",
     "output_type": "stream",
     "text": [
      " 33:AVAV\n",
      "ticker: AVAV\n",
      "range: 2014-07-17 00:00:00 2024-02-22 00:00:00\n"
     ]
    },
    {
     "name": "stderr",
     "output_type": "stream",
     "text": [
      "\n",
      "[*********************100%%**********************]  1 of 1 completed\n"
     ]
    },
    {
     "name": "stdout",
     "output_type": "stream",
     "text": [
      "index: 2014-02-24 00:00:00 2024-02-22 00:00:00\n",
      "all: 2014-07-17 00:00:00 2024-02-22 00:00:00\n",
      "dataset lengths (existing vs new): 2417, 2417\n"
     ]
    },
    {
     "name": "stderr",
     "output_type": "stream",
     "text": [
      "[*********************100%%**********************]  1 of 1 completed\n",
      "[*********************100%%**********************]  1 of 1 completed\n",
      "[*********************100%%**********************]  1 of 1 completed\n"
     ]
    },
    {
     "name": "stdout",
     "output_type": "stream",
     "text": [
      "index: 2014-02-24 00:00:00 2024-02-22 00:00:00\n",
      "all: 2014-07-17 00:00:00 2024-02-22 00:00:00\n",
      "dataset lengths (existing vs new): 2417, 2417\n",
      "index: 2014-02-24 00:00:00 2024-02-22 00:00:00\n",
      "all: 2014-07-17 00:00:00 2024-02-22 00:00:00\n",
      "dataset lengths (existing vs new): 2417, 2417\n",
      "treas: ^TNX\n",
      "all: 2014-07-17 00:00:00 2024-02-22 00:00:00\n",
      "dataset lengths (existing vs new): 2417, 2415\n",
      "treas: ^FVX\n"
     ]
    },
    {
     "name": "stderr",
     "output_type": "stream",
     "text": [
      "[*********************100%%**********************]  1 of 1 completed\n"
     ]
    },
    {
     "name": "stdout",
     "output_type": "stream",
     "text": [
      "all: 2014-07-17 00:00:00 2024-02-22 00:00:00\n",
      "dataset lengths (existing vs new): 2415, 2415\n",
      "treas: ARKK\n"
     ]
    },
    {
     "name": "stderr",
     "output_type": "stream",
     "text": [
      "[*********************100%%**********************]  1 of 1 completed\n",
      "[*********************100%%**********************]  1 of 1 completed\n",
      "[*********************100%%**********************]  1 of 1 completed\n"
     ]
    },
    {
     "name": "stdout",
     "output_type": "stream",
     "text": [
      "all: 2015-03-27 00:00:00 2024-02-22 00:00:00\n",
      "dataset lengths (existing vs new): 2415, 2242\n",
      "treas: IWM\n",
      "all: 2015-03-27 00:00:00 2024-02-22 00:00:00\n",
      "dataset lengths (existing vs new): 2240, 2417\n",
      "treas: QQQ\n",
      "all: 2015-03-27 00:00:00 2024-02-22 00:00:00\n",
      "dataset lengths (existing vs new): 2240, 2417\n",
      "treas: AAPL\n"
     ]
    },
    {
     "name": "stderr",
     "output_type": "stream",
     "text": [
      "[*********************100%%**********************]  1 of 1 completed\n"
     ]
    },
    {
     "name": "stdout",
     "output_type": "stream",
     "text": [
      "all: 2015-03-27 00:00:00 2024-02-22 00:00:00\n",
      "dataset lengths (existing vs new): 2240, 2417\n",
      " 34:AVGO\n"
     ]
    },
    {
     "name": "stderr",
     "output_type": "stream",
     "text": [
      "[*********************100%%**********************]  1 of 1 completed\n",
      "[*********************100%%**********************]  1 of 1 completed\n",
      "[*********************100%%**********************]  1 of 1 completed\n"
     ]
    },
    {
     "name": "stdout",
     "output_type": "stream",
     "text": [
      "ticker: AVGO\n",
      "range: 2014-07-17 00:00:00 2024-02-22 00:00:00\n",
      "index: 2014-02-24 00:00:00 2024-02-22 00:00:00\n",
      "all: 2014-07-17 00:00:00 2024-02-22 00:00:00\n",
      "dataset lengths (existing vs new): 2417, 2417\n",
      "index: 2014-02-24 00:00:00 2024-02-22 00:00:00\n",
      "all: 2014-07-17 00:00:00 2024-02-22 00:00:00\n",
      "dataset lengths (existing vs new): 2417, 2417\n"
     ]
    },
    {
     "name": "stderr",
     "output_type": "stream",
     "text": [
      "[*********************100%%**********************]  1 of 1 completed\n"
     ]
    },
    {
     "name": "stdout",
     "output_type": "stream",
     "text": [
      "index: 2014-02-24 00:00:00 2024-02-22 00:00:00\n",
      "all: 2014-07-17 00:00:00 2024-02-22 00:00:00\n",
      "dataset lengths (existing vs new): 2417, 2417\n",
      "treas: ^TNX\n"
     ]
    },
    {
     "name": "stderr",
     "output_type": "stream",
     "text": [
      "[*********************100%%**********************]  1 of 1 completed\n"
     ]
    },
    {
     "name": "stdout",
     "output_type": "stream",
     "text": [
      "all: 2014-07-17 00:00:00 2024-02-22 00:00:00\n",
      "dataset lengths (existing vs new): 2417, 2415\n",
      "treas: ^FVX\n"
     ]
    },
    {
     "name": "stderr",
     "output_type": "stream",
     "text": [
      "[*********************100%%**********************]  1 of 1 completed\n",
      "[*********************100%%**********************]  1 of 1 completed\n",
      "[*********************100%%**********************]  1 of 1 completed\n"
     ]
    },
    {
     "name": "stdout",
     "output_type": "stream",
     "text": [
      "all: 2014-07-17 00:00:00 2024-02-22 00:00:00\n",
      "dataset lengths (existing vs new): 2415, 2415\n",
      "treas: ARKK\n",
      "all: 2015-03-27 00:00:00 2024-02-22 00:00:00\n",
      "dataset lengths (existing vs new): 2415, 2242\n",
      "treas: IWM\n",
      "all: 2015-03-27 00:00:00 2024-02-22 00:00:00\n",
      "dataset lengths (existing vs new): 2240, 2417\n",
      "treas: QQQ\n"
     ]
    },
    {
     "name": "stderr",
     "output_type": "stream",
     "text": [
      "[*********************100%%**********************]  1 of 1 completed\n",
      "[*********************100%%**********************]  1 of 1 completed\n"
     ]
    },
    {
     "name": "stdout",
     "output_type": "stream",
     "text": [
      "all: 2015-03-27 00:00:00 2024-02-22 00:00:00\n",
      "dataset lengths (existing vs new): 2240, 2417\n",
      "treas: AAPL\n",
      "all: 2015-03-27 00:00:00 2024-02-22 00:00:00\n",
      "dataset lengths (existing vs new): 2240, 2417\n",
      " 35:AYX\n"
     ]
    },
    {
     "name": "stderr",
     "output_type": "stream",
     "text": [
      "[*********************100%%**********************]  1 of 1 completed\n",
      "[*********************100%%**********************]  1 of 1 completed\n",
      "[*********************100%%**********************]  1 of 1 completed\n"
     ]
    },
    {
     "name": "stdout",
     "output_type": "stream",
     "text": [
      "ticker: AYX\n",
      "range: 2017-08-16 00:00:00 2024-02-22 00:00:00\n",
      "index: 2014-02-24 00:00:00 2024-02-22 00:00:00\n",
      "all: 2017-08-16 00:00:00 2024-02-22 00:00:00\n",
      "dataset lengths (existing vs new): 1640, 2417\n",
      "index: 2014-02-24 00:00:00 2024-02-22 00:00:00\n",
      "all: 2017-08-16 00:00:00 2024-02-22 00:00:00\n",
      "dataset lengths (existing vs new): 1640, 2417\n"
     ]
    },
    {
     "name": "stderr",
     "output_type": "stream",
     "text": [
      "[*********************100%%**********************]  1 of 1 completed\n",
      "[*********************100%%**********************]  1 of 1 completed\n",
      "[*********************100%%**********************]  1 of 1 completed\n"
     ]
    },
    {
     "name": "stdout",
     "output_type": "stream",
     "text": [
      "index: 2014-02-24 00:00:00 2024-02-22 00:00:00\n",
      "all: 2017-08-16 00:00:00 2024-02-22 00:00:00\n",
      "dataset lengths (existing vs new): 1640, 2417\n",
      "treas: ^TNX\n",
      "all: 2017-08-16 00:00:00 2024-02-22 00:00:00\n",
      "dataset lengths (existing vs new): 1640, 2415\n",
      "treas: ^FVX\n",
      "all: 2017-08-16 00:00:00 2024-02-22 00:00:00\n",
      "dataset lengths (existing vs new): 1640, 2415\n",
      "treas: ARKK\n"
     ]
    },
    {
     "name": "stderr",
     "output_type": "stream",
     "text": [
      "[*********************100%%**********************]  1 of 1 completed\n",
      "[*********************100%%**********************]  1 of 1 completed\n",
      "[*********************100%%**********************]  1 of 1 completed\n"
     ]
    },
    {
     "name": "stdout",
     "output_type": "stream",
     "text": [
      "all: 2017-08-16 00:00:00 2024-02-22 00:00:00\n",
      "dataset lengths (existing vs new): 1640, 2242\n",
      "treas: IWM\n",
      "all: 2017-08-16 00:00:00 2024-02-22 00:00:00\n",
      "dataset lengths (existing vs new): 1640, 2417\n",
      "treas: QQQ\n",
      "all: 2017-08-16 00:00:00 2024-02-22 00:00:00\n",
      "dataset lengths (existing vs new): 1640, 2417\n",
      "treas: AAPL\n"
     ]
    },
    {
     "name": "stderr",
     "output_type": "stream",
     "text": [
      "[*********************100%%**********************]  1 of 1 completed\n"
     ]
    },
    {
     "name": "stdout",
     "output_type": "stream",
     "text": [
      "all: 2017-08-16 00:00:00 2024-02-22 00:00:00\n",
      "dataset lengths (existing vs new): 1640, 2417\n"
     ]
    },
    {
     "name": "stderr",
     "output_type": "stream",
     "text": [
      "[*********************100%%**********************]  1 of 1 completed"
     ]
    },
    {
     "name": "stdout",
     "output_type": "stream",
     "text": [
      " 36:BABA\n",
      "ticker: BABA\n",
      "range: 2015-02-12 00:00:00 2024-02-22 00:00:00\n"
     ]
    },
    {
     "name": "stderr",
     "output_type": "stream",
     "text": [
      "\n",
      "[*********************100%%**********************]  1 of 1 completed\n",
      "[*********************100%%**********************]  1 of 1 completed\n",
      "[*********************100%%**********************]  1 of 1 completed\n"
     ]
    },
    {
     "name": "stdout",
     "output_type": "stream",
     "text": [
      "index: 2014-02-24 00:00:00 2024-02-22 00:00:00\n",
      "all: 2015-02-12 00:00:00 2024-02-22 00:00:00\n",
      "dataset lengths (existing vs new): 2272, 2417\n",
      "index: 2014-02-24 00:00:00 2024-02-22 00:00:00\n",
      "all: 2015-02-12 00:00:00 2024-02-22 00:00:00\n",
      "dataset lengths (existing vs new): 2272, 2417\n",
      "index: 2014-02-24 00:00:00 2024-02-22 00:00:00\n",
      "all: 2015-02-12 00:00:00 2024-02-22 00:00:00\n",
      "dataset lengths (existing vs new): 2272, 2417\n",
      "treas: ^TNX\n"
     ]
    },
    {
     "name": "stderr",
     "output_type": "stream",
     "text": [
      "[*********************100%%**********************]  1 of 1 completed\n",
      "[*********************100%%**********************]  1 of 1 completed\n",
      "[*********************100%%**********************]  1 of 1 completed\n"
     ]
    },
    {
     "name": "stdout",
     "output_type": "stream",
     "text": [
      "all: 2015-02-12 00:00:00 2024-02-22 00:00:00\n",
      "dataset lengths (existing vs new): 2272, 2415\n",
      "treas: ^FVX\n",
      "all: 2015-02-12 00:00:00 2024-02-22 00:00:00\n",
      "dataset lengths (existing vs new): 2270, 2415\n",
      "treas: ARKK\n",
      "all: 2015-03-27 00:00:00 2024-02-22 00:00:00\n",
      "dataset lengths (existing vs new): 2270, 2242\n",
      "treas: IWM\n"
     ]
    },
    {
     "name": "stderr",
     "output_type": "stream",
     "text": [
      "[*********************100%%**********************]  1 of 1 completed\n",
      "[*********************100%%**********************]  1 of 1 completed\n",
      "[*********************100%%**********************]  1 of 1 completed\n"
     ]
    },
    {
     "name": "stdout",
     "output_type": "stream",
     "text": [
      "all: 2015-03-27 00:00:00 2024-02-22 00:00:00\n",
      "dataset lengths (existing vs new): 2240, 2417\n",
      "treas: QQQ\n",
      "all: 2015-03-27 00:00:00 2024-02-22 00:00:00\n",
      "dataset lengths (existing vs new): 2240, 2417\n",
      "treas: AAPL\n",
      "all: 2015-03-27 00:00:00 2024-02-22 00:00:00\n",
      "dataset lengths (existing vs new): 2240, 2417\n"
     ]
    },
    {
     "name": "stderr",
     "output_type": "stream",
     "text": [
      "[*********************100%%**********************]  1 of 1 completed"
     ]
    },
    {
     "name": "stdout",
     "output_type": "stream",
     "text": [
      " 37:BB\n",
      "ticker: BB\n",
      "range: 2014-07-17 00:00:00 2024-02-22 00:00:00\n"
     ]
    },
    {
     "name": "stderr",
     "output_type": "stream",
     "text": [
      "\n",
      "[*********************100%%**********************]  1 of 1 completed\n",
      "[*********************100%%**********************]  1 of 1 completed\n"
     ]
    },
    {
     "name": "stdout",
     "output_type": "stream",
     "text": [
      "index: 2014-02-24 00:00:00 2024-02-22 00:00:00\n",
      "all: 2014-07-17 00:00:00 2024-02-22 00:00:00\n",
      "dataset lengths (existing vs new): 2417, 2417\n",
      "index: 2014-02-24 00:00:00 2024-02-22 00:00:00\n",
      "all: 2014-07-17 00:00:00 2024-02-22 00:00:00\n",
      "dataset lengths (existing vs new): 2417, 2417\n"
     ]
    },
    {
     "name": "stderr",
     "output_type": "stream",
     "text": [
      "[*********************100%%**********************]  1 of 1 completed\n",
      "[*********************100%%**********************]  1 of 1 completed\n",
      "[*********************100%%**********************]  1 of 1 completed\n"
     ]
    },
    {
     "name": "stdout",
     "output_type": "stream",
     "text": [
      "index: 2014-02-24 00:00:00 2024-02-22 00:00:00\n",
      "all: 2014-07-17 00:00:00 2024-02-22 00:00:00\n",
      "dataset lengths (existing vs new): 2417, 2417\n",
      "treas: ^TNX\n",
      "all: 2014-07-17 00:00:00 2024-02-22 00:00:00\n",
      "dataset lengths (existing vs new): 2417, 2415\n",
      "treas: ^FVX\n",
      "all: 2014-07-17 00:00:00 2024-02-22 00:00:00\n",
      "dataset lengths (existing vs new): 2415, 2415\n",
      "treas: ARKK\n"
     ]
    },
    {
     "name": "stderr",
     "output_type": "stream",
     "text": [
      "[*********************100%%**********************]  1 of 1 completed\n",
      "[*********************100%%**********************]  1 of 1 completed\n"
     ]
    },
    {
     "name": "stdout",
     "output_type": "stream",
     "text": [
      "all: 2015-03-27 00:00:00 2024-02-22 00:00:00\n",
      "dataset lengths (existing vs new): 2415, 2242\n",
      "treas: IWM\n",
      "all: 2015-03-27 00:00:00 2024-02-22 00:00:00\n",
      "dataset lengths (existing vs new): 2240, 2417\n",
      "treas: QQQ\n"
     ]
    },
    {
     "name": "stderr",
     "output_type": "stream",
     "text": [
      "[*********************100%%**********************]  1 of 1 completed\n"
     ]
    },
    {
     "name": "stdout",
     "output_type": "stream",
     "text": [
      "all: 2015-03-27 00:00:00 2024-02-22 00:00:00\n",
      "dataset lengths (existing vs new): 2240, 2417\n",
      "treas: AAPL\n"
     ]
    },
    {
     "name": "stderr",
     "output_type": "stream",
     "text": [
      "[*********************100%%**********************]  1 of 1 completed\n"
     ]
    },
    {
     "name": "stdout",
     "output_type": "stream",
     "text": [
      "all: 2015-03-27 00:00:00 2024-02-22 00:00:00\n",
      "dataset lengths (existing vs new): 2240, 2417\n",
      " 38:BBD-B.TO\n"
     ]
    },
    {
     "name": "stderr",
     "output_type": "stream",
     "text": [
      "[*********************100%%**********************]  1 of 1 completed\n",
      "[*********************100%%**********************]  1 of 1 completed\n",
      "[*********************100%%**********************]  1 of 1 completed\n"
     ]
    },
    {
     "name": "stdout",
     "output_type": "stream",
     "text": [
      "ticker: BBD-B.TO\n",
      "range: 2014-07-17 00:00:00 2024-02-22 00:00:00\n",
      "index: 2014-02-24 00:00:00 2024-02-22 00:00:00\n",
      "all: 2014-07-17 00:00:00 2024-02-22 00:00:00\n",
      "dataset lengths (existing vs new): 2409, 2417\n",
      "index: 2014-02-24 00:00:00 2024-02-22 00:00:00\n",
      "all: 2014-07-17 00:00:00 2024-02-22 00:00:00\n",
      "dataset lengths (existing vs new): 2367, 2417\n"
     ]
    },
    {
     "name": "stderr",
     "output_type": "stream",
     "text": [
      "[*********************100%%**********************]  1 of 1 completed\n",
      "[*********************100%%**********************]  1 of 1 completed\n"
     ]
    },
    {
     "name": "stdout",
     "output_type": "stream",
     "text": [
      "index: 2014-02-24 00:00:00 2024-02-22 00:00:00\n",
      "all: 2014-07-17 00:00:00 2024-02-22 00:00:00\n",
      "dataset lengths (existing vs new): 2367, 2417\n",
      "treas: ^TNX\n",
      "all: 2014-07-17 00:00:00 2024-02-22 00:00:00\n",
      "dataset lengths (existing vs new): 2367, 2415\n",
      "treas: ^FVX\n"
     ]
    },
    {
     "name": "stderr",
     "output_type": "stream",
     "text": [
      "[*********************100%%**********************]  1 of 1 completed\n",
      "[*********************100%%**********************]  1 of 1 completed\n",
      "[*********************100%%**********************]  1 of 1 completed\n"
     ]
    },
    {
     "name": "stdout",
     "output_type": "stream",
     "text": [
      "all: 2014-07-17 00:00:00 2024-02-22 00:00:00\n",
      "dataset lengths (existing vs new): 2366, 2415\n",
      "treas: ARKK\n",
      "all: 2015-03-27 00:00:00 2024-02-22 00:00:00\n",
      "dataset lengths (existing vs new): 2366, 2242\n",
      "treas: IWM\n",
      "all: 2015-03-27 00:00:00 2024-02-22 00:00:00\n",
      "dataset lengths (existing vs new): 2194, 2417\n",
      "treas: QQQ\n"
     ]
    },
    {
     "name": "stderr",
     "output_type": "stream",
     "text": [
      "[*********************100%%**********************]  1 of 1 completed\n",
      "[*********************100%%**********************]  1 of 1 completed\n"
     ]
    },
    {
     "name": "stdout",
     "output_type": "stream",
     "text": [
      "all: 2015-03-27 00:00:00 2024-02-22 00:00:00\n",
      "dataset lengths (existing vs new): 2194, 2417\n",
      "treas: AAPL\n",
      "all: 2015-03-27 00:00:00 2024-02-22 00:00:00\n",
      "dataset lengths (existing vs new): 2194, 2417\n",
      " 39:BEAM\n"
     ]
    },
    {
     "name": "stderr",
     "output_type": "stream",
     "text": [
      "[*********************100%%**********************]  1 of 1 completed\n",
      "[*********************100%%**********************]  1 of 1 completed\n",
      "[*********************100%%**********************]  1 of 1 completed\n"
     ]
    },
    {
     "name": "stdout",
     "output_type": "stream",
     "text": [
      "ticker: BEAM\n",
      "range: 2020-06-30 00:00:00 2024-02-22 00:00:00\n",
      "index: 2014-02-24 00:00:00 2024-02-22 00:00:00\n",
      "all: 2020-06-30 00:00:00 2024-02-22 00:00:00\n",
      "dataset lengths (existing vs new): 918, 2417\n",
      "index: 2014-02-24 00:00:00 2024-02-22 00:00:00\n",
      "all: 2020-06-30 00:00:00 2024-02-22 00:00:00\n",
      "dataset lengths (existing vs new): 918, 2417\n"
     ]
    },
    {
     "name": "stderr",
     "output_type": "stream",
     "text": [
      "[*********************100%%**********************]  1 of 1 completed\n",
      "[*********************100%%**********************]  1 of 1 completed\n"
     ]
    },
    {
     "name": "stdout",
     "output_type": "stream",
     "text": [
      "index: 2014-02-24 00:00:00 2024-02-22 00:00:00\n",
      "all: 2020-06-30 00:00:00 2024-02-22 00:00:00\n",
      "dataset lengths (existing vs new): 918, 2417\n",
      "treas: ^TNX\n",
      "all: 2020-06-30 00:00:00 2024-02-22 00:00:00\n",
      "dataset lengths (existing vs new): 918, 2415\n",
      "treas: ^FVX\n"
     ]
    },
    {
     "name": "stderr",
     "output_type": "stream",
     "text": [
      "[*********************100%%**********************]  1 of 1 completed\n",
      "[*********************100%%**********************]  1 of 1 completed\n",
      "[*********************100%%**********************]  1 of 1 completed\n"
     ]
    },
    {
     "name": "stdout",
     "output_type": "stream",
     "text": [
      "all: 2020-06-30 00:00:00 2024-02-22 00:00:00\n",
      "dataset lengths (existing vs new): 918, 2415\n",
      "treas: ARKK\n",
      "all: 2020-06-30 00:00:00 2024-02-22 00:00:00\n",
      "dataset lengths (existing vs new): 918, 2242\n",
      "treas: IWM\n",
      "all: 2020-06-30 00:00:00 2024-02-22 00:00:00\n",
      "dataset lengths (existing vs new): 918, 2417\n",
      "treas: QQQ\n"
     ]
    },
    {
     "name": "stderr",
     "output_type": "stream",
     "text": [
      "[*********************100%%**********************]  1 of 1 completed\n",
      "[*********************100%%**********************]  1 of 1 completed\n"
     ]
    },
    {
     "name": "stdout",
     "output_type": "stream",
     "text": [
      "all: 2020-06-30 00:00:00 2024-02-22 00:00:00\n",
      "dataset lengths (existing vs new): 918, 2417\n",
      "treas: AAPL\n",
      "all: 2020-06-30 00:00:00 2024-02-22 00:00:00\n",
      "dataset lengths (existing vs new): 918, 2417\n",
      " 40:BIDU\n"
     ]
    },
    {
     "name": "stderr",
     "output_type": "stream",
     "text": [
      "[*********************100%%**********************]  1 of 1 completed\n",
      "[*********************100%%**********************]  1 of 1 completed\n",
      "[*********************100%%**********************]  1 of 1 completed\n",
      "[*********************100%%**********************]  1 of 1 completed"
     ]
    },
    {
     "name": "stdout",
     "output_type": "stream",
     "text": [
      "ticker: BIDU\n",
      "range: 2014-07-17 00:00:00 2024-02-22 00:00:00\n",
      "index: 2014-02-24 00:00:00 2024-02-22 00:00:00\n",
      "all: 2014-07-17 00:00:00 2024-02-22 00:00:00\n",
      "dataset lengths (existing vs new): 2417, 2417\n",
      "index: 2014-02-24 00:00:00 2024-02-22 00:00:00\n",
      "all: 2014-07-17 00:00:00 2024-02-22 00:00:00\n",
      "dataset lengths (existing vs new): 2417, 2417\n",
      "index: 2014-02-24 00:00:00 2024-02-22 00:00:00\n"
     ]
    },
    {
     "name": "stderr",
     "output_type": "stream",
     "text": [
      "\n",
      "[*********************100%%**********************]  1 of 1 completed\n",
      "[*********************100%%**********************]  1 of 1 completed\n"
     ]
    },
    {
     "name": "stdout",
     "output_type": "stream",
     "text": [
      "all: 2014-07-17 00:00:00 2024-02-22 00:00:00\n",
      "dataset lengths (existing vs new): 2417, 2417\n",
      "treas: ^TNX\n",
      "all: 2014-07-17 00:00:00 2024-02-22 00:00:00\n",
      "dataset lengths (existing vs new): 2417, 2415\n",
      "treas: ^FVX\n",
      "all: 2014-07-17 00:00:00 2024-02-22 00:00:00\n",
      "dataset lengths (existing vs new): 2415, 2415\n",
      "treas: ARKK\n"
     ]
    },
    {
     "name": "stderr",
     "output_type": "stream",
     "text": [
      "[*********************100%%**********************]  1 of 1 completed\n"
     ]
    },
    {
     "name": "stdout",
     "output_type": "stream",
     "text": [
      "all: 2015-03-27 00:00:00 2024-02-22 00:00:00\n",
      "dataset lengths (existing vs new): 2415, 2242\n",
      "treas: IWM\n"
     ]
    },
    {
     "name": "stderr",
     "output_type": "stream",
     "text": [
      "[*********************100%%**********************]  1 of 1 completed\n",
      "[*********************100%%**********************]  1 of 1 completed\n",
      "[*********************100%%**********************]  1 of 1 completed\n"
     ]
    },
    {
     "name": "stdout",
     "output_type": "stream",
     "text": [
      "all: 2015-03-27 00:00:00 2024-02-22 00:00:00\n",
      "dataset lengths (existing vs new): 2240, 2417\n",
      "treas: QQQ\n",
      "all: 2015-03-27 00:00:00 2024-02-22 00:00:00\n",
      "dataset lengths (existing vs new): 2240, 2417\n",
      "treas: AAPL\n",
      "all: 2015-03-27 00:00:00 2024-02-22 00:00:00\n",
      "dataset lengths (existing vs new): 2240, 2417\n"
     ]
    },
    {
     "name": "stderr",
     "output_type": "stream",
     "text": [
      "[*********************100%%**********************]  1 of 1 completed"
     ]
    },
    {
     "name": "stdout",
     "output_type": "stream",
     "text": [
      " 41:BIGC\n",
      "ticker: BIGC\n",
      "range: 2020-12-28 00:00:00 2024-02-22 00:00:00\n"
     ]
    },
    {
     "name": "stderr",
     "output_type": "stream",
     "text": [
      "\n",
      "[*********************100%%**********************]  1 of 1 completed\n",
      "[*********************100%%**********************]  1 of 1 completed\n"
     ]
    },
    {
     "name": "stdout",
     "output_type": "stream",
     "text": [
      "index: 2014-02-24 00:00:00 2024-02-22 00:00:00\n",
      "all: 2020-12-28 00:00:00 2024-02-22 00:00:00\n",
      "dataset lengths (existing vs new): 793, 2417\n",
      "index: 2014-02-24 00:00:00 2024-02-22 00:00:00\n",
      "all: 2020-12-28 00:00:00 2024-02-22 00:00:00\n",
      "dataset lengths (existing vs new): 793, 2417\n"
     ]
    },
    {
     "name": "stderr",
     "output_type": "stream",
     "text": [
      "[*********************100%%**********************]  1 of 1 completed\n",
      "[*********************100%%**********************]  1 of 1 completed\n",
      "[*********************100%%**********************]  1 of 1 completed\n"
     ]
    },
    {
     "name": "stdout",
     "output_type": "stream",
     "text": [
      "index: 2014-02-24 00:00:00 2024-02-22 00:00:00\n",
      "all: 2020-12-28 00:00:00 2024-02-22 00:00:00\n",
      "dataset lengths (existing vs new): 793, 2417\n",
      "treas: ^TNX\n",
      "all: 2020-12-28 00:00:00 2024-02-22 00:00:00\n",
      "dataset lengths (existing vs new): 793, 2415\n",
      "treas: ^FVX\n",
      "all: 2020-12-28 00:00:00 2024-02-22 00:00:00\n",
      "dataset lengths (existing vs new): 793, 2415\n",
      "treas: ARKK\n"
     ]
    },
    {
     "name": "stderr",
     "output_type": "stream",
     "text": [
      "[*********************100%%**********************]  1 of 1 completed\n",
      "[*********************100%%**********************]  1 of 1 completed\n",
      "[*********************100%%**********************]  1 of 1 completed\n"
     ]
    },
    {
     "name": "stdout",
     "output_type": "stream",
     "text": [
      "all: 2020-12-28 00:00:00 2024-02-22 00:00:00\n",
      "dataset lengths (existing vs new): 793, 2242\n",
      "treas: IWM\n",
      "all: 2020-12-28 00:00:00 2024-02-22 00:00:00\n",
      "dataset lengths (existing vs new): 793, 2417\n",
      "treas: QQQ\n",
      "all: 2020-12-28 00:00:00 2024-02-22 00:00:00\n",
      "dataset lengths (existing vs new): 793, 2417\n",
      "treas: AAPL\n"
     ]
    },
    {
     "name": "stderr",
     "output_type": "stream",
     "text": [
      "[*********************100%%**********************]  1 of 1 completed\n"
     ]
    },
    {
     "name": "stdout",
     "output_type": "stream",
     "text": [
      "all: 2020-12-28 00:00:00 2024-02-22 00:00:00\n",
      "dataset lengths (existing vs new): 793, 2417\n"
     ]
    },
    {
     "name": "stderr",
     "output_type": "stream",
     "text": [
      "[*********************100%%**********************]  1 of 1 completed\n",
      "[*********************100%%**********************]  1 of 1 completed"
     ]
    },
    {
     "name": "stdout",
     "output_type": "stream",
     "text": [
      " 42:BILI\n",
      "ticker: BILI\n",
      "range: 2018-08-20 00:00:00 2024-02-22 00:00:00\n",
      "index: 2014-02-24 00:00:00 2024-02-22 00:00:00\n"
     ]
    },
    {
     "name": "stderr",
     "output_type": "stream",
     "text": [
      "\n",
      "[*********************100%%**********************]  1 of 1 completed\n",
      "[*********************100%%**********************]  1 of 1 completed\n"
     ]
    },
    {
     "name": "stdout",
     "output_type": "stream",
     "text": [
      "all: 2018-08-20 00:00:00 2024-02-22 00:00:00\n",
      "dataset lengths (existing vs new): 1386, 2417\n",
      "index: 2014-02-24 00:00:00 2024-02-22 00:00:00\n",
      "all: 2018-08-20 00:00:00 2024-02-22 00:00:00\n",
      "dataset lengths (existing vs new): 1386, 2417\n",
      "index: 2014-02-24 00:00:00 2024-02-22 00:00:00\n",
      "all: 2018-08-20 00:00:00 2024-02-22 00:00:00\n",
      "dataset lengths (existing vs new): 1386, 2417\n",
      "treas: ^TNX\n"
     ]
    },
    {
     "name": "stderr",
     "output_type": "stream",
     "text": [
      "[*********************100%%**********************]  1 of 1 completed\n",
      "[*********************100%%**********************]  1 of 1 completed\n",
      "[*********************100%%**********************]  1 of 1 completed\n"
     ]
    },
    {
     "name": "stdout",
     "output_type": "stream",
     "text": [
      "all: 2018-08-20 00:00:00 2024-02-22 00:00:00\n",
      "dataset lengths (existing vs new): 1386, 2415\n",
      "treas: ^FVX\n",
      "all: 2018-08-20 00:00:00 2024-02-22 00:00:00\n",
      "dataset lengths (existing vs new): 1386, 2415\n",
      "treas: ARKK\n",
      "all: 2018-08-20 00:00:00 2024-02-22 00:00:00\n",
      "dataset lengths (existing vs new): 1386, 2242\n",
      "treas: IWM\n"
     ]
    },
    {
     "name": "stderr",
     "output_type": "stream",
     "text": [
      "[*********************100%%**********************]  1 of 1 completed\n",
      "[*********************100%%**********************]  1 of 1 completed\n",
      "[*********************100%%**********************]  1 of 1 completed\n"
     ]
    },
    {
     "name": "stdout",
     "output_type": "stream",
     "text": [
      "all: 2018-08-20 00:00:00 2024-02-22 00:00:00\n",
      "dataset lengths (existing vs new): 1386, 2417\n",
      "treas: QQQ\n",
      "all: 2018-08-20 00:00:00 2024-02-22 00:00:00\n",
      "dataset lengths (existing vs new): 1386, 2417\n",
      "treas: AAPL\n",
      "all: 2018-08-20 00:00:00 2024-02-22 00:00:00\n",
      "dataset lengths (existing vs new): 1386, 2417\n"
     ]
    },
    {
     "name": "stderr",
     "output_type": "stream",
     "text": [
      "[*********************100%%**********************]  1 of 1 completed\n",
      "[*********************100%%**********************]  1 of 1 completed"
     ]
    },
    {
     "name": "stdout",
     "output_type": "stream",
     "text": [
      " 43:BILL\n",
      "ticker: BILL\n",
      "range: 2020-05-07 00:00:00 2024-02-22 00:00:00\n",
      "index: 2014-02-24 00:00:00 2024-02-22 00:00:00\n"
     ]
    },
    {
     "name": "stderr",
     "output_type": "stream",
     "text": [
      "\n",
      "[*********************100%%**********************]  1 of 1 completed\n",
      "[*********************100%%**********************]  1 of 1 completed\n"
     ]
    },
    {
     "name": "stdout",
     "output_type": "stream",
     "text": [
      "all: 2020-05-07 00:00:00 2024-02-22 00:00:00\n",
      "dataset lengths (existing vs new): 955, 2417\n",
      "index: 2014-02-24 00:00:00 2024-02-22 00:00:00\n",
      "all: 2020-05-07 00:00:00 2024-02-22 00:00:00\n",
      "dataset lengths (existing vs new): 955, 2417\n",
      "index: 2014-02-24 00:00:00 2024-02-22 00:00:00\n",
      "all: 2020-05-07 00:00:00 2024-02-22 00:00:00\n",
      "dataset lengths (existing vs new): 955, 2417\n",
      "treas: ^TNX\n"
     ]
    },
    {
     "name": "stderr",
     "output_type": "stream",
     "text": [
      "[*********************100%%**********************]  1 of 1 completed\n",
      "[*********************100%%**********************]  1 of 1 completed\n",
      "[*********************100%%**********************]  1 of 1 completed\n"
     ]
    },
    {
     "name": "stdout",
     "output_type": "stream",
     "text": [
      "all: 2020-05-07 00:00:00 2024-02-22 00:00:00\n",
      "dataset lengths (existing vs new): 955, 2415\n",
      "treas: ^FVX\n",
      "all: 2020-05-07 00:00:00 2024-02-22 00:00:00\n",
      "dataset lengths (existing vs new): 955, 2415\n",
      "treas: ARKK\n",
      "all: 2020-05-07 00:00:00 2024-02-22 00:00:00\n",
      "dataset lengths (existing vs new): 955, 2242\n",
      "treas: IWM\n"
     ]
    },
    {
     "name": "stderr",
     "output_type": "stream",
     "text": [
      "[*********************100%%**********************]  1 of 1 completed\n",
      "[*********************100%%**********************]  1 of 1 completed\n"
     ]
    },
    {
     "name": "stdout",
     "output_type": "stream",
     "text": [
      "all: 2020-05-07 00:00:00 2024-02-22 00:00:00\n",
      "dataset lengths (existing vs new): 955, 2417\n",
      "treas: QQQ\n",
      "all: 2020-05-07 00:00:00 2024-02-22 00:00:00\n",
      "dataset lengths (existing vs new): 955, 2417\n",
      "treas: AAPL\n"
     ]
    },
    {
     "name": "stderr",
     "output_type": "stream",
     "text": [
      "[*********************100%%**********************]  1 of 1 completed\n"
     ]
    },
    {
     "name": "stdout",
     "output_type": "stream",
     "text": [
      "all: 2020-05-07 00:00:00 2024-02-22 00:00:00\n",
      "dataset lengths (existing vs new): 955, 2417\n"
     ]
    },
    {
     "name": "stderr",
     "output_type": "stream",
     "text": [
      "[*********************100%%**********************]  1 of 1 completed\n",
      "[*********************100%%**********************]  1 of 1 completed"
     ]
    },
    {
     "name": "stdout",
     "output_type": "stream",
     "text": [
      " 44:BITO\n",
      "ticker: BITO\n",
      "range: 2022-03-15 00:00:00 2024-02-22 00:00:00\n",
      "index: 2014-02-24 00:00:00 2024-02-22 00:00:00\n"
     ]
    },
    {
     "name": "stderr",
     "output_type": "stream",
     "text": [
      "\n",
      "[*********************100%%**********************]  1 of 1 completed\n"
     ]
    },
    {
     "name": "stdout",
     "output_type": "stream",
     "text": [
      "all: 2022-03-15 00:00:00 2024-02-22 00:00:00\n",
      "dataset lengths (existing vs new): 488, 2417\n",
      "index: 2014-02-24 00:00:00 2024-02-22 00:00:00\n",
      "all: 2022-03-15 00:00:00 2024-02-22 00:00:00\n",
      "dataset lengths (existing vs new): 488, 2417\n"
     ]
    },
    {
     "name": "stderr",
     "output_type": "stream",
     "text": [
      "[*********************100%%**********************]  1 of 1 completed\n",
      "[*********************100%%**********************]  1 of 1 completed\n"
     ]
    },
    {
     "name": "stdout",
     "output_type": "stream",
     "text": [
      "index: 2014-02-24 00:00:00 2024-02-22 00:00:00\n",
      "all: 2022-03-15 00:00:00 2024-02-22 00:00:00\n",
      "dataset lengths (existing vs new): 488, 2417\n",
      "treas: ^TNX\n",
      "all: 2022-03-15 00:00:00 2024-02-22 00:00:00\n",
      "dataset lengths (existing vs new): 488, 2415\n",
      "treas: ^FVX\n"
     ]
    },
    {
     "name": "stderr",
     "output_type": "stream",
     "text": [
      "[*********************100%%**********************]  1 of 1 completed\n",
      "[*********************100%%**********************]  1 of 1 completed\n",
      "[*********************100%%**********************]  1 of 1 completed\n"
     ]
    },
    {
     "name": "stdout",
     "output_type": "stream",
     "text": [
      "all: 2022-03-15 00:00:00 2024-02-22 00:00:00\n",
      "dataset lengths (existing vs new): 488, 2415\n",
      "treas: ARKK\n",
      "all: 2022-03-15 00:00:00 2024-02-22 00:00:00\n",
      "dataset lengths (existing vs new): 488, 2242\n",
      "treas: IWM\n",
      "all: 2022-03-15 00:00:00 2024-02-22 00:00:00\n",
      "dataset lengths (existing vs new): 488, 2417\n",
      "treas: QQQ\n"
     ]
    },
    {
     "name": "stderr",
     "output_type": "stream",
     "text": [
      "[*********************100%%**********************]  1 of 1 completed\n",
      "[*********************100%%**********************]  1 of 1 completed\n"
     ]
    },
    {
     "name": "stdout",
     "output_type": "stream",
     "text": [
      "all: 2022-03-15 00:00:00 2024-02-22 00:00:00\n",
      "dataset lengths (existing vs new): 488, 2417\n",
      "treas: AAPL\n",
      "all: 2022-03-15 00:00:00 2024-02-22 00:00:00\n",
      "dataset lengths (existing vs new): 488, 2417\n"
     ]
    },
    {
     "name": "stderr",
     "output_type": "stream",
     "text": [
      "[*********************100%%**********************]  1 of 1 completed"
     ]
    },
    {
     "name": "stdout",
     "output_type": "stream",
     "text": [
      " 45:BKNG\n",
      "ticker: BKNG\n",
      "range: 2014-07-17 00:00:00 2024-02-22 00:00:00\n"
     ]
    },
    {
     "name": "stderr",
     "output_type": "stream",
     "text": [
      "\n",
      "[*********************100%%**********************]  1 of 1 completed\n",
      "[*********************100%%**********************]  1 of 1 completed\n",
      "[*********************100%%**********************]  1 of 1 completed\n"
     ]
    },
    {
     "name": "stdout",
     "output_type": "stream",
     "text": [
      "index: 2014-02-24 00:00:00 2024-02-22 00:00:00\n",
      "all: 2014-07-17 00:00:00 2024-02-22 00:00:00\n",
      "dataset lengths (existing vs new): 2417, 2417\n",
      "index: 2014-02-24 00:00:00 2024-02-22 00:00:00\n",
      "all: 2014-07-17 00:00:00 2024-02-22 00:00:00\n",
      "dataset lengths (existing vs new): 2417, 2417\n",
      "index: 2014-02-24 00:00:00 2024-02-22 00:00:00\n",
      "all: 2014-07-17 00:00:00 2024-02-22 00:00:00\n",
      "dataset lengths (existing vs new): 2417, 2417\n",
      "treas: ^TNX\n"
     ]
    },
    {
     "name": "stderr",
     "output_type": "stream",
     "text": [
      "[*********************100%%**********************]  1 of 1 completed\n",
      "[*********************100%%**********************]  1 of 1 completed\n",
      "[*********************100%%**********************]  1 of 1 completed\n"
     ]
    },
    {
     "name": "stdout",
     "output_type": "stream",
     "text": [
      "all: 2014-07-17 00:00:00 2024-02-22 00:00:00\n",
      "dataset lengths (existing vs new): 2417, 2415\n",
      "treas: ^FVX\n",
      "all: 2014-07-17 00:00:00 2024-02-22 00:00:00\n",
      "dataset lengths (existing vs new): 2415, 2415\n",
      "treas: ARKK\n",
      "all: 2015-03-27 00:00:00 2024-02-22 00:00:00\n",
      "dataset lengths (existing vs new): 2415, 2242\n",
      "treas: IWM\n"
     ]
    },
    {
     "name": "stderr",
     "output_type": "stream",
     "text": [
      "[*********************100%%**********************]  1 of 1 completed\n",
      "[*********************100%%**********************]  1 of 1 completed\n",
      "[*********************100%%**********************]  1 of 1 completed\n"
     ]
    },
    {
     "name": "stdout",
     "output_type": "stream",
     "text": [
      "all: 2015-03-27 00:00:00 2024-02-22 00:00:00\n",
      "dataset lengths (existing vs new): 2240, 2417\n",
      "treas: QQQ\n",
      "all: 2015-03-27 00:00:00 2024-02-22 00:00:00\n",
      "dataset lengths (existing vs new): 2240, 2417\n",
      "treas: AAPL\n",
      "all: 2015-03-27 00:00:00 2024-02-22 00:00:00\n",
      "dataset lengths (existing vs new): 2240, 2417\n"
     ]
    },
    {
     "name": "stderr",
     "output_type": "stream",
     "text": [
      "[*********************100%%**********************]  1 of 1 completed"
     ]
    },
    {
     "name": "stdout",
     "output_type": "stream",
     "text": [
      " 46:BL\n",
      "ticker: BL\n",
      "range: 2017-03-24 00:00:00 2024-02-22 00:00:00\n"
     ]
    },
    {
     "name": "stderr",
     "output_type": "stream",
     "text": [
      "\n",
      "[*********************100%%**********************]  1 of 1 completed\n",
      "[*********************100%%**********************]  1 of 1 completed\n",
      "[*********************100%%**********************]  1 of 1 completed\n"
     ]
    },
    {
     "name": "stdout",
     "output_type": "stream",
     "text": [
      "index: 2014-02-24 00:00:00 2024-02-22 00:00:00\n",
      "all: 2017-03-24 00:00:00 2024-02-22 00:00:00\n",
      "dataset lengths (existing vs new): 1740, 2417\n",
      "index: 2014-02-24 00:00:00 2024-02-22 00:00:00\n",
      "all: 2017-03-24 00:00:00 2024-02-22 00:00:00\n",
      "dataset lengths (existing vs new): 1740, 2417\n",
      "index: 2014-02-24 00:00:00 2024-02-22 00:00:00\n",
      "all: 2017-03-24 00:00:00 2024-02-22 00:00:00\n",
      "dataset lengths (existing vs new): 1740, 2417\n",
      "treas: ^TNX\n"
     ]
    },
    {
     "name": "stderr",
     "output_type": "stream",
     "text": [
      "[*********************100%%**********************]  1 of 1 completed\n",
      "[*********************100%%**********************]  1 of 1 completed\n",
      "[*********************100%%**********************]  1 of 1 completed\n"
     ]
    },
    {
     "name": "stdout",
     "output_type": "stream",
     "text": [
      "all: 2017-03-24 00:00:00 2024-02-22 00:00:00\n",
      "dataset lengths (existing vs new): 1740, 2415\n",
      "treas: ^FVX\n",
      "all: 2017-03-24 00:00:00 2024-02-22 00:00:00\n",
      "dataset lengths (existing vs new): 1740, 2415\n",
      "treas: ARKK\n",
      "all: 2017-03-24 00:00:00 2024-02-22 00:00:00\n",
      "dataset lengths (existing vs new): 1740, 2242\n",
      "treas: IWM\n"
     ]
    },
    {
     "name": "stderr",
     "output_type": "stream",
     "text": [
      "[*********************100%%**********************]  1 of 1 completed\n",
      "[*********************100%%**********************]  1 of 1 completed\n",
      "[*********************100%%**********************]  1 of 1 completed\n"
     ]
    },
    {
     "name": "stdout",
     "output_type": "stream",
     "text": [
      "all: 2017-03-24 00:00:00 2024-02-22 00:00:00\n",
      "dataset lengths (existing vs new): 1740, 2417\n",
      "treas: QQQ\n",
      "all: 2017-03-24 00:00:00 2024-02-22 00:00:00\n",
      "dataset lengths (existing vs new): 1740, 2417\n",
      "treas: AAPL\n",
      "all: 2017-03-24 00:00:00 2024-02-22 00:00:00\n",
      "dataset lengths (existing vs new): 1740, 2417\n"
     ]
    },
    {
     "name": "stderr",
     "output_type": "stream",
     "text": [
      "[*********************100%%**********************]  1 of 1 completed"
     ]
    },
    {
     "name": "stdout",
     "output_type": "stream",
     "text": [
      " 47:BLND\n",
      "ticker: BLND\n",
      "range: 2021-12-07 00:00:00 2024-02-22 00:00:00\n"
     ]
    },
    {
     "name": "stderr",
     "output_type": "stream",
     "text": [
      "\n",
      "[*********************100%%**********************]  1 of 1 completed\n",
      "[*********************100%%**********************]  1 of 1 completed\n"
     ]
    },
    {
     "name": "stdout",
     "output_type": "stream",
     "text": [
      "index: 2014-02-24 00:00:00 2024-02-22 00:00:00\n",
      "all: 2021-12-07 00:00:00 2024-02-22 00:00:00\n",
      "dataset lengths (existing vs new): 555, 2417\n",
      "index: 2014-02-24 00:00:00 2024-02-22 00:00:00\n",
      "all: 2021-12-07 00:00:00 2024-02-22 00:00:00\n",
      "dataset lengths (existing vs new): 555, 2417\n"
     ]
    },
    {
     "name": "stderr",
     "output_type": "stream",
     "text": [
      "[*********************100%%**********************]  1 of 1 completed\n",
      "[*********************100%%**********************]  1 of 1 completed\n",
      "[*********************100%%**********************]  1 of 1 completed\n"
     ]
    },
    {
     "name": "stdout",
     "output_type": "stream",
     "text": [
      "index: 2014-02-24 00:00:00 2024-02-22 00:00:00\n",
      "all: 2021-12-07 00:00:00 2024-02-22 00:00:00\n",
      "dataset lengths (existing vs new): 555, 2417\n",
      "treas: ^TNX\n",
      "all: 2021-12-07 00:00:00 2024-02-22 00:00:00\n",
      "dataset lengths (existing vs new): 555, 2415\n",
      "treas: ^FVX\n",
      "all: 2021-12-07 00:00:00 2024-02-22 00:00:00\n",
      "dataset lengths (existing vs new): 555, 2415\n",
      "treas: ARKK\n"
     ]
    },
    {
     "name": "stderr",
     "output_type": "stream",
     "text": [
      "[*********************100%%**********************]  1 of 1 completed\n",
      "[*********************100%%**********************]  1 of 1 completed\n",
      "[*********************100%%**********************]  1 of 1 completed\n"
     ]
    },
    {
     "name": "stdout",
     "output_type": "stream",
     "text": [
      "all: 2021-12-07 00:00:00 2024-02-22 00:00:00\n",
      "dataset lengths (existing vs new): 555, 2242\n",
      "treas: IWM\n",
      "all: 2021-12-07 00:00:00 2024-02-22 00:00:00\n",
      "dataset lengths (existing vs new): 555, 2417\n",
      "treas: QQQ\n",
      "all: 2021-12-07 00:00:00 2024-02-22 00:00:00\n",
      "dataset lengths (existing vs new): 555, 2417\n",
      "treas: AAPL\n"
     ]
    },
    {
     "name": "stderr",
     "output_type": "stream",
     "text": [
      "[*********************100%%**********************]  1 of 1 completed\n"
     ]
    },
    {
     "name": "stdout",
     "output_type": "stream",
     "text": [
      "all: 2021-12-07 00:00:00 2024-02-22 00:00:00\n",
      "dataset lengths (existing vs new): 555, 2417\n",
      " 48:BLUE\n"
     ]
    },
    {
     "name": "stderr",
     "output_type": "stream",
     "text": [
      "[*********************100%%**********************]  1 of 1 completed\n",
      "[*********************100%%**********************]  1 of 1 completed\n",
      "[*********************100%%**********************]  1 of 1 completed\n"
     ]
    },
    {
     "name": "stdout",
     "output_type": "stream",
     "text": [
      "ticker: BLUE\n",
      "range: 2014-07-17 00:00:00 2024-02-22 00:00:00\n",
      "index: 2014-02-24 00:00:00 2024-02-22 00:00:00\n",
      "all: 2014-07-17 00:00:00 2024-02-22 00:00:00\n",
      "dataset lengths (existing vs new): 2417, 2417\n",
      "index: 2014-02-24 00:00:00 2024-02-22 00:00:00\n",
      "all: 2014-07-17 00:00:00 2024-02-22 00:00:00\n",
      "dataset lengths (existing vs new): 2417, 2417\n"
     ]
    },
    {
     "name": "stderr",
     "output_type": "stream",
     "text": [
      "[*********************100%%**********************]  1 of 1 completed\n",
      "[*********************100%%**********************]  1 of 1 completed\n",
      "[*********************100%%**********************]  1 of 1 completed\n"
     ]
    },
    {
     "name": "stdout",
     "output_type": "stream",
     "text": [
      "index: 2014-02-24 00:00:00 2024-02-22 00:00:00\n",
      "all: 2014-07-17 00:00:00 2024-02-22 00:00:00\n",
      "dataset lengths (existing vs new): 2417, 2417\n",
      "treas: ^TNX\n",
      "all: 2014-07-17 00:00:00 2024-02-22 00:00:00\n",
      "dataset lengths (existing vs new): 2417, 2415\n",
      "treas: ^FVX\n",
      "all: 2014-07-17 00:00:00 2024-02-22 00:00:00\n",
      "dataset lengths (existing vs new): 2415, 2415\n",
      "treas: ARKK\n"
     ]
    },
    {
     "name": "stderr",
     "output_type": "stream",
     "text": [
      "[*********************100%%**********************]  1 of 1 completed\n",
      "[*********************100%%**********************]  1 of 1 completed\n",
      "[*********************100%%**********************]  1 of 1 completed\n"
     ]
    },
    {
     "name": "stdout",
     "output_type": "stream",
     "text": [
      "all: 2015-03-27 00:00:00 2024-02-22 00:00:00\n",
      "dataset lengths (existing vs new): 2415, 2242\n",
      "treas: IWM\n",
      "all: 2015-03-27 00:00:00 2024-02-22 00:00:00\n",
      "dataset lengths (existing vs new): 2240, 2417\n",
      "treas: QQQ\n",
      "all: 2015-03-27 00:00:00 2024-02-22 00:00:00\n",
      "dataset lengths (existing vs new): 2240, 2417\n",
      "treas: AAPL\n"
     ]
    },
    {
     "name": "stderr",
     "output_type": "stream",
     "text": [
      "[*********************100%%**********************]  1 of 1 completed\n"
     ]
    },
    {
     "name": "stdout",
     "output_type": "stream",
     "text": [
      "all: 2015-03-27 00:00:00 2024-02-22 00:00:00\n",
      "dataset lengths (existing vs new): 2240, 2417\n"
     ]
    },
    {
     "name": "stderr",
     "output_type": "stream",
     "text": [
      "[*********************100%%**********************]  1 of 1 completed"
     ]
    },
    {
     "name": "stdout",
     "output_type": "stream",
     "text": [
      " 49:BMBL\n",
      "ticker: BMBL\n",
      "range: 2021-07-07 00:00:00 2024-02-22 00:00:00\n"
     ]
    },
    {
     "name": "stderr",
     "output_type": "stream",
     "text": [
      "\n",
      "[*********************100%%**********************]  1 of 1 completed\n",
      "[*********************100%%**********************]  1 of 1 completed\n",
      "[*********************100%%**********************]  1 of 1 completed\n"
     ]
    },
    {
     "name": "stdout",
     "output_type": "stream",
     "text": [
      "index: 2014-02-24 00:00:00 2024-02-22 00:00:00\n",
      "all: 2021-07-07 00:00:00 2024-02-22 00:00:00\n",
      "dataset lengths (existing vs new): 662, 2417\n",
      "index: 2014-02-24 00:00:00 2024-02-22 00:00:00\n",
      "all: 2021-07-07 00:00:00 2024-02-22 00:00:00\n",
      "dataset lengths (existing vs new): 662, 2417\n",
      "index: 2014-02-24 00:00:00 2024-02-22 00:00:00\n",
      "all: 2021-07-07 00:00:00 2024-02-22 00:00:00\n",
      "dataset lengths (existing vs new): 662, 2417\n",
      "treas: ^TNX\n"
     ]
    },
    {
     "name": "stderr",
     "output_type": "stream",
     "text": [
      "[*********************100%%**********************]  1 of 1 completed\n",
      "[*********************100%%**********************]  1 of 1 completed\n",
      "[*********************100%%**********************]  1 of 1 completed\n"
     ]
    },
    {
     "name": "stdout",
     "output_type": "stream",
     "text": [
      "all: 2021-07-07 00:00:00 2024-02-22 00:00:00\n",
      "dataset lengths (existing vs new): 662, 2415\n",
      "treas: ^FVX\n",
      "all: 2021-07-07 00:00:00 2024-02-22 00:00:00\n",
      "dataset lengths (existing vs new): 662, 2415\n",
      "treas: ARKK\n",
      "all: 2021-07-07 00:00:00 2024-02-22 00:00:00\n",
      "dataset lengths (existing vs new): 662, 2242\n",
      "treas: IWM\n"
     ]
    },
    {
     "name": "stderr",
     "output_type": "stream",
     "text": [
      "[*********************100%%**********************]  1 of 1 completed\n"
     ]
    },
    {
     "name": "stdout",
     "output_type": "stream",
     "text": [
      "all: 2021-07-07 00:00:00 2024-02-22 00:00:00\n",
      "dataset lengths (existing vs new): 662, 2417\n",
      "treas: QQQ\n"
     ]
    },
    {
     "name": "stderr",
     "output_type": "stream",
     "text": [
      "[*********************100%%**********************]  1 of 1 completed\n",
      "[*********************100%%**********************]  1 of 1 completed\n"
     ]
    },
    {
     "name": "stdout",
     "output_type": "stream",
     "text": [
      "all: 2021-07-07 00:00:00 2024-02-22 00:00:00\n",
      "dataset lengths (existing vs new): 662, 2417\n",
      "treas: AAPL\n",
      "all: 2021-07-07 00:00:00 2024-02-22 00:00:00\n",
      "dataset lengths (existing vs new): 662, 2417\n",
      " 50:BNTX\n"
     ]
    },
    {
     "name": "stderr",
     "output_type": "stream",
     "text": [
      "[*********************100%%**********************]  1 of 1 completed\n",
      "[*********************100%%**********************]  1 of 1 completed\n",
      "[*********************100%%**********************]  1 of 1 completed\n"
     ]
    },
    {
     "name": "stdout",
     "output_type": "stream",
     "text": [
      "ticker: BNTX\n",
      "range: 2020-03-05 00:00:00 2024-02-22 00:00:00\n",
      "index: 2014-02-24 00:00:00 2024-02-22 00:00:00\n",
      "all: 2020-03-05 00:00:00 2024-02-22 00:00:00\n",
      "dataset lengths (existing vs new): 999, 2417\n",
      "index: 2014-02-24 00:00:00 2024-02-22 00:00:00\n",
      "all: 2020-03-05 00:00:00 2024-02-22 00:00:00\n",
      "dataset lengths (existing vs new): 999, 2417\n"
     ]
    },
    {
     "name": "stderr",
     "output_type": "stream",
     "text": [
      "[*********************100%%**********************]  1 of 1 completed\n",
      "[*********************100%%**********************]  1 of 1 completed\n"
     ]
    },
    {
     "name": "stdout",
     "output_type": "stream",
     "text": [
      "index: 2014-02-24 00:00:00 2024-02-22 00:00:00\n",
      "all: 2020-03-05 00:00:00 2024-02-22 00:00:00\n",
      "dataset lengths (existing vs new): 999, 2417\n",
      "treas: ^TNX\n",
      "all: 2020-03-05 00:00:00 2024-02-22 00:00:00\n",
      "dataset lengths (existing vs new): 999, 2415\n",
      "treas: ^FVX\n"
     ]
    },
    {
     "name": "stderr",
     "output_type": "stream",
     "text": [
      "[*********************100%%**********************]  1 of 1 completed\n",
      "[*********************100%%**********************]  1 of 1 completed\n",
      "[*********************100%%**********************]  1 of 1 completed\n"
     ]
    },
    {
     "name": "stdout",
     "output_type": "stream",
     "text": [
      "all: 2020-03-05 00:00:00 2024-02-22 00:00:00\n",
      "dataset lengths (existing vs new): 999, 2415\n",
      "treas: ARKK\n",
      "all: 2020-03-05 00:00:00 2024-02-22 00:00:00\n",
      "dataset lengths (existing vs new): 999, 2242\n",
      "treas: IWM\n",
      "all: 2020-03-05 00:00:00 2024-02-22 00:00:00\n",
      "dataset lengths (existing vs new): 999, 2417\n",
      "treas: QQQ\n"
     ]
    },
    {
     "name": "stderr",
     "output_type": "stream",
     "text": [
      "[*********************100%%**********************]  1 of 1 completed\n",
      "[*********************100%%**********************]  1 of 1 completed\n"
     ]
    },
    {
     "name": "stdout",
     "output_type": "stream",
     "text": [
      "all: 2020-03-05 00:00:00 2024-02-22 00:00:00\n",
      "dataset lengths (existing vs new): 999, 2417\n",
      "treas: AAPL\n",
      "all: 2020-03-05 00:00:00 2024-02-22 00:00:00\n",
      "dataset lengths (existing vs new): 999, 2417\n"
     ]
    },
    {
     "name": "stderr",
     "output_type": "stream",
     "text": [
      "[*********************100%%**********************]  1 of 1 completed"
     ]
    },
    {
     "name": "stdout",
     "output_type": "stream",
     "text": [
      " 51:BOX\n"
     ]
    },
    {
     "name": "stderr",
     "output_type": "stream",
     "text": [
      "\n",
      "[*********************100%%**********************]  1 of 1 completed\n",
      "[*********************100%%**********************]  1 of 1 completed\n"
     ]
    },
    {
     "name": "stdout",
     "output_type": "stream",
     "text": [
      "ticker: BOX\n",
      "range: 2015-06-17 00:00:00 2024-02-22 00:00:00\n",
      "index: 2014-02-24 00:00:00 2024-02-22 00:00:00\n",
      "all: 2015-06-17 00:00:00 2024-02-22 00:00:00\n",
      "dataset lengths (existing vs new): 2186, 2417\n",
      "index: 2014-02-24 00:00:00 2024-02-22 00:00:00\n",
      "all: 2015-06-17 00:00:00 2024-02-22 00:00:00\n",
      "dataset lengths (existing vs new): 2186, 2417\n"
     ]
    },
    {
     "name": "stderr",
     "output_type": "stream",
     "text": [
      "[*********************100%%**********************]  1 of 1 completed\n",
      "[*********************100%%**********************]  1 of 1 completed\n",
      "[*********************100%%**********************]  1 of 1 completed\n"
     ]
    },
    {
     "name": "stdout",
     "output_type": "stream",
     "text": [
      "index: 2014-02-24 00:00:00 2024-02-22 00:00:00\n",
      "all: 2015-06-17 00:00:00 2024-02-22 00:00:00\n",
      "dataset lengths (existing vs new): 2186, 2417\n",
      "treas: ^TNX\n",
      "all: 2015-06-17 00:00:00 2024-02-22 00:00:00\n",
      "dataset lengths (existing vs new): 2186, 2415\n",
      "treas: ^FVX\n",
      "all: 2015-06-17 00:00:00 2024-02-22 00:00:00\n",
      "dataset lengths (existing vs new): 2184, 2415\n",
      "treas: ARKK\n"
     ]
    },
    {
     "name": "stderr",
     "output_type": "stream",
     "text": [
      "[*********************100%%**********************]  1 of 1 completed\n"
     ]
    },
    {
     "name": "stdout",
     "output_type": "stream",
     "text": [
      "all: 2015-06-17 00:00:00 2024-02-22 00:00:00\n",
      "dataset lengths (existing vs new): 2184, 2242\n",
      "treas: IWM\n"
     ]
    },
    {
     "name": "stderr",
     "output_type": "stream",
     "text": [
      "[*********************100%%**********************]  1 of 1 completed\n",
      "[*********************100%%**********************]  1 of 1 completed\n",
      "[*********************100%%**********************]  1 of 1 completed\n"
     ]
    },
    {
     "name": "stdout",
     "output_type": "stream",
     "text": [
      "all: 2015-06-17 00:00:00 2024-02-22 00:00:00\n",
      "dataset lengths (existing vs new): 2184, 2417\n",
      "treas: QQQ\n",
      "all: 2015-06-17 00:00:00 2024-02-22 00:00:00\n",
      "dataset lengths (existing vs new): 2184, 2417\n",
      "treas: AAPL\n",
      "all: 2015-06-17 00:00:00 2024-02-22 00:00:00\n",
      "dataset lengths (existing vs new): 2184, 2417\n",
      " 52:BSX\n"
     ]
    },
    {
     "name": "stderr",
     "output_type": "stream",
     "text": [
      "[*********************100%%**********************]  1 of 1 completed\n",
      "[*********************100%%**********************]  1 of 1 completed\n"
     ]
    },
    {
     "name": "stdout",
     "output_type": "stream",
     "text": [
      "ticker: BSX\n",
      "range: 2014-07-17 00:00:00 2024-02-22 00:00:00\n",
      "index: 2014-02-24 00:00:00 2024-02-22 00:00:00\n",
      "all: 2014-07-17 00:00:00 2024-02-22 00:00:00\n",
      "dataset lengths (existing vs new): 2417, 2417\n"
     ]
    },
    {
     "name": "stderr",
     "output_type": "stream",
     "text": [
      "[*********************100%%**********************]  1 of 1 completed\n",
      "[*********************100%%**********************]  1 of 1 completed\n",
      "[*********************100%%**********************]  1 of 1 completed\n"
     ]
    },
    {
     "name": "stdout",
     "output_type": "stream",
     "text": [
      "index: 2014-02-24 00:00:00 2024-02-22 00:00:00\n",
      "all: 2014-07-17 00:00:00 2024-02-22 00:00:00\n",
      "dataset lengths (existing vs new): 2417, 2417\n",
      "index: 2014-02-24 00:00:00 2024-02-22 00:00:00\n",
      "all: 2014-07-17 00:00:00 2024-02-22 00:00:00\n",
      "dataset lengths (existing vs new): 2417, 2417\n",
      "treas: ^TNX\n",
      "all: 2014-07-17 00:00:00 2024-02-22 00:00:00\n",
      "dataset lengths (existing vs new): 2417, 2415\n",
      "treas: ^FVX\n"
     ]
    },
    {
     "name": "stderr",
     "output_type": "stream",
     "text": [
      "[*********************100%%**********************]  1 of 1 completed\n",
      "[*********************100%%**********************]  1 of 1 completed\n"
     ]
    },
    {
     "name": "stdout",
     "output_type": "stream",
     "text": [
      "all: 2014-07-17 00:00:00 2024-02-22 00:00:00\n",
      "dataset lengths (existing vs new): 2415, 2415\n",
      "treas: ARKK\n",
      "all: 2015-03-27 00:00:00 2024-02-22 00:00:00\n",
      "dataset lengths (existing vs new): 2415, 2242\n",
      "treas: IWM\n"
     ]
    },
    {
     "name": "stderr",
     "output_type": "stream",
     "text": [
      "[*********************100%%**********************]  1 of 1 completed\n",
      "[*********************100%%**********************]  1 of 1 completed\n"
     ]
    },
    {
     "name": "stdout",
     "output_type": "stream",
     "text": [
      "all: 2015-03-27 00:00:00 2024-02-22 00:00:00\n",
      "dataset lengths (existing vs new): 2240, 2417\n",
      "treas: QQQ\n",
      "all: 2015-03-27 00:00:00 2024-02-22 00:00:00\n",
      "dataset lengths (existing vs new): 2240, 2417\n",
      "treas: AAPL\n"
     ]
    },
    {
     "name": "stderr",
     "output_type": "stream",
     "text": [
      "[*********************100%%**********************]  1 of 1 completed\n"
     ]
    },
    {
     "name": "stdout",
     "output_type": "stream",
     "text": [
      "all: 2015-03-27 00:00:00 2024-02-22 00:00:00\n",
      "dataset lengths (existing vs new): 2240, 2417\n"
     ]
    },
    {
     "name": "stderr",
     "output_type": "stream",
     "text": [
      "[*********************100%%**********************]  1 of 1 completed\n",
      "[*********************100%%**********************]  1 of 1 completed"
     ]
    },
    {
     "name": "stdout",
     "output_type": "stream",
     "text": [
      " 53:BYND\n",
      "ticker: BYND\n",
      "range: 2019-09-24 00:00:00 2024-02-22 00:00:00\n",
      "index: 2014-02-24 00:00:00 2024-02-22 00:00:00\n"
     ]
    },
    {
     "name": "stderr",
     "output_type": "stream",
     "text": [
      "\n",
      "[*********************100%%**********************]  1 of 1 completed\n"
     ]
    },
    {
     "name": "stdout",
     "output_type": "stream",
     "text": [
      "all: 2019-09-24 00:00:00 2024-02-22 00:00:00\n",
      "dataset lengths (existing vs new): 1111, 2417\n",
      "index: 2014-02-24 00:00:00 2024-02-22 00:00:00\n",
      "all: 2019-09-24 00:00:00 2024-02-22 00:00:00\n",
      "dataset lengths (existing vs new): 1111, 2417\n"
     ]
    },
    {
     "name": "stderr",
     "output_type": "stream",
     "text": [
      "[*********************100%%**********************]  1 of 1 completed\n",
      "[*********************100%%**********************]  1 of 1 completed\n",
      "[*********************100%%**********************]  1 of 1 completed\n"
     ]
    },
    {
     "name": "stdout",
     "output_type": "stream",
     "text": [
      "index: 2014-02-24 00:00:00 2024-02-22 00:00:00\n",
      "all: 2019-09-24 00:00:00 2024-02-22 00:00:00\n",
      "dataset lengths (existing vs new): 1111, 2417\n",
      "treas: ^TNX\n",
      "all: 2019-09-24 00:00:00 2024-02-22 00:00:00\n",
      "dataset lengths (existing vs new): 1111, 2415\n",
      "treas: ^FVX\n",
      "all: 2019-09-24 00:00:00 2024-02-22 00:00:00\n",
      "dataset lengths (existing vs new): 1111, 2415\n",
      "treas: ARKK\n"
     ]
    },
    {
     "name": "stderr",
     "output_type": "stream",
     "text": [
      "[*********************100%%**********************]  1 of 1 completed\n",
      "[*********************100%%**********************]  1 of 1 completed\n",
      "[*********************100%%**********************]  1 of 1 completed\n"
     ]
    },
    {
     "name": "stdout",
     "output_type": "stream",
     "text": [
      "all: 2019-09-24 00:00:00 2024-02-22 00:00:00\n",
      "dataset lengths (existing vs new): 1111, 2242\n",
      "treas: IWM\n",
      "all: 2019-09-24 00:00:00 2024-02-22 00:00:00\n",
      "dataset lengths (existing vs new): 1111, 2417\n",
      "treas: QQQ\n",
      "all: 2019-09-24 00:00:00 2024-02-22 00:00:00\n",
      "dataset lengths (existing vs new): 1111, 2417\n",
      "treas: AAPL\n"
     ]
    },
    {
     "name": "stderr",
     "output_type": "stream",
     "text": [
      "[*********************100%%**********************]  1 of 1 completed\n"
     ]
    },
    {
     "name": "stdout",
     "output_type": "stream",
     "text": [
      "all: 2019-09-24 00:00:00 2024-02-22 00:00:00\n",
      "dataset lengths (existing vs new): 1111, 2417\n"
     ]
    },
    {
     "name": "stderr",
     "output_type": "stream",
     "text": [
      "[*********************100%%**********************]  1 of 1 completed"
     ]
    },
    {
     "name": "stdout",
     "output_type": "stream",
     "text": [
      " 54:BZFD\n",
      "ticker: BZFD\n",
      "range: 2021-07-28 00:00:00 2024-02-22 00:00:00\n"
     ]
    },
    {
     "name": "stderr",
     "output_type": "stream",
     "text": [
      "\n",
      "[*********************100%%**********************]  1 of 1 completed\n",
      "[*********************100%%**********************]  1 of 1 completed\n",
      "[*********************100%%**********************]  1 of 1 completed\n"
     ]
    },
    {
     "name": "stdout",
     "output_type": "stream",
     "text": [
      "index: 2014-02-24 00:00:00 2024-02-22 00:00:00\n",
      "all: 2021-07-28 00:00:00 2024-02-22 00:00:00\n",
      "dataset lengths (existing vs new): 647, 2417\n",
      "index: 2014-02-24 00:00:00 2024-02-22 00:00:00\n",
      "all: 2021-07-28 00:00:00 2024-02-22 00:00:00\n",
      "dataset lengths (existing vs new): 647, 2417\n",
      "index: 2014-02-24 00:00:00 2024-02-22 00:00:00\n",
      "all: 2021-07-28 00:00:00 2024-02-22 00:00:00\n",
      "dataset lengths (existing vs new): 647, 2417\n",
      "treas: ^TNX\n"
     ]
    },
    {
     "name": "stderr",
     "output_type": "stream",
     "text": [
      "[*********************100%%**********************]  1 of 1 completed\n",
      "[*********************100%%**********************]  1 of 1 completed\n",
      "[*********************100%%**********************]  1 of 1 completed\n"
     ]
    },
    {
     "name": "stdout",
     "output_type": "stream",
     "text": [
      "all: 2021-07-28 00:00:00 2024-02-22 00:00:00\n",
      "dataset lengths (existing vs new): 647, 2415\n",
      "treas: ^FVX\n",
      "all: 2021-07-28 00:00:00 2024-02-22 00:00:00\n",
      "dataset lengths (existing vs new): 647, 2415\n",
      "treas: ARKK\n",
      "all: 2021-07-28 00:00:00 2024-02-22 00:00:00\n",
      "dataset lengths (existing vs new): 647, 2242\n",
      "treas: IWM\n"
     ]
    },
    {
     "name": "stderr",
     "output_type": "stream",
     "text": [
      "[*********************100%%**********************]  1 of 1 completed\n",
      "[*********************100%%**********************]  1 of 1 completed\n"
     ]
    },
    {
     "name": "stdout",
     "output_type": "stream",
     "text": [
      "all: 2021-07-28 00:00:00 2024-02-22 00:00:00\n",
      "dataset lengths (existing vs new): 647, 2417\n",
      "treas: QQQ\n",
      "all: 2021-07-28 00:00:00 2024-02-22 00:00:00\n",
      "dataset lengths (existing vs new): 647, 2417\n",
      "treas: AAPL\n"
     ]
    },
    {
     "name": "stderr",
     "output_type": "stream",
     "text": [
      "[*********************100%%**********************]  1 of 1 completed\n"
     ]
    },
    {
     "name": "stdout",
     "output_type": "stream",
     "text": [
      "all: 2021-07-28 00:00:00 2024-02-22 00:00:00\n",
      "dataset lengths (existing vs new): 647, 2417\n",
      " 55:CCJ\n"
     ]
    },
    {
     "name": "stderr",
     "output_type": "stream",
     "text": [
      "[*********************100%%**********************]  1 of 1 completed\n",
      "[*********************100%%**********************]  1 of 1 completed\n",
      "[*********************100%%**********************]  1 of 1 completed\n",
      "[*********************100%%**********************]  1 of 1 completed"
     ]
    },
    {
     "name": "stdout",
     "output_type": "stream",
     "text": [
      "ticker: CCJ\n",
      "range: 2014-07-17 00:00:00 2024-02-22 00:00:00\n",
      "index: 2014-02-24 00:00:00 2024-02-22 00:00:00\n",
      "all: 2014-07-17 00:00:00 2024-02-22 00:00:00\n",
      "dataset lengths (existing vs new): 2417, 2417\n",
      "index: 2014-02-24 00:00:00 2024-02-22 00:00:00\n",
      "all: 2014-07-17 00:00:00 2024-02-22 00:00:00\n",
      "dataset lengths (existing vs new): 2417, 2417\n",
      "index: 2014-02-24 00:00:00 2024-02-22 00:00:00\n"
     ]
    },
    {
     "name": "stderr",
     "output_type": "stream",
     "text": [
      "\n",
      "[*********************100%%**********************]  1 of 1 completed\n"
     ]
    },
    {
     "name": "stdout",
     "output_type": "stream",
     "text": [
      "all: 2014-07-17 00:00:00 2024-02-22 00:00:00\n",
      "dataset lengths (existing vs new): 2417, 2417\n",
      "treas: ^TNX\n",
      "all: 2014-07-17 00:00:00 2024-02-22 00:00:00\n",
      "dataset lengths (existing vs new): 2417, 2415\n",
      "treas: ^FVX\n"
     ]
    },
    {
     "name": "stderr",
     "output_type": "stream",
     "text": [
      "[*********************100%%**********************]  1 of 1 completed\n",
      "[*********************100%%**********************]  1 of 1 completed\n",
      "[*********************100%%**********************]  1 of 1 completed\n"
     ]
    },
    {
     "name": "stdout",
     "output_type": "stream",
     "text": [
      "all: 2014-07-17 00:00:00 2024-02-22 00:00:00\n",
      "dataset lengths (existing vs new): 2415, 2415\n",
      "treas: ARKK\n",
      "all: 2015-03-27 00:00:00 2024-02-22 00:00:00\n",
      "dataset lengths (existing vs new): 2415, 2242\n",
      "treas: IWM\n",
      "all: 2015-03-27 00:00:00 2024-02-22 00:00:00\n",
      "dataset lengths (existing vs new): 2240, 2417\n",
      "treas: QQQ\n"
     ]
    },
    {
     "name": "stderr",
     "output_type": "stream",
     "text": [
      "[*********************100%%**********************]  1 of 1 completed\n",
      "[*********************100%%**********************]  1 of 1 completed\n"
     ]
    },
    {
     "name": "stdout",
     "output_type": "stream",
     "text": [
      "all: 2015-03-27 00:00:00 2024-02-22 00:00:00\n",
      "dataset lengths (existing vs new): 2240, 2417\n",
      "treas: AAPL\n",
      "all: 2015-03-27 00:00:00 2024-02-22 00:00:00\n",
      "dataset lengths (existing vs new): 2240, 2417\n",
      " 56:CDNS\n"
     ]
    },
    {
     "name": "stderr",
     "output_type": "stream",
     "text": [
      "[*********************100%%**********************]  1 of 1 completed\n",
      "[*********************100%%**********************]  1 of 1 completed\n",
      "[*********************100%%**********************]  1 of 1 completed\n"
     ]
    },
    {
     "name": "stdout",
     "output_type": "stream",
     "text": [
      "ticker: CDNS\n",
      "range: 2014-07-17 00:00:00 2024-02-22 00:00:00\n",
      "index: 2014-02-24 00:00:00 2024-02-22 00:00:00\n",
      "all: 2014-07-17 00:00:00 2024-02-22 00:00:00\n",
      "dataset lengths (existing vs new): 2417, 2417\n",
      "index: 2014-02-24 00:00:00 2024-02-22 00:00:00\n",
      "all: 2014-07-17 00:00:00 2024-02-22 00:00:00\n",
      "dataset lengths (existing vs new): 2417, 2417\n"
     ]
    },
    {
     "name": "stderr",
     "output_type": "stream",
     "text": [
      "[*********************100%%**********************]  1 of 1 completed\n",
      "[*********************100%%**********************]  1 of 1 completed\n",
      "[*********************100%%**********************]  1 of 1 completed\n"
     ]
    },
    {
     "name": "stdout",
     "output_type": "stream",
     "text": [
      "index: 2014-02-24 00:00:00 2024-02-22 00:00:00\n",
      "all: 2014-07-17 00:00:00 2024-02-22 00:00:00\n",
      "dataset lengths (existing vs new): 2417, 2417\n",
      "treas: ^TNX\n",
      "all: 2014-07-17 00:00:00 2024-02-22 00:00:00\n",
      "dataset lengths (existing vs new): 2417, 2415\n",
      "treas: ^FVX\n",
      "all: 2014-07-17 00:00:00 2024-02-22 00:00:00\n",
      "dataset lengths (existing vs new): 2415, 2415\n",
      "treas: ARKK\n"
     ]
    },
    {
     "name": "stderr",
     "output_type": "stream",
     "text": [
      "[*********************100%%**********************]  1 of 1 completed\n"
     ]
    },
    {
     "name": "stdout",
     "output_type": "stream",
     "text": [
      "all: 2015-03-27 00:00:00 2024-02-22 00:00:00\n",
      "dataset lengths (existing vs new): 2415, 2242\n",
      "treas: IWM\n"
     ]
    },
    {
     "name": "stderr",
     "output_type": "stream",
     "text": [
      "[*********************100%%**********************]  1 of 1 completed\n",
      "[*********************100%%**********************]  1 of 1 completed\n",
      "[*********************100%%**********************]  1 of 1 completed\n"
     ]
    },
    {
     "name": "stdout",
     "output_type": "stream",
     "text": [
      "all: 2015-03-27 00:00:00 2024-02-22 00:00:00\n",
      "dataset lengths (existing vs new): 2240, 2417\n",
      "treas: QQQ\n",
      "all: 2015-03-27 00:00:00 2024-02-22 00:00:00\n",
      "dataset lengths (existing vs new): 2240, 2417\n",
      "treas: AAPL\n",
      "all: 2015-03-27 00:00:00 2024-02-22 00:00:00\n",
      "dataset lengths (existing vs new): 2240, 2417\n",
      " 57:CDW\n"
     ]
    },
    {
     "name": "stderr",
     "output_type": "stream",
     "text": [
      "[*********************100%%**********************]  1 of 1 completed\n",
      "[*********************100%%**********************]  1 of 1 completed"
     ]
    },
    {
     "name": "stdout",
     "output_type": "stream",
     "text": [
      "ticker: CDW\n",
      "range: 2014-07-17 00:00:00 2024-02-22 00:00:00\n",
      "index: 2014-02-24 00:00:00 2024-02-22 00:00:00\n"
     ]
    },
    {
     "name": "stderr",
     "output_type": "stream",
     "text": [
      "\n",
      "[*********************100%%**********************]  1 of 1 completed\n",
      "[*********************100%%**********************]  1 of 1 completed\n",
      "[*********************100%%**********************]  1 of 1 completed"
     ]
    },
    {
     "name": "stdout",
     "output_type": "stream",
     "text": [
      "all: 2014-07-17 00:00:00 2024-02-22 00:00:00\n",
      "dataset lengths (existing vs new): 2417, 2417\n",
      "index: 2014-02-24 00:00:00 2024-02-22 00:00:00\n",
      "all: 2014-07-17 00:00:00 2024-02-22 00:00:00\n",
      "dataset lengths (existing vs new): 2417, 2417\n",
      "index: 2014-02-24 00:00:00 2024-02-22 00:00:00\n",
      "all: 2014-07-17 00:00:00 2024-02-22 00:00:00\n",
      "dataset lengths (existing vs new): 2417, 2417\n",
      "treas: ^TNX\n"
     ]
    },
    {
     "name": "stderr",
     "output_type": "stream",
     "text": [
      "\n",
      "[*********************100%%**********************]  1 of 1 completed\n"
     ]
    },
    {
     "name": "stdout",
     "output_type": "stream",
     "text": [
      "all: 2014-07-17 00:00:00 2024-02-22 00:00:00\n",
      "dataset lengths (existing vs new): 2417, 2415\n",
      "treas: ^FVX\n",
      "all: 2014-07-17 00:00:00 2024-02-22 00:00:00\n",
      "dataset lengths (existing vs new): 2415, 2415\n",
      "treas: ARKK\n"
     ]
    },
    {
     "name": "stderr",
     "output_type": "stream",
     "text": [
      "[*********************100%%**********************]  1 of 1 completed\n",
      "[*********************100%%**********************]  1 of 1 completed\n"
     ]
    },
    {
     "name": "stdout",
     "output_type": "stream",
     "text": [
      "all: 2015-03-27 00:00:00 2024-02-22 00:00:00\n",
      "dataset lengths (existing vs new): 2415, 2242\n",
      "treas: IWM\n",
      "all: 2015-03-27 00:00:00 2024-02-22 00:00:00\n",
      "dataset lengths (existing vs new): 2240, 2417\n",
      "treas: QQQ\n"
     ]
    },
    {
     "name": "stderr",
     "output_type": "stream",
     "text": [
      "[*********************100%%**********************]  1 of 1 completed\n"
     ]
    },
    {
     "name": "stdout",
     "output_type": "stream",
     "text": [
      "all: 2015-03-27 00:00:00 2024-02-22 00:00:00\n",
      "dataset lengths (existing vs new): 2240, 2417\n",
      "treas: AAPL\n"
     ]
    },
    {
     "name": "stderr",
     "output_type": "stream",
     "text": [
      "[*********************100%%**********************]  1 of 1 completed\n"
     ]
    },
    {
     "name": "stdout",
     "output_type": "stream",
     "text": [
      "all: 2015-03-27 00:00:00 2024-02-22 00:00:00\n",
      "dataset lengths (existing vs new): 2240, 2417\n"
     ]
    },
    {
     "name": "stderr",
     "output_type": "stream",
     "text": [
      "[*********************100%%**********************]  1 of 1 completed"
     ]
    },
    {
     "name": "stdout",
     "output_type": "stream",
     "text": [
      " 58:CHGG\n",
      "ticker: CHGG\n",
      "range: 2014-07-17 00:00:00 2024-02-22 00:00:00\n"
     ]
    },
    {
     "name": "stderr",
     "output_type": "stream",
     "text": [
      "\n",
      "[*********************100%%**********************]  1 of 1 completed\n",
      "[*********************100%%**********************]  1 of 1 completed\n"
     ]
    },
    {
     "name": "stdout",
     "output_type": "stream",
     "text": [
      "index: 2014-02-24 00:00:00 2024-02-22 00:00:00\n",
      "all: 2014-07-17 00:00:00 2024-02-22 00:00:00\n",
      "dataset lengths (existing vs new): 2417, 2417\n",
      "index: 2014-02-24 00:00:00 2024-02-22 00:00:00\n",
      "all: 2014-07-17 00:00:00 2024-02-22 00:00:00\n",
      "dataset lengths (existing vs new): 2417, 2417\n"
     ]
    },
    {
     "name": "stderr",
     "output_type": "stream",
     "text": [
      "[*********************100%%**********************]  1 of 1 completed\n",
      "[*********************100%%**********************]  1 of 1 completed\n",
      "[*********************100%%**********************]  1 of 1 completed\n"
     ]
    },
    {
     "name": "stdout",
     "output_type": "stream",
     "text": [
      "index: 2014-02-24 00:00:00 2024-02-22 00:00:00\n",
      "all: 2014-07-17 00:00:00 2024-02-22 00:00:00\n",
      "dataset lengths (existing vs new): 2417, 2417\n",
      "treas: ^TNX\n",
      "all: 2014-07-17 00:00:00 2024-02-22 00:00:00\n",
      "dataset lengths (existing vs new): 2417, 2415\n",
      "treas: ^FVX\n",
      "all: 2014-07-17 00:00:00 2024-02-22 00:00:00\n",
      "dataset lengths (existing vs new): 2415, 2415\n",
      "treas: ARKK\n"
     ]
    },
    {
     "name": "stderr",
     "output_type": "stream",
     "text": [
      "[*********************100%%**********************]  1 of 1 completed\n",
      "[*********************100%%**********************]  1 of 1 completed\n"
     ]
    },
    {
     "name": "stdout",
     "output_type": "stream",
     "text": [
      "all: 2015-03-27 00:00:00 2024-02-22 00:00:00\n",
      "dataset lengths (existing vs new): 2415, 2242\n",
      "treas: IWM\n",
      "all: 2015-03-27 00:00:00 2024-02-22 00:00:00\n",
      "dataset lengths (existing vs new): 2240, 2417\n",
      "treas: QQQ\n"
     ]
    },
    {
     "name": "stderr",
     "output_type": "stream",
     "text": [
      "[*********************100%%**********************]  1 of 1 completed\n",
      "[*********************100%%**********************]  1 of 1 completed\n"
     ]
    },
    {
     "name": "stdout",
     "output_type": "stream",
     "text": [
      "all: 2015-03-27 00:00:00 2024-02-22 00:00:00\n",
      "dataset lengths (existing vs new): 2240, 2417\n",
      "treas: AAPL\n",
      "all: 2015-03-27 00:00:00 2024-02-22 00:00:00\n",
      "dataset lengths (existing vs new): 2240, 2417\n"
     ]
    },
    {
     "name": "stderr",
     "output_type": "stream",
     "text": [
      "[*********************100%%**********************]  1 of 1 completed"
     ]
    },
    {
     "name": "stdout",
     "output_type": "stream",
     "text": [
      " 59:CHKP\n",
      "ticker: CHKP\n",
      "range: 2014-07-17 00:00:00 2024-02-22 00:00:00\n"
     ]
    },
    {
     "name": "stderr",
     "output_type": "stream",
     "text": [
      "\n",
      "[*********************100%%**********************]  1 of 1 completed\n",
      "[*********************100%%**********************]  1 of 1 completed\n",
      "[*********************100%%**********************]  1 of 1 completed\n"
     ]
    },
    {
     "name": "stdout",
     "output_type": "stream",
     "text": [
      "index: 2014-02-24 00:00:00 2024-02-22 00:00:00\n",
      "all: 2014-07-17 00:00:00 2024-02-22 00:00:00\n",
      "dataset lengths (existing vs new): 2417, 2417\n",
      "index: 2014-02-24 00:00:00 2024-02-22 00:00:00\n",
      "all: 2014-07-17 00:00:00 2024-02-22 00:00:00\n",
      "dataset lengths (existing vs new): 2417, 2417\n",
      "index: 2014-02-24 00:00:00 2024-02-22 00:00:00\n",
      "all: 2014-07-17 00:00:00 2024-02-22 00:00:00\n",
      "dataset lengths (existing vs new): 2417, 2417\n",
      "treas: ^TNX\n"
     ]
    },
    {
     "name": "stderr",
     "output_type": "stream",
     "text": [
      "[*********************100%%**********************]  1 of 1 completed\n",
      "[*********************100%%**********************]  1 of 1 completed\n"
     ]
    },
    {
     "name": "stdout",
     "output_type": "stream",
     "text": [
      "all: 2014-07-17 00:00:00 2024-02-22 00:00:00\n",
      "dataset lengths (existing vs new): 2417, 2415\n",
      "treas: ^FVX\n",
      "all: 2014-07-17 00:00:00 2024-02-22 00:00:00\n",
      "dataset lengths (existing vs new): 2415, 2415\n",
      "treas: ARKK\n"
     ]
    },
    {
     "name": "stderr",
     "output_type": "stream",
     "text": [
      "[*********************100%%**********************]  1 of 1 completed\n",
      "[*********************100%%**********************]  1 of 1 completed\n",
      "[*********************100%%**********************]  1 of 1 completed\n"
     ]
    },
    {
     "name": "stdout",
     "output_type": "stream",
     "text": [
      "all: 2015-03-27 00:00:00 2024-02-22 00:00:00\n",
      "dataset lengths (existing vs new): 2415, 2242\n",
      "treas: IWM\n",
      "all: 2015-03-27 00:00:00 2024-02-22 00:00:00\n",
      "dataset lengths (existing vs new): 2240, 2417\n",
      "treas: QQQ\n",
      "all: 2015-03-27 00:00:00 2024-02-22 00:00:00\n",
      "dataset lengths (existing vs new): 2240, 2417\n",
      "treas: AAPL\n"
     ]
    },
    {
     "name": "stderr",
     "output_type": "stream",
     "text": [
      "[*********************100%%**********************]  1 of 1 completed\n"
     ]
    },
    {
     "name": "stdout",
     "output_type": "stream",
     "text": [
      "all: 2015-03-27 00:00:00 2024-02-22 00:00:00\n",
      "dataset lengths (existing vs new): 2240, 2417\n"
     ]
    },
    {
     "name": "stderr",
     "output_type": "stream",
     "text": [
      "[*********************100%%**********************]  1 of 1 completed"
     ]
    },
    {
     "name": "stdout",
     "output_type": "stream",
     "text": [
      " 60:CHWY\n"
     ]
    },
    {
     "name": "stderr",
     "output_type": "stream",
     "text": [
      "\n",
      "[*********************100%%**********************]  1 of 1 completed\n",
      "[*********************100%%**********************]  1 of 1 completed\n"
     ]
    },
    {
     "name": "stdout",
     "output_type": "stream",
     "text": [
      "ticker: CHWY\n",
      "range: 2019-11-05 00:00:00 2024-02-22 00:00:00\n",
      "index: 2014-02-24 00:00:00 2024-02-22 00:00:00\n",
      "all: 2019-11-05 00:00:00 2024-02-22 00:00:00\n",
      "dataset lengths (existing vs new): 1081, 2417\n",
      "index: 2014-02-24 00:00:00 2024-02-22 00:00:00\n",
      "all: 2019-11-05 00:00:00 2024-02-22 00:00:00\n",
      "dataset lengths (existing vs new): 1081, 2417\n"
     ]
    },
    {
     "name": "stderr",
     "output_type": "stream",
     "text": [
      "[*********************100%%**********************]  1 of 1 completed\n",
      "[*********************100%%**********************]  1 of 1 completed\n",
      "[*********************100%%**********************]  1 of 1 completed\n"
     ]
    },
    {
     "name": "stdout",
     "output_type": "stream",
     "text": [
      "index: 2014-02-24 00:00:00 2024-02-22 00:00:00\n",
      "all: 2019-11-05 00:00:00 2024-02-22 00:00:00\n",
      "dataset lengths (existing vs new): 1081, 2417\n",
      "treas: ^TNX\n",
      "all: 2019-11-05 00:00:00 2024-02-22 00:00:00\n",
      "dataset lengths (existing vs new): 1081, 2415\n",
      "treas: ^FVX\n",
      "all: 2019-11-05 00:00:00 2024-02-22 00:00:00\n",
      "dataset lengths (existing vs new): 1081, 2415\n",
      "treas: ARKK\n"
     ]
    },
    {
     "name": "stderr",
     "output_type": "stream",
     "text": [
      "[*********************100%%**********************]  1 of 1 completed\n",
      "[*********************100%%**********************]  1 of 1 completed\n"
     ]
    },
    {
     "name": "stdout",
     "output_type": "stream",
     "text": [
      "all: 2019-11-05 00:00:00 2024-02-22 00:00:00\n",
      "dataset lengths (existing vs new): 1081, 2242\n",
      "treas: IWM\n",
      "all: 2019-11-05 00:00:00 2024-02-22 00:00:00\n",
      "dataset lengths (existing vs new): 1081, 2417\n",
      "treas: QQQ\n"
     ]
    },
    {
     "name": "stderr",
     "output_type": "stream",
     "text": [
      "[*********************100%%**********************]  1 of 1 completed\n",
      "[*********************100%%**********************]  1 of 1 completed\n"
     ]
    },
    {
     "name": "stdout",
     "output_type": "stream",
     "text": [
      "all: 2019-11-05 00:00:00 2024-02-22 00:00:00\n",
      "dataset lengths (existing vs new): 1081, 2417\n",
      "treas: AAPL\n",
      "all: 2019-11-05 00:00:00 2024-02-22 00:00:00\n",
      "dataset lengths (existing vs new): 1081, 2417\n",
      " 61:CMCSA\n"
     ]
    },
    {
     "name": "stderr",
     "output_type": "stream",
     "text": [
      "[*********************100%%**********************]  1 of 1 completed\n",
      "[*********************100%%**********************]  1 of 1 completed\n",
      "[*********************100%%**********************]  1 of 1 completed\n",
      "[*********************100%%**********************]  1 of 1 completed"
     ]
    },
    {
     "name": "stdout",
     "output_type": "stream",
     "text": [
      "ticker: CMCSA\n",
      "range: 2014-07-17 00:00:00 2024-02-22 00:00:00\n",
      "index: 2014-02-24 00:00:00 2024-02-22 00:00:00\n",
      "all: 2014-07-17 00:00:00 2024-02-22 00:00:00\n",
      "dataset lengths (existing vs new): 2417, 2417\n",
      "index: 2014-02-24 00:00:00 2024-02-22 00:00:00\n",
      "all: 2014-07-17 00:00:00 2024-02-22 00:00:00\n",
      "dataset lengths (existing vs new): 2417, 2417\n",
      "index: 2014-02-24 00:00:00 2024-02-22 00:00:00\n"
     ]
    },
    {
     "name": "stderr",
     "output_type": "stream",
     "text": [
      "\n",
      "[*********************100%%**********************]  1 of 1 completed\n",
      "[*********************100%%**********************]  1 of 1 completed\n"
     ]
    },
    {
     "name": "stdout",
     "output_type": "stream",
     "text": [
      "all: 2014-07-17 00:00:00 2024-02-22 00:00:00\n",
      "dataset lengths (existing vs new): 2417, 2417\n",
      "treas: ^TNX\n",
      "all: 2014-07-17 00:00:00 2024-02-22 00:00:00\n",
      "dataset lengths (existing vs new): 2417, 2415\n",
      "treas: ^FVX\n",
      "all: 2014-07-17 00:00:00 2024-02-22 00:00:00\n",
      "dataset lengths (existing vs new): 2415, 2415\n",
      "treas: ARKK\n"
     ]
    },
    {
     "name": "stderr",
     "output_type": "stream",
     "text": [
      "[*********************100%%**********************]  1 of 1 completed\n",
      "[*********************100%%**********************]  1 of 1 completed\n",
      "[*********************100%%**********************]  1 of 1 completed\n"
     ]
    },
    {
     "name": "stdout",
     "output_type": "stream",
     "text": [
      "all: 2015-03-27 00:00:00 2024-02-22 00:00:00\n",
      "dataset lengths (existing vs new): 2415, 2242\n",
      "treas: IWM\n",
      "all: 2015-03-27 00:00:00 2024-02-22 00:00:00\n",
      "dataset lengths (existing vs new): 2240, 2417\n",
      "treas: QQQ\n",
      "all: 2015-03-27 00:00:00 2024-02-22 00:00:00\n",
      "dataset lengths (existing vs new): 2240, 2417\n",
      "treas: AAPL\n"
     ]
    },
    {
     "name": "stderr",
     "output_type": "stream",
     "text": [
      "[*********************100%%**********************]  1 of 1 completed\n"
     ]
    },
    {
     "name": "stdout",
     "output_type": "stream",
     "text": [
      "all: 2015-03-27 00:00:00 2024-02-22 00:00:00\n",
      "dataset lengths (existing vs new): 2240, 2417\n"
     ]
    },
    {
     "name": "stderr",
     "output_type": "stream",
     "text": [
      "[*********************100%%**********************]  1 of 1 completed"
     ]
    },
    {
     "name": "stdout",
     "output_type": "stream",
     "text": [
      " 62:COIN\n",
      "ticker: COIN\n",
      "range: 2021-09-03 00:00:00 2024-02-22 00:00:00\n"
     ]
    },
    {
     "name": "stderr",
     "output_type": "stream",
     "text": [
      "\n",
      "[*********************100%%**********************]  1 of 1 completed\n",
      "[*********************100%%**********************]  1 of 1 completed\n",
      "[*********************100%%**********************]  1 of 1 completed\n"
     ]
    },
    {
     "name": "stdout",
     "output_type": "stream",
     "text": [
      "index: 2014-02-24 00:00:00 2024-02-22 00:00:00\n",
      "all: 2021-09-03 00:00:00 2024-02-22 00:00:00\n",
      "dataset lengths (existing vs new): 620, 2417\n",
      "index: 2014-02-24 00:00:00 2024-02-22 00:00:00\n",
      "all: 2021-09-03 00:00:00 2024-02-22 00:00:00\n",
      "dataset lengths (existing vs new): 620, 2417\n",
      "index: 2014-02-24 00:00:00 2024-02-22 00:00:00\n",
      "all: 2021-09-03 00:00:00 2024-02-22 00:00:00\n",
      "dataset lengths (existing vs new): 620, 2417\n",
      "treas: ^TNX\n"
     ]
    },
    {
     "name": "stderr",
     "output_type": "stream",
     "text": [
      "[*********************100%%**********************]  1 of 1 completed\n",
      "[*********************100%%**********************]  1 of 1 completed\n"
     ]
    },
    {
     "name": "stdout",
     "output_type": "stream",
     "text": [
      "all: 2021-09-03 00:00:00 2024-02-22 00:00:00\n",
      "dataset lengths (existing vs new): 620, 2415\n",
      "treas: ^FVX\n",
      "all: 2021-09-03 00:00:00 2024-02-22 00:00:00\n",
      "dataset lengths (existing vs new): 620, 2415\n",
      "treas: ARKK\n"
     ]
    },
    {
     "name": "stderr",
     "output_type": "stream",
     "text": [
      "[*********************100%%**********************]  1 of 1 completed\n",
      "[*********************100%%**********************]  1 of 1 completed\n",
      "[*********************100%%**********************]  1 of 1 completed\n"
     ]
    },
    {
     "name": "stdout",
     "output_type": "stream",
     "text": [
      "all: 2021-09-03 00:00:00 2024-02-22 00:00:00\n",
      "dataset lengths (existing vs new): 620, 2242\n",
      "treas: IWM\n",
      "all: 2021-09-03 00:00:00 2024-02-22 00:00:00\n",
      "dataset lengths (existing vs new): 620, 2417\n",
      "treas: QQQ\n",
      "all: 2021-09-03 00:00:00 2024-02-22 00:00:00\n",
      "dataset lengths (existing vs new): 620, 2417\n",
      "treas: AAPL\n"
     ]
    },
    {
     "name": "stderr",
     "output_type": "stream",
     "text": [
      "[*********************100%%**********************]  1 of 1 completed\n"
     ]
    },
    {
     "name": "stdout",
     "output_type": "stream",
     "text": [
      "all: 2021-09-03 00:00:00 2024-02-22 00:00:00\n",
      "dataset lengths (existing vs new): 620, 2417\n"
     ]
    },
    {
     "name": "stderr",
     "output_type": "stream",
     "text": [
      "[*********************100%%**********************]  1 of 1 completed"
     ]
    },
    {
     "name": "stdout",
     "output_type": "stream",
     "text": [
      " 63:CORT\n",
      "ticker: CORT\n",
      "range: 2014-07-17 00:00:00 2024-02-22 00:00:00\n"
     ]
    },
    {
     "name": "stderr",
     "output_type": "stream",
     "text": [
      "\n",
      "[*********************100%%**********************]  1 of 1 completed\n",
      "[*********************100%%**********************]  1 of 1 completed\n"
     ]
    },
    {
     "name": "stdout",
     "output_type": "stream",
     "text": [
      "index: 2014-02-24 00:00:00 2024-02-22 00:00:00\n",
      "all: 2014-07-17 00:00:00 2024-02-22 00:00:00\n",
      "dataset lengths (existing vs new): 2417, 2417\n",
      "index: 2014-02-24 00:00:00 2024-02-22 00:00:00\n",
      "all: 2014-07-17 00:00:00 2024-02-22 00:00:00\n",
      "dataset lengths (existing vs new): 2417, 2417\n"
     ]
    },
    {
     "name": "stderr",
     "output_type": "stream",
     "text": [
      "[*********************100%%**********************]  1 of 1 completed\n",
      "[*********************100%%**********************]  1 of 1 completed\n",
      "[*********************100%%**********************]  1 of 1 completed\n"
     ]
    },
    {
     "name": "stdout",
     "output_type": "stream",
     "text": [
      "index: 2014-02-24 00:00:00 2024-02-22 00:00:00\n",
      "all: 2014-07-17 00:00:00 2024-02-22 00:00:00\n",
      "dataset lengths (existing vs new): 2417, 2417\n",
      "treas: ^TNX\n",
      "all: 2014-07-17 00:00:00 2024-02-22 00:00:00\n",
      "dataset lengths (existing vs new): 2417, 2415\n",
      "treas: ^FVX\n",
      "all: 2014-07-17 00:00:00 2024-02-22 00:00:00\n",
      "dataset lengths (existing vs new): 2415, 2415\n",
      "treas: ARKK\n"
     ]
    },
    {
     "name": "stderr",
     "output_type": "stream",
     "text": [
      "[*********************100%%**********************]  1 of 1 completed\n",
      "[*********************100%%**********************]  1 of 1 completed\n"
     ]
    },
    {
     "name": "stdout",
     "output_type": "stream",
     "text": [
      "all: 2015-03-27 00:00:00 2024-02-22 00:00:00\n",
      "dataset lengths (existing vs new): 2415, 2242\n",
      "treas: IWM\n",
      "all: 2015-03-27 00:00:00 2024-02-22 00:00:00\n",
      "dataset lengths (existing vs new): 2240, 2417\n",
      "treas: QQQ\n"
     ]
    },
    {
     "name": "stderr",
     "output_type": "stream",
     "text": [
      "[*********************100%%**********************]  1 of 1 completed\n",
      "[*********************100%%**********************]  1 of 1 completed\n"
     ]
    },
    {
     "name": "stdout",
     "output_type": "stream",
     "text": [
      "all: 2015-03-27 00:00:00 2024-02-22 00:00:00\n",
      "dataset lengths (existing vs new): 2240, 2417\n",
      "treas: AAPL\n",
      "all: 2015-03-27 00:00:00 2024-02-22 00:00:00\n",
      "dataset lengths (existing vs new): 2240, 2417\n"
     ]
    },
    {
     "name": "stderr",
     "output_type": "stream",
     "text": [
      "[*********************100%%**********************]  1 of 1 completed\n",
      "[*********************100%%**********************]  1 of 1 completed"
     ]
    },
    {
     "name": "stdout",
     "output_type": "stream",
     "text": [
      " 64:CPNG\n",
      "ticker: CPNG\n",
      "range: 2021-08-03 00:00:00 2024-02-22 00:00:00\n",
      "index: 2014-02-24 00:00:00 2024-02-22 00:00:00\n"
     ]
    },
    {
     "name": "stderr",
     "output_type": "stream",
     "text": [
      "\n",
      "[*********************100%%**********************]  1 of 1 completed\n",
      "[*********************100%%**********************]  1 of 1 completed\n"
     ]
    },
    {
     "name": "stdout",
     "output_type": "stream",
     "text": [
      "all: 2021-08-03 00:00:00 2024-02-22 00:00:00\n",
      "dataset lengths (existing vs new): 643, 2417\n",
      "index: 2014-02-24 00:00:00 2024-02-22 00:00:00\n",
      "all: 2021-08-03 00:00:00 2024-02-22 00:00:00\n",
      "dataset lengths (existing vs new): 643, 2417\n",
      "index: 2014-02-24 00:00:00 2024-02-22 00:00:00\n",
      "all: 2021-08-03 00:00:00 2024-02-22 00:00:00\n",
      "dataset lengths (existing vs new): 643, 2417\n",
      "treas: ^TNX\n"
     ]
    },
    {
     "name": "stderr",
     "output_type": "stream",
     "text": [
      "[*********************100%%**********************]  1 of 1 completed\n",
      "[*********************100%%**********************]  1 of 1 completed\n"
     ]
    },
    {
     "name": "stdout",
     "output_type": "stream",
     "text": [
      "all: 2021-08-03 00:00:00 2024-02-22 00:00:00\n",
      "dataset lengths (existing vs new): 643, 2415\n",
      "treas: ^FVX\n",
      "all: 2021-08-03 00:00:00 2024-02-22 00:00:00\n",
      "dataset lengths (existing vs new): 643, 2415\n",
      "treas: ARKK\n"
     ]
    },
    {
     "name": "stderr",
     "output_type": "stream",
     "text": [
      "[*********************100%%**********************]  1 of 1 completed\n",
      "[*********************100%%**********************]  1 of 1 completed\n",
      "[*********************100%%**********************]  1 of 1 completed\n"
     ]
    },
    {
     "name": "stdout",
     "output_type": "stream",
     "text": [
      "all: 2021-08-03 00:00:00 2024-02-22 00:00:00\n",
      "dataset lengths (existing vs new): 643, 2242\n",
      "treas: IWM\n",
      "all: 2021-08-03 00:00:00 2024-02-22 00:00:00\n",
      "dataset lengths (existing vs new): 643, 2417\n",
      "treas: QQQ\n",
      "all: 2021-08-03 00:00:00 2024-02-22 00:00:00\n",
      "dataset lengths (existing vs new): 643, 2417\n",
      "treas: AAPL\n"
     ]
    },
    {
     "name": "stderr",
     "output_type": "stream",
     "text": [
      "[*********************100%%**********************]  1 of 1 completed\n"
     ]
    },
    {
     "name": "stdout",
     "output_type": "stream",
     "text": [
      "all: 2021-08-03 00:00:00 2024-02-22 00:00:00\n",
      "dataset lengths (existing vs new): 643, 2417\n"
     ]
    },
    {
     "name": "stderr",
     "output_type": "stream",
     "text": [
      "[*********************100%%**********************]  1 of 1 completed"
     ]
    },
    {
     "name": "stdout",
     "output_type": "stream",
     "text": [
      " 65:CRM\n",
      "ticker: CRM\n",
      "range: 2014-07-17 00:00:00 2024-02-22 00:00:00\n"
     ]
    },
    {
     "name": "stderr",
     "output_type": "stream",
     "text": [
      "\n",
      "[*********************100%%**********************]  1 of 1 completed\n",
      "[*********************100%%**********************]  1 of 1 completed\n",
      "[*********************100%%**********************]  1 of 1 completed\n"
     ]
    },
    {
     "name": "stdout",
     "output_type": "stream",
     "text": [
      "index: 2014-02-24 00:00:00 2024-02-22 00:00:00\n",
      "all: 2014-07-17 00:00:00 2024-02-22 00:00:00\n",
      "dataset lengths (existing vs new): 2417, 2417\n",
      "index: 2014-02-24 00:00:00 2024-02-22 00:00:00\n",
      "all: 2014-07-17 00:00:00 2024-02-22 00:00:00\n",
      "dataset lengths (existing vs new): 2417, 2417\n",
      "index: 2014-02-24 00:00:00 2024-02-22 00:00:00\n",
      "all: 2014-07-17 00:00:00 2024-02-22 00:00:00\n",
      "dataset lengths (existing vs new): 2417, 2417\n",
      "treas: ^TNX\n"
     ]
    },
    {
     "name": "stderr",
     "output_type": "stream",
     "text": [
      "[*********************100%%**********************]  1 of 1 completed\n",
      "[*********************100%%**********************]  1 of 1 completed\n",
      "[*********************100%%**********************]  1 of 1 completed\n"
     ]
    },
    {
     "name": "stdout",
     "output_type": "stream",
     "text": [
      "all: 2014-07-17 00:00:00 2024-02-22 00:00:00\n",
      "dataset lengths (existing vs new): 2417, 2415\n",
      "treas: ^FVX\n",
      "all: 2014-07-17 00:00:00 2024-02-22 00:00:00\n",
      "dataset lengths (existing vs new): 2415, 2415\n",
      "treas: ARKK\n",
      "all: 2015-03-27 00:00:00 2024-02-22 00:00:00\n",
      "dataset lengths (existing vs new): 2415, 2242\n",
      "treas: IWM\n"
     ]
    },
    {
     "name": "stderr",
     "output_type": "stream",
     "text": [
      "[*********************100%%**********************]  1 of 1 completed\n",
      "[*********************100%%**********************]  1 of 1 completed\n",
      "[*********************100%%**********************]  1 of 1 completed\n"
     ]
    },
    {
     "name": "stdout",
     "output_type": "stream",
     "text": [
      "all: 2015-03-27 00:00:00 2024-02-22 00:00:00\n",
      "dataset lengths (existing vs new): 2240, 2417\n",
      "treas: QQQ\n",
      "all: 2015-03-27 00:00:00 2024-02-22 00:00:00\n",
      "dataset lengths (existing vs new): 2240, 2417\n",
      "treas: AAPL\n",
      "all: 2015-03-27 00:00:00 2024-02-22 00:00:00\n",
      "dataset lengths (existing vs new): 2240, 2417\n"
     ]
    },
    {
     "name": "stderr",
     "output_type": "stream",
     "text": [
      "[*********************100%%**********************]  1 of 1 completed"
     ]
    },
    {
     "name": "stdout",
     "output_type": "stream",
     "text": [
      " 66:CRSP\n",
      "ticker: CRSP\n",
      "range: 2017-03-15 00:00:00 2024-02-22 00:00:00\n"
     ]
    },
    {
     "name": "stderr",
     "output_type": "stream",
     "text": [
      "\n",
      "[*********************100%%**********************]  1 of 1 completed\n",
      "[*********************100%%**********************]  1 of 1 completed\n",
      "[*********************100%%**********************]  1 of 1 completed\n"
     ]
    },
    {
     "name": "stdout",
     "output_type": "stream",
     "text": [
      "index: 2014-02-24 00:00:00 2024-02-22 00:00:00\n",
      "all: 2017-03-15 00:00:00 2024-02-22 00:00:00\n",
      "dataset lengths (existing vs new): 1747, 2417\n",
      "index: 2014-02-24 00:00:00 2024-02-22 00:00:00\n",
      "all: 2017-03-15 00:00:00 2024-02-22 00:00:00\n",
      "dataset lengths (existing vs new): 1747, 2417\n",
      "index: 2014-02-24 00:00:00 2024-02-22 00:00:00\n",
      "all: 2017-03-15 00:00:00 2024-02-22 00:00:00\n",
      "dataset lengths (existing vs new): 1747, 2417\n",
      "treas: ^TNX\n"
     ]
    },
    {
     "name": "stderr",
     "output_type": "stream",
     "text": [
      "[*********************100%%**********************]  1 of 1 completed\n",
      "[*********************100%%**********************]  1 of 1 completed\n",
      "[*********************100%%**********************]  1 of 1 completed\n"
     ]
    },
    {
     "name": "stdout",
     "output_type": "stream",
     "text": [
      "all: 2017-03-15 00:00:00 2024-02-22 00:00:00\n",
      "dataset lengths (existing vs new): 1747, 2415\n",
      "treas: ^FVX\n",
      "all: 2017-03-15 00:00:00 2024-02-22 00:00:00\n",
      "dataset lengths (existing vs new): 1747, 2415\n",
      "treas: ARKK\n",
      "all: 2017-03-15 00:00:00 2024-02-22 00:00:00\n",
      "dataset lengths (existing vs new): 1747, 2242\n",
      "treas: IWM\n"
     ]
    },
    {
     "name": "stderr",
     "output_type": "stream",
     "text": [
      "[*********************100%%**********************]  1 of 1 completed\n",
      "[*********************100%%**********************]  1 of 1 completed\n",
      "[*********************100%%**********************]  1 of 1 completed\n"
     ]
    },
    {
     "name": "stdout",
     "output_type": "stream",
     "text": [
      "all: 2017-03-15 00:00:00 2024-02-22 00:00:00\n",
      "dataset lengths (existing vs new): 1747, 2417\n",
      "treas: QQQ\n",
      "all: 2017-03-15 00:00:00 2024-02-22 00:00:00\n",
      "dataset lengths (existing vs new): 1747, 2417\n",
      "treas: AAPL\n",
      "all: 2017-03-15 00:00:00 2024-02-22 00:00:00\n",
      "dataset lengths (existing vs new): 1747, 2417\n"
     ]
    },
    {
     "name": "stderr",
     "output_type": "stream",
     "text": [
      "[*********************100%%**********************]  1 of 1 completed"
     ]
    },
    {
     "name": "stdout",
     "output_type": "stream",
     "text": [
      " 67:CRWD\n"
     ]
    },
    {
     "name": "stderr",
     "output_type": "stream",
     "text": [
      "\n",
      "[*********************100%%**********************]  1 of 1 completed\n",
      "[*********************100%%**********************]  1 of 1 completed\n"
     ]
    },
    {
     "name": "stdout",
     "output_type": "stream",
     "text": [
      "ticker: CRWD\n",
      "range: 2019-11-01 00:00:00 2024-02-22 00:00:00\n",
      "index: 2014-02-24 00:00:00 2024-02-22 00:00:00\n",
      "all: 2019-11-01 00:00:00 2024-02-22 00:00:00\n",
      "dataset lengths (existing vs new): 1083, 2417\n",
      "index: 2014-02-24 00:00:00 2024-02-22 00:00:00\n",
      "all: 2019-11-01 00:00:00 2024-02-22 00:00:00\n",
      "dataset lengths (existing vs new): 1083, 2417\n"
     ]
    },
    {
     "name": "stderr",
     "output_type": "stream",
     "text": [
      "[*********************100%%**********************]  1 of 1 completed\n",
      "[*********************100%%**********************]  1 of 1 completed\n",
      "[*********************100%%**********************]  1 of 1 completed\n"
     ]
    },
    {
     "name": "stdout",
     "output_type": "stream",
     "text": [
      "index: 2014-02-24 00:00:00 2024-02-22 00:00:00\n",
      "all: 2019-11-01 00:00:00 2024-02-22 00:00:00\n",
      "dataset lengths (existing vs new): 1083, 2417\n",
      "treas: ^TNX\n",
      "all: 2019-11-01 00:00:00 2024-02-22 00:00:00\n",
      "dataset lengths (existing vs new): 1083, 2415\n",
      "treas: ^FVX\n",
      "all: 2019-11-01 00:00:00 2024-02-22 00:00:00\n",
      "dataset lengths (existing vs new): 1083, 2415\n",
      "treas: ARKK\n"
     ]
    },
    {
     "name": "stderr",
     "output_type": "stream",
     "text": [
      "[*********************100%%**********************]  1 of 1 completed\n",
      "[*********************100%%**********************]  1 of 1 completed\n",
      "[*********************100%%**********************]  1 of 1 completed\n"
     ]
    },
    {
     "name": "stdout",
     "output_type": "stream",
     "text": [
      "all: 2019-11-01 00:00:00 2024-02-22 00:00:00\n",
      "dataset lengths (existing vs new): 1083, 2242\n",
      "treas: IWM\n",
      "all: 2019-11-01 00:00:00 2024-02-22 00:00:00\n",
      "dataset lengths (existing vs new): 1083, 2417\n",
      "treas: QQQ\n",
      "all: 2019-11-01 00:00:00 2024-02-22 00:00:00\n",
      "dataset lengths (existing vs new): 1083, 2417\n",
      "treas: AAPL\n"
     ]
    },
    {
     "name": "stderr",
     "output_type": "stream",
     "text": [
      "[*********************100%%**********************]  1 of 1 completed\n"
     ]
    },
    {
     "name": "stdout",
     "output_type": "stream",
     "text": [
      "all: 2019-11-01 00:00:00 2024-02-22 00:00:00\n",
      "dataset lengths (existing vs new): 1083, 2417\n"
     ]
    },
    {
     "name": "stderr",
     "output_type": "stream",
     "text": [
      "[*********************100%%**********************]  1 of 1 completed"
     ]
    },
    {
     "name": "stdout",
     "output_type": "stream",
     "text": [
      " 68:CSCO\n",
      "ticker: CSCO\n",
      "range: 2014-07-17 00:00:00 2024-02-22 00:00:00\n"
     ]
    },
    {
     "name": "stderr",
     "output_type": "stream",
     "text": [
      "\n",
      "[*********************100%%**********************]  1 of 1 completed\n"
     ]
    },
    {
     "name": "stdout",
     "output_type": "stream",
     "text": [
      "index: 2014-02-24 00:00:00 2024-02-22 00:00:00\n",
      "all: 2014-07-17 00:00:00 2024-02-22 00:00:00\n",
      "dataset lengths (existing vs new): 2417, 2417\n"
     ]
    },
    {
     "name": "stderr",
     "output_type": "stream",
     "text": [
      "[*********************100%%**********************]  1 of 1 completed\n"
     ]
    },
    {
     "name": "stdout",
     "output_type": "stream",
     "text": [
      "index: 2014-02-24 00:00:00 2024-02-22 00:00:00\n",
      "all: 2014-07-17 00:00:00 2024-02-22 00:00:00\n",
      "dataset lengths (existing vs new): 2417, 2417\n"
     ]
    },
    {
     "name": "stderr",
     "output_type": "stream",
     "text": [
      "[*********************100%%**********************]  1 of 1 completed\n",
      "[*********************100%%**********************]  1 of 1 completed\n",
      "[*********************100%%**********************]  1 of 1 completed\n"
     ]
    },
    {
     "name": "stdout",
     "output_type": "stream",
     "text": [
      "index: 2014-02-24 00:00:00 2024-02-22 00:00:00\n",
      "all: 2014-07-17 00:00:00 2024-02-22 00:00:00\n",
      "dataset lengths (existing vs new): 2417, 2417\n",
      "treas: ^TNX\n",
      "all: 2014-07-17 00:00:00 2024-02-22 00:00:00\n",
      "dataset lengths (existing vs new): 2417, 2415\n",
      "treas: ^FVX\n",
      "all: 2014-07-17 00:00:00 2024-02-22 00:00:00\n",
      "dataset lengths (existing vs new): 2415, 2415\n",
      "treas: ARKK\n"
     ]
    },
    {
     "name": "stderr",
     "output_type": "stream",
     "text": [
      "[*********************100%%**********************]  1 of 1 completed\n",
      "[*********************100%%**********************]  1 of 1 completed\n"
     ]
    },
    {
     "name": "stdout",
     "output_type": "stream",
     "text": [
      "all: 2015-03-27 00:00:00 2024-02-22 00:00:00\n",
      "dataset lengths (existing vs new): 2415, 2242\n",
      "treas: IWM\n",
      "all: 2015-03-27 00:00:00 2024-02-22 00:00:00\n",
      "dataset lengths (existing vs new): 2240, 2417\n",
      "treas: QQQ\n"
     ]
    },
    {
     "name": "stderr",
     "output_type": "stream",
     "text": [
      "[*********************100%%**********************]  1 of 1 completed\n",
      "[*********************100%%**********************]  1 of 1 completed\n"
     ]
    },
    {
     "name": "stdout",
     "output_type": "stream",
     "text": [
      "all: 2015-03-27 00:00:00 2024-02-22 00:00:00\n",
      "dataset lengths (existing vs new): 2240, 2417\n",
      "treas: AAPL\n",
      "all: 2015-03-27 00:00:00 2024-02-22 00:00:00\n",
      "dataset lengths (existing vs new): 2240, 2417\n"
     ]
    },
    {
     "name": "stderr",
     "output_type": "stream",
     "text": [
      "[*********************100%%**********************]  1 of 1 completed"
     ]
    },
    {
     "name": "stdout",
     "output_type": "stream",
     "text": [
      " 69:CSIQ\n"
     ]
    },
    {
     "name": "stderr",
     "output_type": "stream",
     "text": [
      "\n",
      "[*********************100%%**********************]  1 of 1 completed\n",
      "[*********************100%%**********************]  1 of 1 completed\n"
     ]
    },
    {
     "name": "stdout",
     "output_type": "stream",
     "text": [
      "ticker: CSIQ\n",
      "range: 2014-07-17 00:00:00 2024-02-22 00:00:00\n",
      "index: 2014-02-24 00:00:00 2024-02-22 00:00:00\n",
      "all: 2014-07-17 00:00:00 2024-02-22 00:00:00\n",
      "dataset lengths (existing vs new): 2417, 2417\n",
      "index: 2014-02-24 00:00:00 2024-02-22 00:00:00\n",
      "all: 2014-07-17 00:00:00 2024-02-22 00:00:00\n",
      "dataset lengths (existing vs new): 2417, 2417\n"
     ]
    },
    {
     "name": "stderr",
     "output_type": "stream",
     "text": [
      "[*********************100%%**********************]  1 of 1 completed\n",
      "[*********************100%%**********************]  1 of 1 completed\n"
     ]
    },
    {
     "name": "stdout",
     "output_type": "stream",
     "text": [
      "index: 2014-02-24 00:00:00 2024-02-22 00:00:00\n",
      "all: 2014-07-17 00:00:00 2024-02-22 00:00:00\n",
      "dataset lengths (existing vs new): 2417, 2417\n",
      "treas: ^TNX\n"
     ]
    },
    {
     "name": "stderr",
     "output_type": "stream",
     "text": [
      "[*********************100%%**********************]  1 of 1 completed\n"
     ]
    },
    {
     "name": "stdout",
     "output_type": "stream",
     "text": [
      "all: 2014-07-17 00:00:00 2024-02-22 00:00:00\n",
      "dataset lengths (existing vs new): 2417, 2415\n",
      "treas: ^FVX\n",
      "all: 2014-07-17 00:00:00 2024-02-22 00:00:00\n",
      "dataset lengths (existing vs new): 2415, 2415\n",
      "treas: ARKK\n"
     ]
    },
    {
     "name": "stderr",
     "output_type": "stream",
     "text": [
      "[*********************100%%**********************]  1 of 1 completed\n",
      "[*********************100%%**********************]  1 of 1 completed\n",
      "[*********************100%%**********************]  1 of 1 completed\n"
     ]
    },
    {
     "name": "stdout",
     "output_type": "stream",
     "text": [
      "all: 2015-03-27 00:00:00 2024-02-22 00:00:00\n",
      "dataset lengths (existing vs new): 2415, 2242\n",
      "treas: IWM\n",
      "all: 2015-03-27 00:00:00 2024-02-22 00:00:00\n",
      "dataset lengths (existing vs new): 2240, 2417\n",
      "treas: QQQ\n",
      "all: 2015-03-27 00:00:00 2024-02-22 00:00:00\n",
      "dataset lengths (existing vs new): 2240, 2417\n",
      "treas: AAPL\n"
     ]
    },
    {
     "name": "stderr",
     "output_type": "stream",
     "text": [
      "[*********************100%%**********************]  1 of 1 completed\n"
     ]
    },
    {
     "name": "stdout",
     "output_type": "stream",
     "text": [
      "all: 2015-03-27 00:00:00 2024-02-22 00:00:00\n",
      "dataset lengths (existing vs new): 2240, 2417\n"
     ]
    },
    {
     "name": "stderr",
     "output_type": "stream",
     "text": [
      "[*********************100%%**********************]  1 of 1 completed"
     ]
    },
    {
     "name": "stdout",
     "output_type": "stream",
     "text": [
      " 70:CSU.TO\n",
      "ticker: CSU.TO\n",
      "range: 2014-07-17 00:00:00 2024-02-22 00:00:00\n"
     ]
    },
    {
     "name": "stderr",
     "output_type": "stream",
     "text": [
      "\n",
      "[*********************100%%**********************]  1 of 1 completed\n",
      "[*********************100%%**********************]  1 of 1 completed\n",
      "[*********************100%%**********************]  1 of 1 completed\n"
     ]
    },
    {
     "name": "stdout",
     "output_type": "stream",
     "text": [
      "index: 2014-02-24 00:00:00 2024-02-22 00:00:00\n",
      "all: 2014-07-17 00:00:00 2024-02-22 00:00:00\n",
      "dataset lengths (existing vs new): 2409, 2417\n",
      "index: 2014-02-24 00:00:00 2024-02-22 00:00:00\n",
      "all: 2014-07-17 00:00:00 2024-02-22 00:00:00\n",
      "dataset lengths (existing vs new): 2367, 2417\n",
      "index: 2014-02-24 00:00:00 2024-02-22 00:00:00\n",
      "all: 2014-07-17 00:00:00 2024-02-22 00:00:00\n",
      "dataset lengths (existing vs new): 2367, 2417\n",
      "treas: ^TNX\n"
     ]
    },
    {
     "name": "stderr",
     "output_type": "stream",
     "text": [
      "[*********************100%%**********************]  1 of 1 completed\n",
      "[*********************100%%**********************]  1 of 1 completed\n",
      "[*********************100%%**********************]  1 of 1 completed\n"
     ]
    },
    {
     "name": "stdout",
     "output_type": "stream",
     "text": [
      "all: 2014-07-17 00:00:00 2024-02-22 00:00:00\n",
      "dataset lengths (existing vs new): 2367, 2415\n",
      "treas: ^FVX\n",
      "all: 2014-07-17 00:00:00 2024-02-22 00:00:00\n",
      "dataset lengths (existing vs new): 2366, 2415\n",
      "treas: ARKK\n",
      "all: 2015-03-27 00:00:00 2024-02-22 00:00:00\n",
      "dataset lengths (existing vs new): 2366, 2242\n",
      "treas: IWM\n"
     ]
    },
    {
     "name": "stderr",
     "output_type": "stream",
     "text": [
      "[*********************100%%**********************]  1 of 1 completed\n",
      "[*********************100%%**********************]  1 of 1 completed\n",
      "[*********************100%%**********************]  1 of 1 completed\n"
     ]
    },
    {
     "name": "stdout",
     "output_type": "stream",
     "text": [
      "all: 2015-03-27 00:00:00 2024-02-22 00:00:00\n",
      "dataset lengths (existing vs new): 2194, 2417\n",
      "treas: QQQ\n",
      "all: 2015-03-27 00:00:00 2024-02-22 00:00:00\n",
      "dataset lengths (existing vs new): 2194, 2417\n",
      "treas: AAPL\n",
      "all: 2015-03-27 00:00:00 2024-02-22 00:00:00\n",
      "dataset lengths (existing vs new): 2194, 2417\n"
     ]
    },
    {
     "name": "stderr",
     "output_type": "stream",
     "text": [
      "[*********************100%%**********************]  1 of 1 completed"
     ]
    },
    {
     "name": "stdout",
     "output_type": "stream",
     "text": [
      " 71:CVNA\n",
      "ticker: CVNA\n",
      "range: 2017-09-20 00:00:00 2024-02-22 00:00:00\n"
     ]
    },
    {
     "name": "stderr",
     "output_type": "stream",
     "text": [
      "\n",
      "[*********************100%%**********************]  1 of 1 completed\n",
      "[*********************100%%**********************]  1 of 1 completed\n",
      "[*********************100%%**********************]  1 of 1 completed\n"
     ]
    },
    {
     "name": "stdout",
     "output_type": "stream",
     "text": [
      "index: 2014-02-24 00:00:00 2024-02-22 00:00:00\n",
      "all: 2017-09-20 00:00:00 2024-02-22 00:00:00\n",
      "dataset lengths (existing vs new): 1616, 2417\n",
      "index: 2014-02-24 00:00:00 2024-02-22 00:00:00\n",
      "all: 2017-09-20 00:00:00 2024-02-22 00:00:00\n",
      "dataset lengths (existing vs new): 1616, 2417\n",
      "index: 2014-02-24 00:00:00 2024-02-22 00:00:00\n",
      "all: 2017-09-20 00:00:00 2024-02-22 00:00:00\n",
      "dataset lengths (existing vs new): 1616, 2417\n",
      "treas: ^TNX\n"
     ]
    },
    {
     "name": "stderr",
     "output_type": "stream",
     "text": [
      "[*********************100%%**********************]  1 of 1 completed\n",
      "[*********************100%%**********************]  1 of 1 completed\n",
      "[*********************100%%**********************]  1 of 1 completed\n"
     ]
    },
    {
     "name": "stdout",
     "output_type": "stream",
     "text": [
      "all: 2017-09-20 00:00:00 2024-02-22 00:00:00\n",
      "dataset lengths (existing vs new): 1616, 2415\n",
      "treas: ^FVX\n",
      "all: 2017-09-20 00:00:00 2024-02-22 00:00:00\n",
      "dataset lengths (existing vs new): 1616, 2415\n",
      "treas: ARKK\n",
      "all: 2017-09-20 00:00:00 2024-02-22 00:00:00\n",
      "dataset lengths (existing vs new): 1616, 2242\n",
      "treas: IWM\n"
     ]
    },
    {
     "name": "stderr",
     "output_type": "stream",
     "text": [
      "[*********************100%%**********************]  1 of 1 completed\n",
      "[*********************100%%**********************]  1 of 1 completed\n",
      "[*********************100%%**********************]  1 of 1 completed\n"
     ]
    },
    {
     "name": "stdout",
     "output_type": "stream",
     "text": [
      "all: 2017-09-20 00:00:00 2024-02-22 00:00:00\n",
      "dataset lengths (existing vs new): 1616, 2417\n",
      "treas: QQQ\n",
      "all: 2017-09-20 00:00:00 2024-02-22 00:00:00\n",
      "dataset lengths (existing vs new): 1616, 2417\n",
      "treas: AAPL\n",
      "all: 2017-09-20 00:00:00 2024-02-22 00:00:00\n",
      "dataset lengths (existing vs new): 1616, 2417\n"
     ]
    },
    {
     "name": "stderr",
     "output_type": "stream",
     "text": [
      "[*********************100%%**********************]  1 of 1 completed"
     ]
    },
    {
     "name": "stdout",
     "output_type": "stream",
     "text": [
      " 72:CYBR\n"
     ]
    },
    {
     "name": "stderr",
     "output_type": "stream",
     "text": [
      "\n",
      "[*********************100%%**********************]  1 of 1 completed\n",
      "[*********************100%%**********************]  1 of 1 completed"
     ]
    },
    {
     "name": "stdout",
     "output_type": "stream",
     "text": [
      "ticker: CYBR\n",
      "range: 2015-02-18 00:00:00 2024-02-22 00:00:00\n",
      "index: 2014-02-24 00:00:00 2024-02-22 00:00:00\n",
      "all: 2015-02-18 00:00:00 2024-02-22 00:00:00\n",
      "dataset lengths (existing vs new): 2269, 2417\n",
      "index: 2014-02-24 00:00:00 2024-02-22 00:00:00\n"
     ]
    },
    {
     "name": "stderr",
     "output_type": "stream",
     "text": [
      "\n",
      "[*********************100%%**********************]  1 of 1 completed\n",
      "[*********************100%%**********************]  1 of 1 completed\n"
     ]
    },
    {
     "name": "stdout",
     "output_type": "stream",
     "text": [
      "all: 2015-02-18 00:00:00 2024-02-22 00:00:00\n",
      "dataset lengths (existing vs new): 2269, 2417\n",
      "index: 2014-02-24 00:00:00 2024-02-22 00:00:00\n",
      "all: 2015-02-18 00:00:00 2024-02-22 00:00:00\n",
      "dataset lengths (existing vs new): 2269, 2417\n",
      "treas: ^TNX\n",
      "all: 2015-02-18 00:00:00 2024-02-22 00:00:00\n",
      "dataset lengths (existing vs new): 2269, 2415\n",
      "treas: ^FVX\n"
     ]
    },
    {
     "name": "stderr",
     "output_type": "stream",
     "text": [
      "[*********************100%%**********************]  1 of 1 completed\n"
     ]
    },
    {
     "name": "stdout",
     "output_type": "stream",
     "text": [
      "all: 2015-02-18 00:00:00 2024-02-22 00:00:00\n",
      "dataset lengths (existing vs new): 2267, 2415\n",
      "treas: ARKK\n"
     ]
    },
    {
     "name": "stderr",
     "output_type": "stream",
     "text": [
      "[*********************100%%**********************]  1 of 1 completed\n",
      "[*********************100%%**********************]  1 of 1 completed\n",
      "[*********************100%%**********************]  1 of 1 completed\n"
     ]
    },
    {
     "name": "stdout",
     "output_type": "stream",
     "text": [
      "all: 2015-03-27 00:00:00 2024-02-22 00:00:00\n",
      "dataset lengths (existing vs new): 2267, 2242\n",
      "treas: IWM\n",
      "all: 2015-03-27 00:00:00 2024-02-22 00:00:00\n",
      "dataset lengths (existing vs new): 2240, 2417\n",
      "treas: QQQ\n",
      "all: 2015-03-27 00:00:00 2024-02-22 00:00:00\n",
      "dataset lengths (existing vs new): 2240, 2417\n",
      "treas: AAPL\n"
     ]
    },
    {
     "name": "stderr",
     "output_type": "stream",
     "text": [
      "[*********************100%%**********************]  1 of 1 completed\n"
     ]
    },
    {
     "name": "stdout",
     "output_type": "stream",
     "text": [
      "all: 2015-03-27 00:00:00 2024-02-22 00:00:00\n",
      "dataset lengths (existing vs new): 2240, 2417\n"
     ]
    },
    {
     "name": "stderr",
     "output_type": "stream",
     "text": [
      "[*********************100%%**********************]  1 of 1 completed"
     ]
    },
    {
     "name": "stdout",
     "output_type": "stream",
     "text": [
      " 73:DASH\n",
      "ticker: DASH\n",
      "range: 2021-05-05 00:00:00 2024-02-22 00:00:00\n"
     ]
    },
    {
     "name": "stderr",
     "output_type": "stream",
     "text": [
      "\n",
      "[*********************100%%**********************]  1 of 1 completed\n",
      "[*********************100%%**********************]  1 of 1 completed\n"
     ]
    },
    {
     "name": "stdout",
     "output_type": "stream",
     "text": [
      "index: 2014-02-24 00:00:00 2024-02-22 00:00:00\n",
      "all: 2021-05-05 00:00:00 2024-02-22 00:00:00\n",
      "dataset lengths (existing vs new): 705, 2417\n",
      "index: 2014-02-24 00:00:00 2024-02-22 00:00:00\n",
      "all: 2021-05-05 00:00:00 2024-02-22 00:00:00\n",
      "dataset lengths (existing vs new): 705, 2417\n"
     ]
    },
    {
     "name": "stderr",
     "output_type": "stream",
     "text": [
      "[*********************100%%**********************]  1 of 1 completed\n",
      "[*********************100%%**********************]  1 of 1 completed\n",
      "[*********************100%%**********************]  1 of 1 completed\n"
     ]
    },
    {
     "name": "stdout",
     "output_type": "stream",
     "text": [
      "index: 2014-02-24 00:00:00 2024-02-22 00:00:00\n",
      "all: 2021-05-05 00:00:00 2024-02-22 00:00:00\n",
      "dataset lengths (existing vs new): 705, 2417\n",
      "treas: ^TNX\n",
      "all: 2021-05-05 00:00:00 2024-02-22 00:00:00\n",
      "dataset lengths (existing vs new): 705, 2415\n",
      "treas: ^FVX\n",
      "all: 2021-05-05 00:00:00 2024-02-22 00:00:00\n",
      "dataset lengths (existing vs new): 705, 2415\n",
      "treas: ARKK\n"
     ]
    },
    {
     "name": "stderr",
     "output_type": "stream",
     "text": [
      "[*********************100%%**********************]  1 of 1 completed\n",
      "[*********************100%%**********************]  1 of 1 completed\n"
     ]
    },
    {
     "name": "stdout",
     "output_type": "stream",
     "text": [
      "all: 2021-05-05 00:00:00 2024-02-22 00:00:00\n",
      "dataset lengths (existing vs new): 705, 2242\n",
      "treas: IWM\n",
      "all: 2021-05-05 00:00:00 2024-02-22 00:00:00\n",
      "dataset lengths (existing vs new): 705, 2417\n",
      "treas: QQQ\n"
     ]
    },
    {
     "name": "stderr",
     "output_type": "stream",
     "text": [
      "[*********************100%%**********************]  1 of 1 completed\n",
      "[*********************100%%**********************]  1 of 1 completed\n"
     ]
    },
    {
     "name": "stdout",
     "output_type": "stream",
     "text": [
      "all: 2021-05-05 00:00:00 2024-02-22 00:00:00\n",
      "dataset lengths (existing vs new): 705, 2417\n",
      "treas: AAPL\n",
      "all: 2021-05-05 00:00:00 2024-02-22 00:00:00\n",
      "dataset lengths (existing vs new): 705, 2417\n"
     ]
    },
    {
     "name": "stderr",
     "output_type": "stream",
     "text": [
      "[*********************100%%**********************]  1 of 1 completed\n",
      "[*********************100%%**********************]  1 of 1 completed"
     ]
    },
    {
     "name": "stdout",
     "output_type": "stream",
     "text": [
      " 74:DBX\n",
      "ticker: DBX\n",
      "range: 2018-08-15 00:00:00 2024-02-22 00:00:00\n",
      "index: 2014-02-24 00:00:00 2024-02-22 00:00:00\n"
     ]
    },
    {
     "name": "stderr",
     "output_type": "stream",
     "text": [
      "\n",
      "[*********************100%%**********************]  1 of 1 completed\n",
      "[*********************100%%**********************]  1 of 1 completed\n"
     ]
    },
    {
     "name": "stdout",
     "output_type": "stream",
     "text": [
      "all: 2018-08-15 00:00:00 2024-02-22 00:00:00\n",
      "dataset lengths (existing vs new): 1389, 2417\n",
      "index: 2014-02-24 00:00:00 2024-02-22 00:00:00\n",
      "all: 2018-08-15 00:00:00 2024-02-22 00:00:00\n",
      "dataset lengths (existing vs new): 1389, 2417\n",
      "index: 2014-02-24 00:00:00 2024-02-22 00:00:00\n",
      "all: 2018-08-15 00:00:00 2024-02-22 00:00:00\n",
      "dataset lengths (existing vs new): 1389, 2417\n",
      "treas: ^TNX\n"
     ]
    },
    {
     "name": "stderr",
     "output_type": "stream",
     "text": [
      "[*********************100%%**********************]  1 of 1 completed\n",
      "[*********************100%%**********************]  1 of 1 completed\n"
     ]
    },
    {
     "name": "stdout",
     "output_type": "stream",
     "text": [
      "all: 2018-08-15 00:00:00 2024-02-22 00:00:00\n",
      "dataset lengths (existing vs new): 1389, 2415\n",
      "treas: ^FVX\n",
      "all: 2018-08-15 00:00:00 2024-02-22 00:00:00\n",
      "dataset lengths (existing vs new): 1389, 2415\n",
      "treas: ARKK\n"
     ]
    },
    {
     "name": "stderr",
     "output_type": "stream",
     "text": [
      "[*********************100%%**********************]  1 of 1 completed\n",
      "[*********************100%%**********************]  1 of 1 completed\n"
     ]
    },
    {
     "name": "stdout",
     "output_type": "stream",
     "text": [
      "all: 2018-08-15 00:00:00 2024-02-22 00:00:00\n",
      "dataset lengths (existing vs new): 1389, 2242\n",
      "treas: IWM\n",
      "all: 2018-08-15 00:00:00 2024-02-22 00:00:00\n",
      "dataset lengths (existing vs new): 1389, 2417\n",
      "treas: QQQ\n"
     ]
    },
    {
     "name": "stderr",
     "output_type": "stream",
     "text": [
      "[*********************100%%**********************]  1 of 1 completed\n",
      "[*********************100%%**********************]  1 of 1 completed\n"
     ]
    },
    {
     "name": "stdout",
     "output_type": "stream",
     "text": [
      "all: 2018-08-15 00:00:00 2024-02-22 00:00:00\n",
      "dataset lengths (existing vs new): 1389, 2417\n",
      "treas: AAPL\n",
      "all: 2018-08-15 00:00:00 2024-02-22 00:00:00\n",
      "dataset lengths (existing vs new): 1389, 2417\n"
     ]
    },
    {
     "name": "stderr",
     "output_type": "stream",
     "text": [
      "[*********************100%%**********************]  1 of 1 completed"
     ]
    },
    {
     "name": "stdout",
     "output_type": "stream",
     "text": [
      " 75:DDOG\n",
      "ticker: DDOG\n",
      "range: 2020-02-12 00:00:00 2024-02-22 00:00:00\n"
     ]
    },
    {
     "name": "stderr",
     "output_type": "stream",
     "text": [
      "\n",
      "[*********************100%%**********************]  1 of 1 completed\n",
      "[*********************100%%**********************]  1 of 1 completed\n",
      "[*********************100%%**********************]  1 of 1 completed\n"
     ]
    },
    {
     "name": "stdout",
     "output_type": "stream",
     "text": [
      "index: 2014-02-24 00:00:00 2024-02-22 00:00:00\n",
      "all: 2020-02-12 00:00:00 2024-02-22 00:00:00\n",
      "dataset lengths (existing vs new): 1014, 2417\n",
      "index: 2014-02-24 00:00:00 2024-02-22 00:00:00\n",
      "all: 2020-02-12 00:00:00 2024-02-22 00:00:00\n",
      "dataset lengths (existing vs new): 1014, 2417\n",
      "index: 2014-02-24 00:00:00 2024-02-22 00:00:00\n",
      "all: 2020-02-12 00:00:00 2024-02-22 00:00:00\n",
      "dataset lengths (existing vs new): 1014, 2417\n",
      "treas: ^TNX\n"
     ]
    },
    {
     "name": "stderr",
     "output_type": "stream",
     "text": [
      "[*********************100%%**********************]  1 of 1 completed\n",
      "[*********************100%%**********************]  1 of 1 completed\n",
      "[*********************100%%**********************]  1 of 1 completed\n"
     ]
    },
    {
     "name": "stdout",
     "output_type": "stream",
     "text": [
      "all: 2020-02-12 00:00:00 2024-02-22 00:00:00\n",
      "dataset lengths (existing vs new): 1014, 2415\n",
      "treas: ^FVX\n",
      "all: 2020-02-12 00:00:00 2024-02-22 00:00:00\n",
      "dataset lengths (existing vs new): 1014, 2415\n",
      "treas: ARKK\n",
      "all: 2020-02-12 00:00:00 2024-02-22 00:00:00\n",
      "dataset lengths (existing vs new): 1014, 2242\n",
      "treas: IWM\n"
     ]
    },
    {
     "name": "stderr",
     "output_type": "stream",
     "text": [
      "[*********************100%%**********************]  1 of 1 completed\n",
      "[*********************100%%**********************]  1 of 1 completed\n",
      "[*********************100%%**********************]  1 of 1 completed\n"
     ]
    },
    {
     "name": "stdout",
     "output_type": "stream",
     "text": [
      "all: 2020-02-12 00:00:00 2024-02-22 00:00:00\n",
      "dataset lengths (existing vs new): 1014, 2417\n",
      "treas: QQQ\n",
      "all: 2020-02-12 00:00:00 2024-02-22 00:00:00\n",
      "dataset lengths (existing vs new): 1014, 2417\n",
      "treas: AAPL\n",
      "all: 2020-02-12 00:00:00 2024-02-22 00:00:00\n",
      "dataset lengths (existing vs new): 1014, 2417\n",
      " 76:DHER.DE\n"
     ]
    },
    {
     "name": "stderr",
     "output_type": "stream",
     "text": [
      "[*********************100%%**********************]  1 of 1 completed\n",
      "[*********************100%%**********************]  1 of 1 completed\n",
      "[*********************100%%**********************]  1 of 1 completed\n"
     ]
    },
    {
     "name": "stdout",
     "output_type": "stream",
     "text": [
      "ticker: DHER.DE\n",
      "range: 2017-11-17 00:00:00 2024-02-23 00:00:00\n",
      "index: 2014-02-24 00:00:00 2024-02-22 00:00:00\n",
      "all: 2017-11-17 00:00:00 2024-02-22 00:00:00\n",
      "dataset lengths (existing vs new): 1592, 2417\n",
      "index: 2014-02-24 00:00:00 2024-02-22 00:00:00\n",
      "all: 2017-11-17 00:00:00 2024-02-22 00:00:00\n",
      "dataset lengths (existing vs new): 1548, 2417\n"
     ]
    },
    {
     "name": "stderr",
     "output_type": "stream",
     "text": [
      "[*********************100%%**********************]  1 of 1 completed\n",
      "[*********************100%%**********************]  1 of 1 completed\n",
      "[*********************100%%**********************]  1 of 1 completed\n"
     ]
    },
    {
     "name": "stdout",
     "output_type": "stream",
     "text": [
      "index: 2014-02-24 00:00:00 2024-02-22 00:00:00\n",
      "all: 2017-11-17 00:00:00 2024-02-22 00:00:00\n",
      "dataset lengths (existing vs new): 1548, 2417\n",
      "treas: ^TNX\n",
      "all: 2017-11-17 00:00:00 2024-02-22 00:00:00\n",
      "dataset lengths (existing vs new): 1548, 2415\n",
      "treas: ^FVX\n",
      "all: 2017-11-17 00:00:00 2024-02-22 00:00:00\n",
      "dataset lengths (existing vs new): 1548, 2415\n",
      "treas: ARKK\n"
     ]
    },
    {
     "name": "stderr",
     "output_type": "stream",
     "text": [
      "[*********************100%%**********************]  1 of 1 completed\n",
      "[*********************100%%**********************]  1 of 1 completed\n",
      "[*********************100%%**********************]  1 of 1 completed\n"
     ]
    },
    {
     "name": "stdout",
     "output_type": "stream",
     "text": [
      "all: 2017-11-17 00:00:00 2024-02-22 00:00:00\n",
      "dataset lengths (existing vs new): 1548, 2242\n",
      "treas: IWM\n",
      "all: 2017-11-17 00:00:00 2024-02-22 00:00:00\n",
      "dataset lengths (existing vs new): 1548, 2417\n",
      "treas: QQQ\n",
      "all: 2017-11-17 00:00:00 2024-02-22 00:00:00\n",
      "dataset lengths (existing vs new): 1548, 2417\n",
      "treas: AAPL\n"
     ]
    },
    {
     "name": "stderr",
     "output_type": "stream",
     "text": [
      "[*********************100%%**********************]  1 of 1 completed\n"
     ]
    },
    {
     "name": "stdout",
     "output_type": "stream",
     "text": [
      "all: 2017-11-17 00:00:00 2024-02-22 00:00:00\n",
      "dataset lengths (existing vs new): 1548, 2417\n",
      " 77:DIS\n"
     ]
    },
    {
     "name": "stderr",
     "output_type": "stream",
     "text": [
      "[*********************100%%**********************]  1 of 1 completed\n",
      "[*********************100%%**********************]  1 of 1 completed\n"
     ]
    },
    {
     "name": "stdout",
     "output_type": "stream",
     "text": [
      "ticker: DIS\n",
      "range: 2014-07-17 00:00:00 2024-02-22 00:00:00\n",
      "index: 2014-02-24 00:00:00 2024-02-22 00:00:00\n",
      "all: 2014-07-17 00:00:00 2024-02-22 00:00:00\n",
      "dataset lengths (existing vs new): 2417, 2417\n"
     ]
    },
    {
     "name": "stderr",
     "output_type": "stream",
     "text": [
      "[*********************100%%**********************]  1 of 1 completed\n",
      "[*********************100%%**********************]  1 of 1 completed\n",
      "[*********************100%%**********************]  1 of 1 completed\n"
     ]
    },
    {
     "name": "stdout",
     "output_type": "stream",
     "text": [
      "index: 2014-02-24 00:00:00 2024-02-22 00:00:00\n",
      "all: 2014-07-17 00:00:00 2024-02-22 00:00:00\n",
      "dataset lengths (existing vs new): 2417, 2417\n",
      "index: 2014-02-24 00:00:00 2024-02-22 00:00:00\n",
      "all: 2014-07-17 00:00:00 2024-02-22 00:00:00\n",
      "dataset lengths (existing vs new): 2417, 2417\n",
      "treas: ^TNX\n",
      "all: 2014-07-17 00:00:00 2024-02-22 00:00:00\n",
      "dataset lengths (existing vs new): 2417, 2415\n",
      "treas: ^FVX\n"
     ]
    },
    {
     "name": "stderr",
     "output_type": "stream",
     "text": [
      "[*********************100%%**********************]  1 of 1 completed\n",
      "[*********************100%%**********************]  1 of 1 completed\n",
      "[*********************100%%**********************]  1 of 1 completed\n"
     ]
    },
    {
     "name": "stdout",
     "output_type": "stream",
     "text": [
      "all: 2014-07-17 00:00:00 2024-02-22 00:00:00\n",
      "dataset lengths (existing vs new): 2415, 2415\n",
      "treas: ARKK\n",
      "all: 2015-03-27 00:00:00 2024-02-22 00:00:00\n",
      "dataset lengths (existing vs new): 2415, 2242\n",
      "treas: IWM\n",
      "all: 2015-03-27 00:00:00 2024-02-22 00:00:00\n",
      "dataset lengths (existing vs new): 2240, 2417\n",
      "treas: QQQ\n"
     ]
    },
    {
     "name": "stderr",
     "output_type": "stream",
     "text": [
      "[*********************100%%**********************]  1 of 1 completed\n",
      "[*********************100%%**********************]  1 of 1 completed\n"
     ]
    },
    {
     "name": "stdout",
     "output_type": "stream",
     "text": [
      "all: 2015-03-27 00:00:00 2024-02-22 00:00:00\n",
      "dataset lengths (existing vs new): 2240, 2417\n",
      "treas: AAPL\n",
      "all: 2015-03-27 00:00:00 2024-02-22 00:00:00\n",
      "dataset lengths (existing vs new): 2240, 2417\n"
     ]
    },
    {
     "name": "stderr",
     "output_type": "stream",
     "text": [
      "[*********************100%%**********************]  1 of 1 completed\n",
      "[*********************100%%**********************]  1 of 1 completed"
     ]
    },
    {
     "name": "stdout",
     "output_type": "stream",
     "text": [
      " 78:DKNG\n",
      "ticker: DKNG\n",
      "range: 2019-12-16 00:00:00 2024-02-22 00:00:00\n",
      "index: 2014-02-24 00:00:00 2024-02-22 00:00:00\n"
     ]
    },
    {
     "name": "stderr",
     "output_type": "stream",
     "text": [
      "\n"
     ]
    },
    {
     "name": "stdout",
     "output_type": "stream",
     "text": [
      "all: 2019-12-16 00:00:00 2024-02-22 00:00:00\n",
      "dataset lengths (existing vs new): 1053, 2417\n"
     ]
    },
    {
     "name": "stderr",
     "output_type": "stream",
     "text": [
      "[*********************100%%**********************]  1 of 1 completed\n",
      "[*********************100%%**********************]  1 of 1 completed\n",
      "[*********************100%%**********************]  1 of 1 completed\n"
     ]
    },
    {
     "name": "stdout",
     "output_type": "stream",
     "text": [
      "index: 2014-02-24 00:00:00 2024-02-22 00:00:00\n",
      "all: 2019-12-16 00:00:00 2024-02-22 00:00:00\n",
      "dataset lengths (existing vs new): 1053, 2417\n",
      "index: 2014-02-24 00:00:00 2024-02-22 00:00:00\n",
      "all: 2019-12-16 00:00:00 2024-02-22 00:00:00\n",
      "dataset lengths (existing vs new): 1053, 2417\n",
      "treas: ^TNX\n"
     ]
    },
    {
     "name": "stderr",
     "output_type": "stream",
     "text": [
      "[*********************100%%**********************]  1 of 1 completed\n",
      "[*********************100%%**********************]  1 of 1 completed\n"
     ]
    },
    {
     "name": "stdout",
     "output_type": "stream",
     "text": [
      "all: 2019-12-16 00:00:00 2024-02-22 00:00:00\n",
      "dataset lengths (existing vs new): 1053, 2415\n",
      "treas: ^FVX\n",
      "all: 2019-12-16 00:00:00 2024-02-22 00:00:00\n",
      "dataset lengths (existing vs new): 1053, 2415\n",
      "treas: ARKK\n",
      "all: 2019-12-16 00:00:00 2024-02-22 00:00:00\n",
      "dataset lengths (existing vs new): 1053, 2242\n",
      "treas: IWM\n"
     ]
    },
    {
     "name": "stderr",
     "output_type": "stream",
     "text": [
      "[*********************100%%**********************]  1 of 1 completed\n",
      "[*********************100%%**********************]  1 of 1 completed\n",
      "[*********************100%%**********************]  1 of 1 completed\n"
     ]
    },
    {
     "name": "stdout",
     "output_type": "stream",
     "text": [
      "all: 2019-12-16 00:00:00 2024-02-22 00:00:00\n",
      "dataset lengths (existing vs new): 1053, 2417\n",
      "treas: QQQ\n",
      "all: 2019-12-16 00:00:00 2024-02-22 00:00:00\n",
      "dataset lengths (existing vs new): 1053, 2417\n",
      "treas: AAPL\n",
      "all: 2019-12-16 00:00:00 2024-02-22 00:00:00\n",
      "dataset lengths (existing vs new): 1053, 2417\n",
      " 79:DLO\n"
     ]
    },
    {
     "name": "stderr",
     "output_type": "stream",
     "text": [
      "[*********************100%%**********************]  1 of 1 completed\n",
      "[*********************100%%**********************]  1 of 1 completed\n",
      "[*********************100%%**********************]  1 of 1 completed\n"
     ]
    },
    {
     "name": "stdout",
     "output_type": "stream",
     "text": [
      "ticker: DLO\n",
      "range: 2021-10-25 00:00:00 2024-02-22 00:00:00\n",
      "index: 2014-02-24 00:00:00 2024-02-22 00:00:00\n",
      "all: 2021-10-25 00:00:00 2024-02-22 00:00:00\n",
      "dataset lengths (existing vs new): 585, 2417\n",
      "index: 2014-02-24 00:00:00 2024-02-22 00:00:00\n",
      "all: 2021-10-25 00:00:00 2024-02-22 00:00:00\n",
      "dataset lengths (existing vs new): 585, 2417\n"
     ]
    },
    {
     "name": "stderr",
     "output_type": "stream",
     "text": [
      "[*********************100%%**********************]  1 of 1 completed\n",
      "[*********************100%%**********************]  1 of 1 completed\n"
     ]
    },
    {
     "name": "stdout",
     "output_type": "stream",
     "text": [
      "index: 2014-02-24 00:00:00 2024-02-22 00:00:00\n",
      "all: 2021-10-25 00:00:00 2024-02-22 00:00:00\n",
      "dataset lengths (existing vs new): 585, 2417\n",
      "treas: ^TNX\n",
      "all: 2021-10-25 00:00:00 2024-02-22 00:00:00\n",
      "dataset lengths (existing vs new): 585, 2415\n",
      "treas: ^FVX\n"
     ]
    },
    {
     "name": "stderr",
     "output_type": "stream",
     "text": [
      "[*********************100%%**********************]  1 of 1 completed\n",
      "[*********************100%%**********************]  1 of 1 completed\n",
      "[*********************100%%**********************]  1 of 1 completed\n"
     ]
    },
    {
     "name": "stdout",
     "output_type": "stream",
     "text": [
      "all: 2021-10-25 00:00:00 2024-02-22 00:00:00\n",
      "dataset lengths (existing vs new): 585, 2415\n",
      "treas: ARKK\n",
      "all: 2021-10-25 00:00:00 2024-02-22 00:00:00\n",
      "dataset lengths (existing vs new): 585, 2242\n",
      "treas: IWM\n",
      "all: 2021-10-25 00:00:00 2024-02-22 00:00:00\n",
      "dataset lengths (existing vs new): 585, 2417\n",
      "treas: QQQ\n"
     ]
    },
    {
     "name": "stderr",
     "output_type": "stream",
     "text": [
      "[*********************100%%**********************]  1 of 1 completed\n",
      "[*********************100%%**********************]  1 of 1 completed\n"
     ]
    },
    {
     "name": "stdout",
     "output_type": "stream",
     "text": [
      "all: 2021-10-25 00:00:00 2024-02-22 00:00:00\n",
      "dataset lengths (existing vs new): 585, 2417\n",
      "treas: AAPL\n",
      "all: 2021-10-25 00:00:00 2024-02-22 00:00:00\n",
      "dataset lengths (existing vs new): 585, 2417\n"
     ]
    },
    {
     "name": "stderr",
     "output_type": "stream",
     "text": [
      "[*********************100%%**********************]  1 of 1 completed\n",
      "[*********************100%%**********************]  1 of 1 completed"
     ]
    },
    {
     "name": "stdout",
     "output_type": "stream",
     "text": [
      " 80:DNN\n",
      "ticker: DNN\n",
      "range: 2014-07-17 00:00:00 2024-02-22 00:00:00\n",
      "index: 2014-02-24 00:00:00 2024-02-22 00:00:00\n",
      "all: 2014-07-17 00:00:00 2024-02-22 00:00:00\n",
      "dataset lengths (existing vs new): 2417, 2417\n"
     ]
    },
    {
     "name": "stderr",
     "output_type": "stream",
     "text": [
      "\n",
      "[*********************100%%**********************]  1 of 1 completed\n",
      "[*********************100%%**********************]  1 of 1 completed\n",
      "[*********************100%%**********************]  1 of 1 completed\n"
     ]
    },
    {
     "name": "stdout",
     "output_type": "stream",
     "text": [
      "index: 2014-02-24 00:00:00 2024-02-22 00:00:00\n",
      "all: 2014-07-17 00:00:00 2024-02-22 00:00:00\n",
      "dataset lengths (existing vs new): 2417, 2417\n",
      "index: 2014-02-24 00:00:00 2024-02-22 00:00:00\n",
      "all: 2014-07-17 00:00:00 2024-02-22 00:00:00\n",
      "dataset lengths (existing vs new): 2417, 2417\n",
      "treas: ^TNX\n",
      "all: 2014-07-17 00:00:00 2024-02-22 00:00:00\n",
      "dataset lengths (existing vs new): 2417, 2415\n",
      "treas: ^FVX\n"
     ]
    },
    {
     "name": "stderr",
     "output_type": "stream",
     "text": [
      "[*********************100%%**********************]  1 of 1 completed\n",
      "[*********************100%%**********************]  1 of 1 completed\n"
     ]
    },
    {
     "name": "stdout",
     "output_type": "stream",
     "text": [
      "all: 2014-07-17 00:00:00 2024-02-22 00:00:00\n",
      "dataset lengths (existing vs new): 2415, 2415\n",
      "treas: ARKK\n",
      "all: 2015-03-27 00:00:00 2024-02-22 00:00:00\n",
      "dataset lengths (existing vs new): 2415, 2242\n",
      "treas: IWM\n"
     ]
    },
    {
     "name": "stderr",
     "output_type": "stream",
     "text": [
      "[*********************100%%**********************]  1 of 1 completed\n",
      "[*********************100%%**********************]  1 of 1 completed\n"
     ]
    },
    {
     "name": "stdout",
     "output_type": "stream",
     "text": [
      "all: 2015-03-27 00:00:00 2024-02-22 00:00:00\n",
      "dataset lengths (existing vs new): 2240, 2417\n",
      "treas: QQQ\n",
      "all: 2015-03-27 00:00:00 2024-02-22 00:00:00\n",
      "dataset lengths (existing vs new): 2240, 2417\n",
      "treas: AAPL\n"
     ]
    },
    {
     "name": "stderr",
     "output_type": "stream",
     "text": [
      "[*********************100%%**********************]  1 of 1 completed\n"
     ]
    },
    {
     "name": "stdout",
     "output_type": "stream",
     "text": [
      "all: 2015-03-27 00:00:00 2024-02-22 00:00:00\n",
      "dataset lengths (existing vs new): 2240, 2417\n",
      " 81:DOCS\n"
     ]
    },
    {
     "name": "stderr",
     "output_type": "stream",
     "text": [
      "[*********************100%%**********************]  1 of 1 completed\n",
      "[*********************100%%**********************]  1 of 1 completed\n",
      "[*********************100%%**********************]  1 of 1 completed\n"
     ]
    },
    {
     "name": "stdout",
     "output_type": "stream",
     "text": [
      "ticker: DOCS\n",
      "range: 2021-11-15 00:00:00 2024-02-22 00:00:00\n",
      "index: 2014-02-24 00:00:00 2024-02-22 00:00:00\n",
      "all: 2021-11-15 00:00:00 2024-02-22 00:00:00\n",
      "dataset lengths (existing vs new): 570, 2417\n",
      "index: 2014-02-24 00:00:00 2024-02-22 00:00:00\n",
      "all: 2021-11-15 00:00:00 2024-02-22 00:00:00\n",
      "dataset lengths (existing vs new): 570, 2417\n"
     ]
    },
    {
     "name": "stderr",
     "output_type": "stream",
     "text": [
      "[*********************100%%**********************]  1 of 1 completed\n",
      "[*********************100%%**********************]  1 of 1 completed\n",
      "[*********************100%%**********************]  1 of 1 completed\n"
     ]
    },
    {
     "name": "stdout",
     "output_type": "stream",
     "text": [
      "index: 2014-02-24 00:00:00 2024-02-22 00:00:00\n",
      "all: 2021-11-15 00:00:00 2024-02-22 00:00:00\n",
      "dataset lengths (existing vs new): 570, 2417\n",
      "treas: ^TNX\n",
      "all: 2021-11-15 00:00:00 2024-02-22 00:00:00\n",
      "dataset lengths (existing vs new): 570, 2415\n",
      "treas: ^FVX\n",
      "all: 2021-11-15 00:00:00 2024-02-22 00:00:00\n",
      "dataset lengths (existing vs new): 570, 2415\n",
      "treas: ARKK\n"
     ]
    },
    {
     "name": "stderr",
     "output_type": "stream",
     "text": [
      "[*********************100%%**********************]  1 of 1 completed\n",
      "[*********************100%%**********************]  1 of 1 completed\n",
      "[*********************100%%**********************]  1 of 1 completed\n"
     ]
    },
    {
     "name": "stdout",
     "output_type": "stream",
     "text": [
      "all: 2021-11-15 00:00:00 2024-02-22 00:00:00\n",
      "dataset lengths (existing vs new): 570, 2242\n",
      "treas: IWM\n",
      "all: 2021-11-15 00:00:00 2024-02-22 00:00:00\n",
      "dataset lengths (existing vs new): 570, 2417\n",
      "treas: QQQ\n",
      "all: 2021-11-15 00:00:00 2024-02-22 00:00:00\n",
      "dataset lengths (existing vs new): 570, 2417\n",
      "treas: AAPL\n"
     ]
    },
    {
     "name": "stderr",
     "output_type": "stream",
     "text": [
      "[*********************100%%**********************]  1 of 1 completed\n"
     ]
    },
    {
     "name": "stdout",
     "output_type": "stream",
     "text": [
      "all: 2021-11-15 00:00:00 2024-02-22 00:00:00\n",
      "dataset lengths (existing vs new): 570, 2417\n",
      " 82:DOCU\n"
     ]
    },
    {
     "name": "stderr",
     "output_type": "stream",
     "text": [
      "[*********************100%%**********************]  1 of 1 completed\n",
      "[*********************100%%**********************]  1 of 1 completed"
     ]
    },
    {
     "name": "stdout",
     "output_type": "stream",
     "text": [
      "ticker: DOCU\n",
      "range: 2018-09-19 00:00:00 2024-02-22 00:00:00\n",
      "index: 2014-02-24 00:00:00 2024-02-22 00:00:00\n"
     ]
    },
    {
     "name": "stderr",
     "output_type": "stream",
     "text": [
      "\n",
      "[*********************100%%**********************]  1 of 1 completed\n",
      "[*********************100%%**********************]  1 of 1 completed\n",
      "[*********************100%%**********************]  1 of 1 completed"
     ]
    },
    {
     "name": "stdout",
     "output_type": "stream",
     "text": [
      "all: 2018-09-19 00:00:00 2024-02-22 00:00:00\n",
      "dataset lengths (existing vs new): 1365, 2417\n",
      "index: 2014-02-24 00:00:00 2024-02-22 00:00:00\n",
      "all: 2018-09-19 00:00:00 2024-02-22 00:00:00\n",
      "dataset lengths (existing vs new): 1365, 2417\n",
      "index: 2014-02-24 00:00:00 2024-02-22 00:00:00\n",
      "all: 2018-09-19 00:00:00 2024-02-22 00:00:00\n",
      "dataset lengths (existing vs new): 1365, 2417\n",
      "treas: ^TNX\n"
     ]
    },
    {
     "name": "stderr",
     "output_type": "stream",
     "text": [
      "\n",
      "[*********************100%%**********************]  1 of 1 completed\n",
      "[*********************100%%**********************]  1 of 1 completed\n"
     ]
    },
    {
     "name": "stdout",
     "output_type": "stream",
     "text": [
      "all: 2018-09-19 00:00:00 2024-02-22 00:00:00\n",
      "dataset lengths (existing vs new): 1365, 2415\n",
      "treas: ^FVX\n",
      "all: 2018-09-19 00:00:00 2024-02-22 00:00:00\n",
      "dataset lengths (existing vs new): 1365, 2415\n",
      "treas: ARKK\n",
      "all: 2018-09-19 00:00:00 2024-02-22 00:00:00\n",
      "dataset lengths (existing vs new): 1365, 2242\n",
      "treas: IWM\n"
     ]
    },
    {
     "name": "stderr",
     "output_type": "stream",
     "text": [
      "[*********************100%%**********************]  1 of 1 completed\n"
     ]
    },
    {
     "name": "stdout",
     "output_type": "stream",
     "text": [
      "all: 2018-09-19 00:00:00 2024-02-22 00:00:00\n",
      "dataset lengths (existing vs new): 1365, 2417\n",
      "treas: QQQ\n"
     ]
    },
    {
     "name": "stderr",
     "output_type": "stream",
     "text": [
      "[*********************100%%**********************]  1 of 1 completed\n"
     ]
    },
    {
     "name": "stdout",
     "output_type": "stream",
     "text": [
      "all: 2018-09-19 00:00:00 2024-02-22 00:00:00\n",
      "dataset lengths (existing vs new): 1365, 2417\n",
      "treas: AAPL\n"
     ]
    },
    {
     "name": "stderr",
     "output_type": "stream",
     "text": [
      "[*********************100%%**********************]  1 of 1 completed\n"
     ]
    },
    {
     "name": "stdout",
     "output_type": "stream",
     "text": [
      "all: 2018-09-19 00:00:00 2024-02-22 00:00:00\n",
      "dataset lengths (existing vs new): 1365, 2417\n",
      " 83:DSY.PA\n"
     ]
    },
    {
     "name": "stderr",
     "output_type": "stream",
     "text": [
      "[*********************100%%**********************]  1 of 1 completed\n",
      "[*********************100%%**********************]  1 of 1 completed\n",
      "[*********************100%%**********************]  1 of 1 completed\n"
     ]
    },
    {
     "name": "stdout",
     "output_type": "stream",
     "text": [
      "ticker: DSY.PA\n",
      "range: 2014-07-16 00:00:00 2024-02-23 00:00:00\n",
      "index: 2014-02-24 00:00:00 2024-02-22 00:00:00\n",
      "all: 2014-07-17 00:00:00 2024-02-22 00:00:00\n",
      "dataset lengths (existing vs new): 2463, 2417\n",
      "index: 2014-02-24 00:00:00 2024-02-22 00:00:00\n",
      "all: 2014-07-17 00:00:00 2024-02-22 00:00:00\n",
      "dataset lengths (existing vs new): 2396, 2417\n"
     ]
    },
    {
     "name": "stderr",
     "output_type": "stream",
     "text": [
      "[*********************100%%**********************]  1 of 1 completed\n",
      "[*********************100%%**********************]  1 of 1 completed\n",
      "[*********************100%%**********************]  1 of 1 completed\n"
     ]
    },
    {
     "name": "stdout",
     "output_type": "stream",
     "text": [
      "index: 2014-02-24 00:00:00 2024-02-22 00:00:00\n",
      "all: 2014-07-17 00:00:00 2024-02-22 00:00:00\n",
      "dataset lengths (existing vs new): 2396, 2417\n",
      "treas: ^TNX\n",
      "all: 2014-07-17 00:00:00 2024-02-22 00:00:00\n",
      "dataset lengths (existing vs new): 2396, 2415\n",
      "treas: ^FVX\n",
      "all: 2014-07-17 00:00:00 2024-02-22 00:00:00\n",
      "dataset lengths (existing vs new): 2394, 2415\n",
      "treas: ARKK\n"
     ]
    },
    {
     "name": "stderr",
     "output_type": "stream",
     "text": [
      "[*********************100%%**********************]  1 of 1 completed\n",
      "[*********************100%%**********************]  1 of 1 completed\n",
      "[*********************100%%**********************]  1 of 1 completed\n"
     ]
    },
    {
     "name": "stdout",
     "output_type": "stream",
     "text": [
      "all: 2015-03-27 00:00:00 2024-02-22 00:00:00\n",
      "dataset lengths (existing vs new): 2394, 2242\n",
      "treas: IWM\n",
      "all: 2015-03-27 00:00:00 2024-02-22 00:00:00\n",
      "dataset lengths (existing vs new): 2220, 2417\n",
      "treas: QQQ\n",
      "all: 2015-03-27 00:00:00 2024-02-22 00:00:00\n",
      "dataset lengths (existing vs new): 2220, 2417\n",
      "treas: AAPL\n"
     ]
    },
    {
     "name": "stderr",
     "output_type": "stream",
     "text": [
      "[*********************100%%**********************]  1 of 1 completed\n"
     ]
    },
    {
     "name": "stdout",
     "output_type": "stream",
     "text": [
      "all: 2015-03-27 00:00:00 2024-02-22 00:00:00\n",
      "dataset lengths (existing vs new): 2220, 2417\n",
      " 84:DT\n"
     ]
    },
    {
     "name": "stderr",
     "output_type": "stream",
     "text": [
      "[*********************100%%**********************]  1 of 1 completed\n",
      "[*********************100%%**********************]  1 of 1 completed\n",
      "[*********************100%%**********************]  1 of 1 completed\n"
     ]
    },
    {
     "name": "stdout",
     "output_type": "stream",
     "text": [
      "ticker: DT\n",
      "range: 2019-12-23 00:00:00 2024-02-22 00:00:00\n",
      "index: 2014-02-24 00:00:00 2024-02-22 00:00:00\n",
      "all: 2019-12-23 00:00:00 2024-02-22 00:00:00\n",
      "dataset lengths (existing vs new): 1048, 2417\n",
      "index: 2014-02-24 00:00:00 2024-02-22 00:00:00\n",
      "all: 2019-12-23 00:00:00 2024-02-22 00:00:00\n",
      "dataset lengths (existing vs new): 1048, 2417\n"
     ]
    },
    {
     "name": "stderr",
     "output_type": "stream",
     "text": [
      "[*********************100%%**********************]  1 of 1 completed\n",
      "[*********************100%%**********************]  1 of 1 completed\n"
     ]
    },
    {
     "name": "stdout",
     "output_type": "stream",
     "text": [
      "index: 2014-02-24 00:00:00 2024-02-22 00:00:00\n",
      "all: 2019-12-23 00:00:00 2024-02-22 00:00:00\n",
      "dataset lengths (existing vs new): 1048, 2417\n",
      "treas: ^TNX\n",
      "all: 2019-12-23 00:00:00 2024-02-22 00:00:00\n",
      "dataset lengths (existing vs new): 1048, 2415\n",
      "treas: ^FVX\n"
     ]
    },
    {
     "name": "stderr",
     "output_type": "stream",
     "text": [
      "[*********************100%%**********************]  1 of 1 completed\n",
      "[*********************100%%**********************]  1 of 1 completed\n"
     ]
    },
    {
     "name": "stdout",
     "output_type": "stream",
     "text": [
      "all: 2019-12-23 00:00:00 2024-02-22 00:00:00\n",
      "dataset lengths (existing vs new): 1048, 2415\n",
      "treas: ARKK\n",
      "all: 2019-12-23 00:00:00 2024-02-22 00:00:00\n",
      "dataset lengths (existing vs new): 1048, 2242\n",
      "treas: IWM\n"
     ]
    },
    {
     "name": "stderr",
     "output_type": "stream",
     "text": [
      "[*********************100%%**********************]  1 of 1 completed\n",
      "[*********************100%%**********************]  1 of 1 completed\n",
      "[*********************100%%**********************]  1 of 1 completed\n"
     ]
    },
    {
     "name": "stdout",
     "output_type": "stream",
     "text": [
      "all: 2019-12-23 00:00:00 2024-02-22 00:00:00\n",
      "dataset lengths (existing vs new): 1048, 2417\n",
      "treas: QQQ\n",
      "all: 2019-12-23 00:00:00 2024-02-22 00:00:00\n",
      "dataset lengths (existing vs new): 1048, 2417\n",
      "treas: AAPL\n",
      "all: 2019-12-23 00:00:00 2024-02-22 00:00:00\n",
      "dataset lengths (existing vs new): 1048, 2417\n"
     ]
    },
    {
     "name": "stderr",
     "output_type": "stream",
     "text": [
      "[*********************100%%**********************]  1 of 1 completed\n",
      "[*********************100%%**********************]  1 of 1 completed"
     ]
    },
    {
     "name": "stdout",
     "output_type": "stream",
     "text": [
      " 85:DUOL\n",
      "ticker: DUOL\n",
      "range: 2021-12-17 00:00:00 2024-02-22 00:00:00\n",
      "index: 2014-02-24 00:00:00 2024-02-22 00:00:00\n",
      "all: 2021-12-17 00:00:00 2024-02-22 00:00:00\n",
      "dataset lengths (existing vs new): 547, 2417\n"
     ]
    },
    {
     "name": "stderr",
     "output_type": "stream",
     "text": [
      "\n",
      "[*********************100%%**********************]  1 of 1 completed\n",
      "[*********************100%%**********************]  1 of 1 completed\n",
      "[*********************100%%**********************]  1 of 1 completed\n"
     ]
    },
    {
     "name": "stdout",
     "output_type": "stream",
     "text": [
      "index: 2014-02-24 00:00:00 2024-02-22 00:00:00\n",
      "all: 2021-12-17 00:00:00 2024-02-22 00:00:00\n",
      "dataset lengths (existing vs new): 547, 2417\n",
      "index: 2014-02-24 00:00:00 2024-02-22 00:00:00\n",
      "all: 2021-12-17 00:00:00 2024-02-22 00:00:00\n",
      "dataset lengths (existing vs new): 547, 2417\n",
      "treas: ^TNX\n",
      "all: 2021-12-17 00:00:00 2024-02-22 00:00:00\n",
      "dataset lengths (existing vs new): 547, 2415\n",
      "treas: ^FVX\n"
     ]
    },
    {
     "name": "stderr",
     "output_type": "stream",
     "text": [
      "[*********************100%%**********************]  1 of 1 completed\n",
      "[*********************100%%**********************]  1 of 1 completed\n",
      "[*********************100%%**********************]  1 of 1 completed\n"
     ]
    },
    {
     "name": "stdout",
     "output_type": "stream",
     "text": [
      "all: 2021-12-17 00:00:00 2024-02-22 00:00:00\n",
      "dataset lengths (existing vs new): 547, 2415\n",
      "treas: ARKK\n",
      "all: 2021-12-17 00:00:00 2024-02-22 00:00:00\n",
      "dataset lengths (existing vs new): 547, 2242\n",
      "treas: IWM\n",
      "all: 2021-12-17 00:00:00 2024-02-22 00:00:00\n",
      "dataset lengths (existing vs new): 547, 2417\n",
      "treas: QQQ\n"
     ]
    },
    {
     "name": "stderr",
     "output_type": "stream",
     "text": [
      "[*********************100%%**********************]  1 of 1 completed\n",
      "[*********************100%%**********************]  1 of 1 completed\n"
     ]
    },
    {
     "name": "stdout",
     "output_type": "stream",
     "text": [
      "all: 2021-12-17 00:00:00 2024-02-22 00:00:00\n",
      "dataset lengths (existing vs new): 547, 2417\n",
      "treas: AAPL\n",
      "all: 2021-12-17 00:00:00 2024-02-22 00:00:00\n",
      "dataset lengths (existing vs new): 547, 2417\n",
      " 86:DXCM\n"
     ]
    },
    {
     "name": "stderr",
     "output_type": "stream",
     "text": [
      "[*********************100%%**********************]  1 of 1 completed\n",
      "[*********************100%%**********************]  1 of 1 completed\n",
      "[*********************100%%**********************]  1 of 1 completed\n"
     ]
    },
    {
     "name": "stdout",
     "output_type": "stream",
     "text": [
      "ticker: DXCM\n",
      "range: 2014-07-17 00:00:00 2024-02-22 00:00:00\n",
      "index: 2014-02-24 00:00:00 2024-02-22 00:00:00\n",
      "all: 2014-07-17 00:00:00 2024-02-22 00:00:00\n",
      "dataset lengths (existing vs new): 2417, 2417\n",
      "index: 2014-02-24 00:00:00 2024-02-22 00:00:00\n",
      "all: 2014-07-17 00:00:00 2024-02-22 00:00:00\n",
      "dataset lengths (existing vs new): 2417, 2417\n"
     ]
    },
    {
     "name": "stderr",
     "output_type": "stream",
     "text": [
      "[*********************100%%**********************]  1 of 1 completed\n",
      "[*********************100%%**********************]  1 of 1 completed\n",
      "[*********************100%%**********************]  1 of 1 completed\n"
     ]
    },
    {
     "name": "stdout",
     "output_type": "stream",
     "text": [
      "index: 2014-02-24 00:00:00 2024-02-22 00:00:00\n",
      "all: 2014-07-17 00:00:00 2024-02-22 00:00:00\n",
      "dataset lengths (existing vs new): 2417, 2417\n",
      "treas: ^TNX\n",
      "all: 2014-07-17 00:00:00 2024-02-22 00:00:00\n",
      "dataset lengths (existing vs new): 2417, 2415\n",
      "treas: ^FVX\n",
      "all: 2014-07-17 00:00:00 2024-02-22 00:00:00\n",
      "dataset lengths (existing vs new): 2415, 2415\n",
      "treas: ARKK\n"
     ]
    },
    {
     "name": "stderr",
     "output_type": "stream",
     "text": [
      "[*********************100%%**********************]  1 of 1 completed\n",
      "[*********************100%%**********************]  1 of 1 completed\n",
      "[*********************100%%**********************]  1 of 1 completed\n"
     ]
    },
    {
     "name": "stdout",
     "output_type": "stream",
     "text": [
      "all: 2015-03-27 00:00:00 2024-02-22 00:00:00\n",
      "dataset lengths (existing vs new): 2415, 2242\n",
      "treas: IWM\n",
      "all: 2015-03-27 00:00:00 2024-02-22 00:00:00\n",
      "dataset lengths (existing vs new): 2240, 2417\n",
      "treas: QQQ\n",
      "all: 2015-03-27 00:00:00 2024-02-22 00:00:00\n",
      "dataset lengths (existing vs new): 2240, 2417\n",
      "treas: AAPL\n"
     ]
    },
    {
     "name": "stderr",
     "output_type": "stream",
     "text": [
      "[*********************100%%**********************]  1 of 1 completed\n"
     ]
    },
    {
     "name": "stdout",
     "output_type": "stream",
     "text": [
      "all: 2015-03-27 00:00:00 2024-02-22 00:00:00\n",
      "dataset lengths (existing vs new): 2240, 2417\n",
      " 87:EA\n"
     ]
    },
    {
     "name": "stderr",
     "output_type": "stream",
     "text": [
      "[*********************100%%**********************]  1 of 1 completed\n",
      "[*********************100%%**********************]  1 of 1 completed\n",
      "[*********************100%%**********************]  1 of 1 completed"
     ]
    },
    {
     "name": "stdout",
     "output_type": "stream",
     "text": [
      "ticker: EA\n",
      "range: 2014-07-17 00:00:00 2024-02-22 00:00:00\n",
      "index: 2014-02-24 00:00:00 2024-02-22 00:00:00\n",
      "all: 2014-07-17 00:00:00 2024-02-22 00:00:00\n",
      "dataset lengths (existing vs new): 2417, 2417\n",
      "index: 2014-02-24 00:00:00 2024-02-22 00:00:00\n"
     ]
    },
    {
     "name": "stderr",
     "output_type": "stream",
     "text": [
      "\n",
      "[*********************100%%**********************]  1 of 1 completed\n",
      "[*********************100%%**********************]  1 of 1 completed\n"
     ]
    },
    {
     "name": "stdout",
     "output_type": "stream",
     "text": [
      "all: 2014-07-17 00:00:00 2024-02-22 00:00:00\n",
      "dataset lengths (existing vs new): 2417, 2417\n",
      "index: 2014-02-24 00:00:00 2024-02-22 00:00:00\n",
      "all: 2014-07-17 00:00:00 2024-02-22 00:00:00\n",
      "dataset lengths (existing vs new): 2417, 2417\n",
      "treas: ^TNX\n",
      "all: 2014-07-17 00:00:00 2024-02-22 00:00:00\n",
      "dataset lengths (existing vs new): 2417, 2415\n",
      "treas: ^FVX\n"
     ]
    },
    {
     "name": "stderr",
     "output_type": "stream",
     "text": [
      "[*********************100%%**********************]  1 of 1 completed\n",
      "[*********************100%%**********************]  1 of 1 completed\n",
      "[*********************100%%**********************]  1 of 1 completed\n"
     ]
    },
    {
     "name": "stdout",
     "output_type": "stream",
     "text": [
      "all: 2014-07-17 00:00:00 2024-02-22 00:00:00\n",
      "dataset lengths (existing vs new): 2415, 2415\n",
      "treas: ARKK\n",
      "all: 2015-03-27 00:00:00 2024-02-22 00:00:00\n",
      "dataset lengths (existing vs new): 2415, 2242\n",
      "treas: IWM\n",
      "all: 2015-03-27 00:00:00 2024-02-22 00:00:00\n",
      "dataset lengths (existing vs new): 2240, 2417\n",
      "treas: QQQ\n"
     ]
    },
    {
     "name": "stderr",
     "output_type": "stream",
     "text": [
      "[*********************100%%**********************]  1 of 1 completed\n",
      "[*********************100%%**********************]  1 of 1 completed"
     ]
    },
    {
     "name": "stdout",
     "output_type": "stream",
     "text": [
      "all: 2015-03-27 00:00:00 2024-02-22 00:00:00\n",
      "dataset lengths (existing vs new): 2240, 2417\n",
      "treas: AAPL\n"
     ]
    },
    {
     "name": "stderr",
     "output_type": "stream",
     "text": [
      "\n"
     ]
    },
    {
     "name": "stdout",
     "output_type": "stream",
     "text": [
      "all: 2015-03-27 00:00:00 2024-02-22 00:00:00\n",
      "dataset lengths (existing vs new): 2240, 2417\n"
     ]
    },
    {
     "name": "stderr",
     "output_type": "stream",
     "text": [
      "[*********************100%%**********************]  1 of 1 completed"
     ]
    },
    {
     "name": "stdout",
     "output_type": "stream",
     "text": [
      " 88:EB\n",
      "ticker: EB\n",
      "range: 2019-02-14 00:00:00 2024-02-22 00:00:00\n"
     ]
    },
    {
     "name": "stderr",
     "output_type": "stream",
     "text": [
      "\n",
      "[*********************100%%**********************]  1 of 1 completed\n",
      "[*********************100%%**********************]  1 of 1 completed\n"
     ]
    },
    {
     "name": "stdout",
     "output_type": "stream",
     "text": [
      "index: 2014-02-24 00:00:00 2024-02-22 00:00:00\n",
      "all: 2019-02-14 00:00:00 2024-02-22 00:00:00\n",
      "dataset lengths (existing vs new): 1264, 2417\n",
      "index: 2014-02-24 00:00:00 2024-02-22 00:00:00\n",
      "all: 2019-02-14 00:00:00 2024-02-22 00:00:00\n",
      "dataset lengths (existing vs new): 1264, 2417\n"
     ]
    },
    {
     "name": "stderr",
     "output_type": "stream",
     "text": [
      "[*********************100%%**********************]  1 of 1 completed\n"
     ]
    },
    {
     "name": "stdout",
     "output_type": "stream",
     "text": [
      "index: 2014-02-24 00:00:00 2024-02-22 00:00:00\n",
      "all: 2019-02-14 00:00:00 2024-02-22 00:00:00\n",
      "dataset lengths (existing vs new): 1264, 2417\n",
      "treas: ^TNX\n"
     ]
    },
    {
     "name": "stderr",
     "output_type": "stream",
     "text": [
      "[*********************100%%**********************]  1 of 1 completed\n",
      "[*********************100%%**********************]  1 of 1 completed\n",
      "[*********************100%%**********************]  1 of 1 completed\n"
     ]
    },
    {
     "name": "stdout",
     "output_type": "stream",
     "text": [
      "all: 2019-02-14 00:00:00 2024-02-22 00:00:00\n",
      "dataset lengths (existing vs new): 1264, 2415\n",
      "treas: ^FVX\n",
      "all: 2019-02-14 00:00:00 2024-02-22 00:00:00\n",
      "dataset lengths (existing vs new): 1264, 2415\n",
      "treas: ARKK\n",
      "all: 2019-02-14 00:00:00 2024-02-22 00:00:00\n",
      "dataset lengths (existing vs new): 1264, 2242\n",
      "treas: IWM\n"
     ]
    },
    {
     "name": "stderr",
     "output_type": "stream",
     "text": [
      "[*********************100%%**********************]  1 of 1 completed\n",
      "[*********************100%%**********************]  1 of 1 completed\n",
      "[*********************100%%**********************]  1 of 1 completed\n"
     ]
    },
    {
     "name": "stdout",
     "output_type": "stream",
     "text": [
      "all: 2019-02-14 00:00:00 2024-02-22 00:00:00\n",
      "dataset lengths (existing vs new): 1264, 2417\n",
      "treas: QQQ\n",
      "all: 2019-02-14 00:00:00 2024-02-22 00:00:00\n",
      "dataset lengths (existing vs new): 1264, 2417\n",
      "treas: AAPL\n",
      "all: 2019-02-14 00:00:00 2024-02-22 00:00:00\n",
      "dataset lengths (existing vs new): 1264, 2417\n"
     ]
    },
    {
     "name": "stderr",
     "output_type": "stream",
     "text": [
      "[*********************100%%**********************]  1 of 1 completed"
     ]
    },
    {
     "name": "stdout",
     "output_type": "stream",
     "text": [
      " 89:EBAY\n",
      "ticker: EBAY\n",
      "range: 2014-07-17 00:00:00 2024-02-22 00:00:00\n"
     ]
    },
    {
     "name": "stderr",
     "output_type": "stream",
     "text": [
      "\n",
      "[*********************100%%**********************]  1 of 1 completed\n",
      "[*********************100%%**********************]  1 of 1 completed\n",
      "[*********************100%%**********************]  1 of 1 completed\n"
     ]
    },
    {
     "name": "stdout",
     "output_type": "stream",
     "text": [
      "index: 2014-02-24 00:00:00 2024-02-22 00:00:00\n",
      "all: 2014-07-17 00:00:00 2024-02-22 00:00:00\n",
      "dataset lengths (existing vs new): 2417, 2417\n",
      "index: 2014-02-24 00:00:00 2024-02-22 00:00:00\n",
      "all: 2014-07-17 00:00:00 2024-02-22 00:00:00\n",
      "dataset lengths (existing vs new): 2417, 2417\n",
      "index: 2014-02-24 00:00:00 2024-02-22 00:00:00\n",
      "all: 2014-07-17 00:00:00 2024-02-22 00:00:00\n",
      "dataset lengths (existing vs new): 2417, 2417\n",
      "treas: ^TNX\n"
     ]
    },
    {
     "name": "stderr",
     "output_type": "stream",
     "text": [
      "[*********************100%%**********************]  1 of 1 completed\n"
     ]
    },
    {
     "name": "stdout",
     "output_type": "stream",
     "text": [
      "all: 2014-07-17 00:00:00 2024-02-22 00:00:00\n",
      "dataset lengths (existing vs new): 2417, 2415\n",
      "treas: ^FVX\n"
     ]
    },
    {
     "name": "stderr",
     "output_type": "stream",
     "text": [
      "[*********************100%%**********************]  1 of 1 completed\n",
      "[*********************100%%**********************]  1 of 1 completed\n"
     ]
    },
    {
     "name": "stdout",
     "output_type": "stream",
     "text": [
      "all: 2014-07-17 00:00:00 2024-02-22 00:00:00\n",
      "dataset lengths (existing vs new): 2415, 2415\n",
      "treas: ARKK\n",
      "all: 2015-03-27 00:00:00 2024-02-22 00:00:00\n",
      "dataset lengths (existing vs new): 2415, 2242\n",
      "treas: IWM\n"
     ]
    },
    {
     "name": "stderr",
     "output_type": "stream",
     "text": [
      "[*********************100%%**********************]  1 of 1 completed\n",
      "[*********************100%%**********************]  1 of 1 completed\n",
      "[*********************100%%**********************]  1 of 1 completed\n"
     ]
    },
    {
     "name": "stdout",
     "output_type": "stream",
     "text": [
      "all: 2015-03-27 00:00:00 2024-02-22 00:00:00\n",
      "dataset lengths (existing vs new): 2240, 2417\n",
      "treas: QQQ\n",
      "all: 2015-03-27 00:00:00 2024-02-22 00:00:00\n",
      "dataset lengths (existing vs new): 2240, 2417\n",
      "treas: AAPL\n",
      "all: 2015-03-27 00:00:00 2024-02-22 00:00:00\n",
      "dataset lengths (existing vs new): 2240, 2417\n"
     ]
    },
    {
     "name": "stderr",
     "output_type": "stream",
     "text": [
      "[*********************100%%**********************]  1 of 1 completed"
     ]
    },
    {
     "name": "stdout",
     "output_type": "stream",
     "text": [
      " 90:EDIT\n",
      "ticker: EDIT\n",
      "range: 2016-06-27 00:00:00 2024-02-22 00:00:00\n"
     ]
    },
    {
     "name": "stderr",
     "output_type": "stream",
     "text": [
      "\n",
      "[*********************100%%**********************]  1 of 1 completed\n",
      "[*********************100%%**********************]  1 of 1 completed\n",
      "[*********************100%%**********************]  1 of 1 completed\n"
     ]
    },
    {
     "name": "stdout",
     "output_type": "stream",
     "text": [
      "index: 2014-02-24 00:00:00 2024-02-22 00:00:00\n",
      "all: 2016-06-27 00:00:00 2024-02-22 00:00:00\n",
      "dataset lengths (existing vs new): 1927, 2417\n",
      "index: 2014-02-24 00:00:00 2024-02-22 00:00:00\n",
      "all: 2016-06-27 00:00:00 2024-02-22 00:00:00\n",
      "dataset lengths (existing vs new): 1927, 2417\n",
      "index: 2014-02-24 00:00:00 2024-02-22 00:00:00\n",
      "all: 2016-06-27 00:00:00 2024-02-22 00:00:00\n",
      "dataset lengths (existing vs new): 1927, 2417\n",
      "treas: ^TNX\n"
     ]
    },
    {
     "name": "stderr",
     "output_type": "stream",
     "text": [
      "[*********************100%%**********************]  1 of 1 completed\n",
      "[*********************100%%**********************]  1 of 1 completed\n"
     ]
    },
    {
     "name": "stdout",
     "output_type": "stream",
     "text": [
      "all: 2016-06-27 00:00:00 2024-02-22 00:00:00\n",
      "dataset lengths (existing vs new): 1927, 2415\n",
      "treas: ^FVX\n",
      "all: 2016-06-27 00:00:00 2024-02-22 00:00:00\n",
      "dataset lengths (existing vs new): 1925, 2415\n",
      "treas: ARKK\n"
     ]
    },
    {
     "name": "stderr",
     "output_type": "stream",
     "text": [
      "[*********************100%%**********************]  1 of 1 completed\n",
      "[*********************100%%**********************]  1 of 1 completed\n",
      "[*********************100%%**********************]  1 of 1 completed\n"
     ]
    },
    {
     "name": "stdout",
     "output_type": "stream",
     "text": [
      "all: 2016-06-27 00:00:00 2024-02-22 00:00:00\n",
      "dataset lengths (existing vs new): 1925, 2242\n",
      "treas: IWM\n",
      "all: 2016-06-27 00:00:00 2024-02-22 00:00:00\n",
      "dataset lengths (existing vs new): 1925, 2417\n",
      "treas: QQQ\n",
      "all: 2016-06-27 00:00:00 2024-02-22 00:00:00\n",
      "dataset lengths (existing vs new): 1925, 2417\n",
      "treas: AAPL\n"
     ]
    },
    {
     "name": "stderr",
     "output_type": "stream",
     "text": [
      "[*********************100%%**********************]  1 of 1 completed\n"
     ]
    },
    {
     "name": "stdout",
     "output_type": "stream",
     "text": [
      "all: 2016-06-27 00:00:00 2024-02-22 00:00:00\n",
      "dataset lengths (existing vs new): 1925, 2417\n",
      " 91:EDR\n"
     ]
    },
    {
     "name": "stderr",
     "output_type": "stream",
     "text": [
      "[*********************100%%**********************]  1 of 1 completed\n"
     ]
    },
    {
     "name": "stdout",
     "output_type": "stream",
     "text": [
      "ticker: EDR\n",
      "range: 2021-09-20 00:00:00 2024-02-22 00:00:00\n"
     ]
    },
    {
     "name": "stderr",
     "output_type": "stream",
     "text": [
      "[*********************100%%**********************]  1 of 1 completed\n",
      "[*********************100%%**********************]  1 of 1 completed\n",
      "[*********************100%%**********************]  1 of 1 completed\n"
     ]
    },
    {
     "name": "stdout",
     "output_type": "stream",
     "text": [
      "index: 2014-02-24 00:00:00 2024-02-22 00:00:00\n",
      "all: 2021-09-20 00:00:00 2024-02-22 00:00:00\n",
      "dataset lengths (existing vs new): 610, 2417\n",
      "index: 2014-02-24 00:00:00 2024-02-22 00:00:00\n",
      "all: 2021-09-20 00:00:00 2024-02-22 00:00:00\n",
      "dataset lengths (existing vs new): 610, 2417\n",
      "index: 2014-02-24 00:00:00 2024-02-22 00:00:00\n",
      "all: 2021-09-20 00:00:00 2024-02-22 00:00:00\n",
      "dataset lengths (existing vs new): 610, 2417\n",
      "treas: ^TNX\n"
     ]
    },
    {
     "name": "stderr",
     "output_type": "stream",
     "text": [
      "[*********************100%%**********************]  1 of 1 completed\n",
      "[*********************100%%**********************]  1 of 1 completed\n",
      "[*********************100%%**********************]  1 of 1 completed\n"
     ]
    },
    {
     "name": "stdout",
     "output_type": "stream",
     "text": [
      "all: 2021-09-20 00:00:00 2024-02-22 00:00:00\n",
      "dataset lengths (existing vs new): 610, 2415\n",
      "treas: ^FVX\n",
      "all: 2021-09-20 00:00:00 2024-02-22 00:00:00\n",
      "dataset lengths (existing vs new): 610, 2415\n",
      "treas: ARKK\n",
      "all: 2021-09-20 00:00:00 2024-02-22 00:00:00\n",
      "dataset lengths (existing vs new): 610, 2242\n",
      "treas: IWM\n"
     ]
    },
    {
     "name": "stderr",
     "output_type": "stream",
     "text": [
      "[*********************100%%**********************]  1 of 1 completed\n",
      "[*********************100%%**********************]  1 of 1 completed\n"
     ]
    },
    {
     "name": "stdout",
     "output_type": "stream",
     "text": [
      "all: 2021-09-20 00:00:00 2024-02-22 00:00:00\n",
      "dataset lengths (existing vs new): 610, 2417\n",
      "treas: QQQ\n",
      "all: 2021-09-20 00:00:00 2024-02-22 00:00:00\n",
      "dataset lengths (existing vs new): 610, 2417\n",
      "treas: AAPL\n"
     ]
    },
    {
     "name": "stderr",
     "output_type": "stream",
     "text": [
      "[*********************100%%**********************]  1 of 1 completed\n"
     ]
    },
    {
     "name": "stdout",
     "output_type": "stream",
     "text": [
      "all: 2021-09-20 00:00:00 2024-02-22 00:00:00\n",
      "dataset lengths (existing vs new): 610, 2417\n",
      " 92:ENPH\n"
     ]
    },
    {
     "name": "stderr",
     "output_type": "stream",
     "text": [
      "[*********************100%%**********************]  1 of 1 completed\n",
      "[*********************100%%**********************]  1 of 1 completed\n",
      "[*********************100%%**********************]  1 of 1 completed\n",
      "[*********************100%%**********************]  1 of 1 completed"
     ]
    },
    {
     "name": "stdout",
     "output_type": "stream",
     "text": [
      "ticker: ENPH\n",
      "range: 2014-07-17 00:00:00 2024-02-22 00:00:00\n",
      "index: 2014-02-24 00:00:00 2024-02-22 00:00:00\n",
      "all: 2014-07-17 00:00:00 2024-02-22 00:00:00\n",
      "dataset lengths (existing vs new): 2417, 2417\n",
      "index: 2014-02-24 00:00:00 2024-02-22 00:00:00\n",
      "all: 2014-07-17 00:00:00 2024-02-22 00:00:00\n",
      "dataset lengths (existing vs new): 2417, 2417\n",
      "index: 2014-02-24 00:00:00 2024-02-22 00:00:00\n"
     ]
    },
    {
     "name": "stderr",
     "output_type": "stream",
     "text": [
      "\n",
      "[*********************100%%**********************]  1 of 1 completed\n",
      "[*********************100%%**********************]  1 of 1 completed\n"
     ]
    },
    {
     "name": "stdout",
     "output_type": "stream",
     "text": [
      "all: 2014-07-17 00:00:00 2024-02-22 00:00:00\n",
      "dataset lengths (existing vs new): 2417, 2417\n",
      "treas: ^TNX\n",
      "all: 2014-07-17 00:00:00 2024-02-22 00:00:00\n",
      "dataset lengths (existing vs new): 2417, 2415\n",
      "treas: ^FVX\n",
      "all: 2014-07-17 00:00:00 2024-02-22 00:00:00\n",
      "dataset lengths (existing vs new): 2415, 2415\n",
      "treas: ARKK\n"
     ]
    },
    {
     "name": "stderr",
     "output_type": "stream",
     "text": [
      "[*********************100%%**********************]  1 of 1 completed\n",
      "[*********************100%%**********************]  1 of 1 completed\n"
     ]
    },
    {
     "name": "stdout",
     "output_type": "stream",
     "text": [
      "all: 2015-03-27 00:00:00 2024-02-22 00:00:00\n",
      "dataset lengths (existing vs new): 2415, 2242\n",
      "treas: IWM\n",
      "all: 2015-03-27 00:00:00 2024-02-22 00:00:00\n",
      "dataset lengths (existing vs new): 2240, 2417\n",
      "treas: QQQ\n"
     ]
    },
    {
     "name": "stderr",
     "output_type": "stream",
     "text": [
      "[*********************100%%**********************]  1 of 1 completed\n",
      "[*********************100%%**********************]  1 of 1 completed\n"
     ]
    },
    {
     "name": "stdout",
     "output_type": "stream",
     "text": [
      "all: 2015-03-27 00:00:00 2024-02-22 00:00:00\n",
      "dataset lengths (existing vs new): 2240, 2417\n",
      "treas: AAPL\n",
      "all: 2015-03-27 00:00:00 2024-02-22 00:00:00\n",
      "dataset lengths (existing vs new): 2240, 2417\n",
      " 93:ENVX\n"
     ]
    },
    {
     "name": "stderr",
     "output_type": "stream",
     "text": [
      "[*********************100%%**********************]  1 of 1 completed\n",
      "[*********************100%%**********************]  1 of 1 completed\n"
     ]
    },
    {
     "name": "stdout",
     "output_type": "stream",
     "text": [
      "ticker: ENVX\n",
      "range: 2021-05-28 00:00:00 2024-02-22 00:00:00\n",
      "index: 2014-02-24 00:00:00 2024-02-22 00:00:00\n",
      "all: 2021-05-28 00:00:00 2024-02-22 00:00:00\n",
      "dataset lengths (existing vs new): 688, 2417\n"
     ]
    },
    {
     "name": "stderr",
     "output_type": "stream",
     "text": [
      "[*********************100%%**********************]  1 of 1 completed\n",
      "[*********************100%%**********************]  1 of 1 completed\n"
     ]
    },
    {
     "name": "stdout",
     "output_type": "stream",
     "text": [
      "index: 2014-02-24 00:00:00 2024-02-22 00:00:00\n",
      "all: 2021-05-28 00:00:00 2024-02-22 00:00:00\n",
      "dataset lengths (existing vs new): 688, 2417\n",
      "index: 2014-02-24 00:00:00 2024-02-22 00:00:00\n",
      "all: 2021-05-28 00:00:00 2024-02-22 00:00:00\n",
      "dataset lengths (existing vs new): 688, 2417\n",
      "treas: ^TNX\n"
     ]
    },
    {
     "name": "stderr",
     "output_type": "stream",
     "text": [
      "[*********************100%%**********************]  1 of 1 completed\n",
      "[*********************100%%**********************]  1 of 1 completed"
     ]
    },
    {
     "name": "stdout",
     "output_type": "stream",
     "text": [
      "all: 2021-05-28 00:00:00 2024-02-22 00:00:00\n",
      "dataset lengths (existing vs new): 688, 2415\n",
      "treas: ^FVX\n"
     ]
    },
    {
     "name": "stderr",
     "output_type": "stream",
     "text": [
      "\n",
      "[*********************100%%**********************]  1 of 1 completed\n",
      "[*********************100%%**********************]  1 of 1 completed\n"
     ]
    },
    {
     "name": "stdout",
     "output_type": "stream",
     "text": [
      "all: 2021-05-28 00:00:00 2024-02-22 00:00:00\n",
      "dataset lengths (existing vs new): 688, 2415\n",
      "treas: ARKK\n",
      "all: 2021-05-28 00:00:00 2024-02-22 00:00:00\n",
      "dataset lengths (existing vs new): 688, 2242\n",
      "treas: IWM\n",
      "all: 2021-05-28 00:00:00 2024-02-22 00:00:00\n",
      "dataset lengths (existing vs new): 688, 2417\n",
      "treas: QQQ\n"
     ]
    },
    {
     "name": "stderr",
     "output_type": "stream",
     "text": [
      "[*********************100%%**********************]  1 of 1 completed\n",
      "[*********************100%%**********************]  1 of 1 completed\n"
     ]
    },
    {
     "name": "stdout",
     "output_type": "stream",
     "text": [
      "all: 2021-05-28 00:00:00 2024-02-22 00:00:00\n",
      "dataset lengths (existing vs new): 688, 2417\n",
      "treas: AAPL\n",
      "all: 2021-05-28 00:00:00 2024-02-22 00:00:00\n",
      "dataset lengths (existing vs new): 688, 2417\n",
      " 94:ESTC\n"
     ]
    },
    {
     "name": "stderr",
     "output_type": "stream",
     "text": [
      "[*********************100%%**********************]  1 of 1 completed\n",
      "[*********************100%%**********************]  1 of 1 completed\n",
      "[*********************100%%**********************]  1 of 1 completed\n"
     ]
    },
    {
     "name": "stdout",
     "output_type": "stream",
     "text": [
      "ticker: ESTC\n",
      "range: 2019-03-04 00:00:00 2024-02-22 00:00:00\n",
      "index: 2014-02-24 00:00:00 2024-02-22 00:00:00\n",
      "all: 2019-03-04 00:00:00 2024-02-22 00:00:00\n",
      "dataset lengths (existing vs new): 1253, 2417\n",
      "index: 2014-02-24 00:00:00 2024-02-22 00:00:00\n",
      "all: 2019-03-04 00:00:00 2024-02-22 00:00:00\n",
      "dataset lengths (existing vs new): 1253, 2417\n"
     ]
    },
    {
     "name": "stderr",
     "output_type": "stream",
     "text": [
      "[*********************100%%**********************]  1 of 1 completed\n",
      "[*********************100%%**********************]  1 of 1 completed\n",
      "[*********************100%%**********************]  1 of 1 completed\n"
     ]
    },
    {
     "name": "stdout",
     "output_type": "stream",
     "text": [
      "index: 2014-02-24 00:00:00 2024-02-22 00:00:00\n",
      "all: 2019-03-04 00:00:00 2024-02-22 00:00:00\n",
      "dataset lengths (existing vs new): 1253, 2417\n",
      "treas: ^TNX\n",
      "all: 2019-03-04 00:00:00 2024-02-22 00:00:00\n",
      "dataset lengths (existing vs new): 1253, 2415\n",
      "treas: ^FVX\n",
      "all: 2019-03-04 00:00:00 2024-02-22 00:00:00\n",
      "dataset lengths (existing vs new): 1253, 2415\n",
      "treas: ARKK\n"
     ]
    },
    {
     "name": "stderr",
     "output_type": "stream",
     "text": [
      "[*********************100%%**********************]  1 of 1 completed\n"
     ]
    },
    {
     "name": "stdout",
     "output_type": "stream",
     "text": [
      "all: 2019-03-04 00:00:00 2024-02-22 00:00:00\n",
      "dataset lengths (existing vs new): 1253, 2242\n",
      "treas: IWM\n"
     ]
    },
    {
     "name": "stderr",
     "output_type": "stream",
     "text": [
      "[*********************100%%**********************]  1 of 1 completed\n",
      "[*********************100%%**********************]  1 of 1 completed\n",
      "[*********************100%%**********************]  1 of 1 completed\n"
     ]
    },
    {
     "name": "stdout",
     "output_type": "stream",
     "text": [
      "all: 2019-03-04 00:00:00 2024-02-22 00:00:00\n",
      "dataset lengths (existing vs new): 1253, 2417\n",
      "treas: QQQ\n",
      "all: 2019-03-04 00:00:00 2024-02-22 00:00:00\n",
      "dataset lengths (existing vs new): 1253, 2417\n",
      "treas: AAPL\n",
      "all: 2019-03-04 00:00:00 2024-02-22 00:00:00\n",
      "dataset lengths (existing vs new): 1253, 2417\n"
     ]
    },
    {
     "name": "stderr",
     "output_type": "stream",
     "text": [
      "[*********************100%%**********************]  1 of 1 completed"
     ]
    },
    {
     "name": "stdout",
     "output_type": "stream",
     "text": [
      " 95:ETH-USD\n"
     ]
    },
    {
     "name": "stderr",
     "output_type": "stream",
     "text": [
      "\n",
      "[*********************100%%**********************]  1 of 1 completed\n",
      "[*********************100%%**********************]  1 of 1 completed\n",
      "[*********************100%%**********************]  1 of 1 completed"
     ]
    },
    {
     "name": "stdout",
     "output_type": "stream",
     "text": [
      "ticker: ETH-USD\n",
      "range: 2018-02-17 00:00:00 2024-02-23 00:00:00\n",
      "index: 2014-02-24 00:00:00 2024-02-22 00:00:00\n",
      "all: 2018-02-20 00:00:00 2024-02-22 00:00:00\n",
      "dataset lengths (existing vs new): 2198, 2417\n",
      "index: 2014-02-24 00:00:00 2024-02-22 00:00:00\n",
      "all: 2018-02-20 00:00:00 2024-02-22 00:00:00\n",
      "dataset lengths (existing vs new): 1512, 2417\n",
      "index: 2014-02-24 00:00:00 2024-02-22 00:00:00\n"
     ]
    },
    {
     "name": "stderr",
     "output_type": "stream",
     "text": [
      "\n",
      "[*********************100%%**********************]  1 of 1 completed\n",
      "[*********************100%%**********************]  1 of 1 completed\n"
     ]
    },
    {
     "name": "stdout",
     "output_type": "stream",
     "text": [
      "all: 2018-02-20 00:00:00 2024-02-22 00:00:00\n",
      "dataset lengths (existing vs new): 1512, 2417\n",
      "treas: ^TNX\n",
      "all: 2018-02-20 00:00:00 2024-02-22 00:00:00\n",
      "dataset lengths (existing vs new): 1512, 2415\n",
      "treas: ^FVX\n",
      "all: 2018-02-20 00:00:00 2024-02-22 00:00:00\n",
      "dataset lengths (existing vs new): 1512, 2415\n",
      "treas: ARKK\n"
     ]
    },
    {
     "name": "stderr",
     "output_type": "stream",
     "text": [
      "[*********************100%%**********************]  1 of 1 completed\n",
      "[*********************100%%**********************]  1 of 1 completed\n",
      "[*********************100%%**********************]  1 of 1 completed\n"
     ]
    },
    {
     "name": "stdout",
     "output_type": "stream",
     "text": [
      "all: 2018-02-20 00:00:00 2024-02-22 00:00:00\n",
      "dataset lengths (existing vs new): 1512, 2242\n",
      "treas: IWM\n",
      "all: 2018-02-20 00:00:00 2024-02-22 00:00:00\n",
      "dataset lengths (existing vs new): 1512, 2417\n",
      "treas: QQQ\n",
      "all: 2018-02-20 00:00:00 2024-02-22 00:00:00\n",
      "dataset lengths (existing vs new): 1512, 2417\n",
      "treas: AAPL\n"
     ]
    },
    {
     "name": "stderr",
     "output_type": "stream",
     "text": [
      "[*********************100%%**********************]  1 of 1 completed\n"
     ]
    },
    {
     "name": "stdout",
     "output_type": "stream",
     "text": [
      "all: 2018-02-20 00:00:00 2024-02-22 00:00:00\n",
      "dataset lengths (existing vs new): 1512, 2417\n",
      " 96:ETSY\n"
     ]
    },
    {
     "name": "stderr",
     "output_type": "stream",
     "text": [
      "[*********************100%%**********************]  1 of 1 completed\n"
     ]
    },
    {
     "name": "stdout",
     "output_type": "stream",
     "text": [
      "ticker: ETSY\n",
      "range: 2015-09-08 00:00:00 2024-02-22 00:00:00\n"
     ]
    },
    {
     "name": "stderr",
     "output_type": "stream",
     "text": [
      "[*********************100%%**********************]  1 of 1 completed\n",
      "[*********************100%%**********************]  1 of 1 completed\n",
      "[*********************100%%**********************]  1 of 1 completed\n"
     ]
    },
    {
     "name": "stdout",
     "output_type": "stream",
     "text": [
      "index: 2014-02-24 00:00:00 2024-02-22 00:00:00\n",
      "all: 2015-09-08 00:00:00 2024-02-22 00:00:00\n",
      "dataset lengths (existing vs new): 2129, 2417\n",
      "index: 2014-02-24 00:00:00 2024-02-22 00:00:00\n",
      "all: 2015-09-08 00:00:00 2024-02-22 00:00:00\n",
      "dataset lengths (existing vs new): 2129, 2417\n",
      "index: 2014-02-24 00:00:00 2024-02-22 00:00:00\n",
      "all: 2015-09-08 00:00:00 2024-02-22 00:00:00\n",
      "dataset lengths (existing vs new): 2129, 2417\n",
      "treas: ^TNX\n"
     ]
    },
    {
     "name": "stderr",
     "output_type": "stream",
     "text": [
      "[*********************100%%**********************]  1 of 1 completed\n",
      "[*********************100%%**********************]  1 of 1 completed\n",
      "[*********************100%%**********************]  1 of 1 completed\n"
     ]
    },
    {
     "name": "stdout",
     "output_type": "stream",
     "text": [
      "all: 2015-09-08 00:00:00 2024-02-22 00:00:00\n",
      "dataset lengths (existing vs new): 2129, 2415\n",
      "treas: ^FVX\n",
      "all: 2015-09-08 00:00:00 2024-02-22 00:00:00\n",
      "dataset lengths (existing vs new): 2127, 2415\n",
      "treas: ARKK\n",
      "all: 2015-09-08 00:00:00 2024-02-22 00:00:00\n",
      "dataset lengths (existing vs new): 2127, 2242\n",
      "treas: IWM\n"
     ]
    },
    {
     "name": "stderr",
     "output_type": "stream",
     "text": [
      "[*********************100%%**********************]  1 of 1 completed\n",
      "[*********************100%%**********************]  1 of 1 completed\n",
      "[*********************100%%**********************]  1 of 1 completed\n"
     ]
    },
    {
     "name": "stdout",
     "output_type": "stream",
     "text": [
      "all: 2015-09-08 00:00:00 2024-02-22 00:00:00\n",
      "dataset lengths (existing vs new): 2127, 2417\n",
      "treas: QQQ\n",
      "all: 2015-09-08 00:00:00 2024-02-22 00:00:00\n",
      "dataset lengths (existing vs new): 2127, 2417\n",
      "treas: AAPL\n",
      "all: 2015-09-08 00:00:00 2024-02-22 00:00:00\n",
      "dataset lengths (existing vs new): 2127, 2417\n",
      " 97:EXAS\n"
     ]
    },
    {
     "name": "stderr",
     "output_type": "stream",
     "text": [
      "[*********************100%%**********************]  1 of 1 completed\n",
      "[*********************100%%**********************]  1 of 1 completed\n",
      "[*********************100%%**********************]  1 of 1 completed\n"
     ]
    },
    {
     "name": "stdout",
     "output_type": "stream",
     "text": [
      "ticker: EXAS\n",
      "range: 2014-07-17 00:00:00 2024-02-22 00:00:00\n",
      "index: 2014-02-24 00:00:00 2024-02-22 00:00:00\n",
      "all: 2014-07-17 00:00:00 2024-02-22 00:00:00\n",
      "dataset lengths (existing vs new): 2417, 2417\n",
      "index: 2014-02-24 00:00:00 2024-02-22 00:00:00\n",
      "all: 2014-07-17 00:00:00 2024-02-22 00:00:00\n",
      "dataset lengths (existing vs new): 2417, 2417\n"
     ]
    },
    {
     "name": "stderr",
     "output_type": "stream",
     "text": [
      "[*********************100%%**********************]  1 of 1 completed\n",
      "[*********************100%%**********************]  1 of 1 completed\n",
      "[*********************100%%**********************]  1 of 1 completed\n"
     ]
    },
    {
     "name": "stdout",
     "output_type": "stream",
     "text": [
      "index: 2014-02-24 00:00:00 2024-02-22 00:00:00\n",
      "all: 2014-07-17 00:00:00 2024-02-22 00:00:00\n",
      "dataset lengths (existing vs new): 2417, 2417\n",
      "treas: ^TNX\n",
      "all: 2014-07-17 00:00:00 2024-02-22 00:00:00\n",
      "dataset lengths (existing vs new): 2417, 2415\n",
      "treas: ^FVX\n",
      "all: 2014-07-17 00:00:00 2024-02-22 00:00:00\n",
      "dataset lengths (existing vs new): 2415, 2415\n",
      "treas: ARKK\n"
     ]
    },
    {
     "name": "stderr",
     "output_type": "stream",
     "text": [
      "[*********************100%%**********************]  1 of 1 completed\n",
      "[*********************100%%**********************]  1 of 1 completed\n"
     ]
    },
    {
     "name": "stdout",
     "output_type": "stream",
     "text": [
      "all: 2015-03-27 00:00:00 2024-02-22 00:00:00\n",
      "dataset lengths (existing vs new): 2415, 2242\n",
      "treas: IWM\n",
      "all: 2015-03-27 00:00:00 2024-02-22 00:00:00\n",
      "dataset lengths (existing vs new): 2240, 2417\n",
      "treas: QQQ\n"
     ]
    },
    {
     "name": "stderr",
     "output_type": "stream",
     "text": [
      "[*********************100%%**********************]  1 of 1 completed\n",
      "[*********************100%%**********************]  1 of 1 completed\n"
     ]
    },
    {
     "name": "stdout",
     "output_type": "stream",
     "text": [
      "all: 2015-03-27 00:00:00 2024-02-22 00:00:00\n",
      "dataset lengths (existing vs new): 2240, 2417\n",
      "treas: AAPL\n",
      "all: 2015-03-27 00:00:00 2024-02-22 00:00:00\n",
      "dataset lengths (existing vs new): 2240, 2417\n"
     ]
    },
    {
     "name": "stderr",
     "output_type": "stream",
     "text": [
      "[*********************100%%**********************]  1 of 1 completed"
     ]
    },
    {
     "name": "stdout",
     "output_type": "stream",
     "text": [
      " 98:EXPE\n",
      "ticker: EXPE\n",
      "range: 2014-07-17 00:00:00 2024-02-22 00:00:00\n"
     ]
    },
    {
     "name": "stderr",
     "output_type": "stream",
     "text": [
      "\n",
      "[*********************100%%**********************]  1 of 1 completed\n",
      "[*********************100%%**********************]  1 of 1 completed\n"
     ]
    },
    {
     "name": "stdout",
     "output_type": "stream",
     "text": [
      "index: 2014-02-24 00:00:00 2024-02-22 00:00:00\n",
      "all: 2014-07-17 00:00:00 2024-02-22 00:00:00\n",
      "dataset lengths (existing vs new): 2417, 2417\n",
      "index: 2014-02-24 00:00:00 2024-02-22 00:00:00\n",
      "all: 2014-07-17 00:00:00 2024-02-22 00:00:00\n",
      "dataset lengths (existing vs new): 2417, 2417\n"
     ]
    },
    {
     "name": "stderr",
     "output_type": "stream",
     "text": [
      "[*********************100%%**********************]  1 of 1 completed\n"
     ]
    },
    {
     "name": "stdout",
     "output_type": "stream",
     "text": [
      "index: 2014-02-24 00:00:00 2024-02-22 00:00:00\n",
      "all: 2014-07-17 00:00:00 2024-02-22 00:00:00\n",
      "dataset lengths (existing vs new): 2417, 2417\n",
      "treas: ^TNX\n"
     ]
    },
    {
     "name": "stderr",
     "output_type": "stream",
     "text": [
      "[*********************100%%**********************]  1 of 1 completed\n",
      "[*********************100%%**********************]  1 of 1 completed\n"
     ]
    },
    {
     "name": "stdout",
     "output_type": "stream",
     "text": [
      "all: 2014-07-17 00:00:00 2024-02-22 00:00:00\n",
      "dataset lengths (existing vs new): 2417, 2415\n",
      "treas: ^FVX\n",
      "all: 2014-07-17 00:00:00 2024-02-22 00:00:00\n",
      "dataset lengths (existing vs new): 2415, 2415\n",
      "treas: ARKK\n"
     ]
    },
    {
     "name": "stderr",
     "output_type": "stream",
     "text": [
      "[*********************100%%**********************]  1 of 1 completed\n",
      "[*********************100%%**********************]  1 of 1 completed\n",
      "[*********************100%%**********************]  1 of 1 completed\n"
     ]
    },
    {
     "name": "stdout",
     "output_type": "stream",
     "text": [
      "all: 2015-03-27 00:00:00 2024-02-22 00:00:00\n",
      "dataset lengths (existing vs new): 2415, 2242\n",
      "treas: IWM\n",
      "all: 2015-03-27 00:00:00 2024-02-22 00:00:00\n",
      "dataset lengths (existing vs new): 2240, 2417\n",
      "treas: QQQ\n",
      "all: 2015-03-27 00:00:00 2024-02-22 00:00:00\n",
      "dataset lengths (existing vs new): 2240, 2417\n",
      "treas: AAPL\n"
     ]
    },
    {
     "name": "stderr",
     "output_type": "stream",
     "text": [
      "[*********************100%%**********************]  1 of 1 completed\n"
     ]
    },
    {
     "name": "stdout",
     "output_type": "stream",
     "text": [
      "all: 2015-03-27 00:00:00 2024-02-22 00:00:00\n",
      "dataset lengths (existing vs new): 2240, 2417\n"
     ]
    },
    {
     "name": "stderr",
     "output_type": "stream",
     "text": [
      "[*********************100%%**********************]  1 of 1 completed"
     ]
    },
    {
     "name": "stdout",
     "output_type": "stream",
     "text": [
      " 99:FATE\n",
      "ticker: FATE\n",
      "range: 2014-07-17 00:00:00 2024-02-22 00:00:00\n"
     ]
    },
    {
     "name": "stderr",
     "output_type": "stream",
     "text": [
      "\n",
      "[*********************100%%**********************]  1 of 1 completed\n",
      "[*********************100%%**********************]  1 of 1 completed\n",
      "[*********************100%%**********************]  1 of 1 completed\n"
     ]
    },
    {
     "name": "stdout",
     "output_type": "stream",
     "text": [
      "index: 2014-02-24 00:00:00 2024-02-22 00:00:00\n",
      "all: 2014-07-17 00:00:00 2024-02-22 00:00:00\n",
      "dataset lengths (existing vs new): 2417, 2417\n",
      "index: 2014-02-24 00:00:00 2024-02-22 00:00:00\n",
      "all: 2014-07-17 00:00:00 2024-02-22 00:00:00\n",
      "dataset lengths (existing vs new): 2417, 2417\n",
      "index: 2014-02-24 00:00:00 2024-02-22 00:00:00\n"
     ]
    },
    {
     "name": "stderr",
     "output_type": "stream",
     "text": [
      "[*********************100%%**********************]  1 of 1 completed\n",
      "[*********************100%%**********************]  1 of 1 completed\n"
     ]
    },
    {
     "name": "stdout",
     "output_type": "stream",
     "text": [
      "all: 2014-07-17 00:00:00 2024-02-22 00:00:00\n",
      "dataset lengths (existing vs new): 2417, 2417\n",
      "treas: ^TNX\n",
      "all: 2014-07-17 00:00:00 2024-02-22 00:00:00\n",
      "dataset lengths (existing vs new): 2417, 2415\n",
      "treas: ^FVX\n",
      "all: 2014-07-17 00:00:00 2024-02-22 00:00:00\n",
      "dataset lengths (existing vs new): 2415, 2415\n",
      "treas: ARKK\n"
     ]
    },
    {
     "name": "stderr",
     "output_type": "stream",
     "text": [
      "[*********************100%%**********************]  1 of 1 completed\n",
      "[*********************100%%**********************]  1 of 1 completed\n"
     ]
    },
    {
     "name": "stdout",
     "output_type": "stream",
     "text": [
      "all: 2015-03-27 00:00:00 2024-02-22 00:00:00\n",
      "dataset lengths (existing vs new): 2415, 2242\n",
      "treas: IWM\n",
      "all: 2015-03-27 00:00:00 2024-02-22 00:00:00\n",
      "dataset lengths (existing vs new): 2240, 2417\n",
      "treas: QQQ\n"
     ]
    },
    {
     "name": "stderr",
     "output_type": "stream",
     "text": [
      "[*********************100%%**********************]  1 of 1 completed\n",
      "[*********************100%%**********************]  1 of 1 completed"
     ]
    },
    {
     "name": "stdout",
     "output_type": "stream",
     "text": [
      "all: 2015-03-27 00:00:00 2024-02-22 00:00:00\n",
      "dataset lengths (existing vs new): 2240, 2417\n",
      "treas: AAPL\n"
     ]
    },
    {
     "name": "stderr",
     "output_type": "stream",
     "text": [
      "\n"
     ]
    },
    {
     "name": "stdout",
     "output_type": "stream",
     "text": [
      "all: 2015-03-27 00:00:00 2024-02-22 00:00:00\n",
      "dataset lengths (existing vs new): 2240, 2417\n",
      "100:FCEL\n"
     ]
    },
    {
     "name": "stderr",
     "output_type": "stream",
     "text": [
      "[*********************100%%**********************]  1 of 1 completed\n",
      "[*********************100%%**********************]  1 of 1 completed\n"
     ]
    },
    {
     "name": "stdout",
     "output_type": "stream",
     "text": [
      "ticker: FCEL\n",
      "range: 2014-07-17 00:00:00 2024-02-22 00:00:00\n",
      "index: 2014-02-24 00:00:00 2024-02-22 00:00:00\n",
      "all: 2014-07-17 00:00:00 2024-02-22 00:00:00\n",
      "dataset lengths (existing vs new): 2417, 2417\n"
     ]
    },
    {
     "name": "stderr",
     "output_type": "stream",
     "text": [
      "[*********************100%%**********************]  1 of 1 completed\n",
      "[*********************100%%**********************]  1 of 1 completed\n",
      "[*********************100%%**********************]  1 of 1 completed\n"
     ]
    },
    {
     "name": "stdout",
     "output_type": "stream",
     "text": [
      "index: 2014-02-24 00:00:00 2024-02-22 00:00:00\n",
      "all: 2014-07-17 00:00:00 2024-02-22 00:00:00\n",
      "dataset lengths (existing vs new): 2417, 2417\n",
      "index: 2014-02-24 00:00:00 2024-02-22 00:00:00\n",
      "all: 2014-07-17 00:00:00 2024-02-22 00:00:00\n",
      "dataset lengths (existing vs new): 2417, 2417\n",
      "treas: ^TNX\n",
      "all: 2014-07-17 00:00:00 2024-02-22 00:00:00\n",
      "dataset lengths (existing vs new): 2417, 2415\n",
      "treas: ^FVX\n"
     ]
    },
    {
     "name": "stderr",
     "output_type": "stream",
     "text": [
      "[*********************100%%**********************]  1 of 1 completed\n",
      "[*********************100%%**********************]  1 of 1 completed\n",
      "[*********************100%%**********************]  1 of 1 completed\n"
     ]
    },
    {
     "name": "stdout",
     "output_type": "stream",
     "text": [
      "all: 2014-07-17 00:00:00 2024-02-22 00:00:00\n",
      "dataset lengths (existing vs new): 2415, 2415\n",
      "treas: ARKK\n",
      "all: 2015-03-27 00:00:00 2024-02-22 00:00:00\n",
      "dataset lengths (existing vs new): 2415, 2242\n",
      "treas: IWM\n",
      "all: 2015-03-27 00:00:00 2024-02-22 00:00:00\n",
      "dataset lengths (existing vs new): 2240, 2417\n",
      "treas: QQQ\n"
     ]
    },
    {
     "name": "stderr",
     "output_type": "stream",
     "text": [
      "[*********************100%%**********************]  1 of 1 completed\n",
      "[*********************100%%**********************]  1 of 1 completed\n"
     ]
    },
    {
     "name": "stdout",
     "output_type": "stream",
     "text": [
      "all: 2015-03-27 00:00:00 2024-02-22 00:00:00\n",
      "dataset lengths (existing vs new): 2240, 2417\n",
      "treas: AAPL\n",
      "all: 2015-03-27 00:00:00 2024-02-22 00:00:00\n",
      "dataset lengths (existing vs new): 2240, 2417\n"
     ]
    },
    {
     "name": "stderr",
     "output_type": "stream",
     "text": [
      "[*********************100%%**********************]  1 of 1 completed"
     ]
    },
    {
     "name": "stdout",
     "output_type": "stream",
     "text": [
      "101:FI\n",
      "ticker: FI\n",
      "range: 2014-07-17 00:00:00 2024-02-22 00:00:00\n"
     ]
    },
    {
     "name": "stderr",
     "output_type": "stream",
     "text": [
      "\n",
      "[*********************100%%**********************]  1 of 1 completed\n",
      "[*********************100%%**********************]  1 of 1 completed\n",
      "[*********************100%%**********************]  1 of 1 completed\n"
     ]
    },
    {
     "name": "stdout",
     "output_type": "stream",
     "text": [
      "index: 2014-02-24 00:00:00 2024-02-22 00:00:00\n",
      "all: 2014-07-17 00:00:00 2024-02-22 00:00:00\n",
      "dataset lengths (existing vs new): 2417, 2417\n",
      "index: 2014-02-24 00:00:00 2024-02-22 00:00:00\n",
      "all: 2014-07-17 00:00:00 2024-02-22 00:00:00\n",
      "dataset lengths (existing vs new): 2417, 2417\n",
      "index: 2014-02-24 00:00:00 2024-02-22 00:00:00\n",
      "all: 2014-07-17 00:00:00 2024-02-22 00:00:00\n",
      "dataset lengths (existing vs new): 2417, 2417\n",
      "treas: ^TNX\n"
     ]
    },
    {
     "name": "stderr",
     "output_type": "stream",
     "text": [
      "[*********************100%%**********************]  1 of 1 completed\n",
      "[*********************100%%**********************]  1 of 1 completed\n",
      "[*********************100%%**********************]  1 of 1 completed\n"
     ]
    },
    {
     "name": "stdout",
     "output_type": "stream",
     "text": [
      "all: 2014-07-17 00:00:00 2024-02-22 00:00:00\n",
      "dataset lengths (existing vs new): 2417, 2415\n",
      "treas: ^FVX\n",
      "all: 2014-07-17 00:00:00 2024-02-22 00:00:00\n",
      "dataset lengths (existing vs new): 2415, 2415\n",
      "treas: ARKK\n",
      "all: 2015-03-27 00:00:00 2024-02-22 00:00:00\n",
      "dataset lengths (existing vs new): 2415, 2242\n",
      "treas: IWM\n"
     ]
    },
    {
     "name": "stderr",
     "output_type": "stream",
     "text": [
      "[*********************100%%**********************]  1 of 1 completed\n",
      "[*********************100%%**********************]  1 of 1 completed\n"
     ]
    },
    {
     "name": "stdout",
     "output_type": "stream",
     "text": [
      "all: 2015-03-27 00:00:00 2024-02-22 00:00:00\n",
      "dataset lengths (existing vs new): 2240, 2417\n",
      "treas: QQQ\n",
      "all: 2015-03-27 00:00:00 2024-02-22 00:00:00\n",
      "dataset lengths (existing vs new): 2240, 2417\n",
      "treas: AAPL\n"
     ]
    },
    {
     "name": "stderr",
     "output_type": "stream",
     "text": [
      "[*********************100%%**********************]  1 of 1 completed\n"
     ]
    },
    {
     "name": "stdout",
     "output_type": "stream",
     "text": [
      "all: 2015-03-27 00:00:00 2024-02-22 00:00:00\n",
      "dataset lengths (existing vs new): 2240, 2417\n"
     ]
    },
    {
     "name": "stderr",
     "output_type": "stream",
     "text": [
      "[*********************100%%**********************]  1 of 1 completed"
     ]
    },
    {
     "name": "stdout",
     "output_type": "stream",
     "text": [
      "102:FIS\n",
      "ticker: FIS\n",
      "range: 2014-07-17 00:00:00 2024-02-22 00:00:00\n"
     ]
    },
    {
     "name": "stderr",
     "output_type": "stream",
     "text": [
      "\n",
      "[*********************100%%**********************]  1 of 1 completed\n",
      "[*********************100%%**********************]  1 of 1 completed\n"
     ]
    },
    {
     "name": "stdout",
     "output_type": "stream",
     "text": [
      "index: 2014-02-24 00:00:00 2024-02-22 00:00:00\n",
      "all: 2014-07-17 00:00:00 2024-02-22 00:00:00\n",
      "dataset lengths (existing vs new): 2417, 2417\n",
      "index: 2014-02-24 00:00:00 2024-02-22 00:00:00\n",
      "all: 2014-07-17 00:00:00 2024-02-22 00:00:00\n",
      "dataset lengths (existing vs new): 2417, 2417\n"
     ]
    },
    {
     "name": "stderr",
     "output_type": "stream",
     "text": [
      "[*********************100%%**********************]  1 of 1 completed\n",
      "[*********************100%%**********************]  1 of 1 completed\n"
     ]
    },
    {
     "name": "stdout",
     "output_type": "stream",
     "text": [
      "index: 2014-02-24 00:00:00 2024-02-22 00:00:00\n",
      "all: 2014-07-17 00:00:00 2024-02-22 00:00:00\n",
      "dataset lengths (existing vs new): 2417, 2417\n",
      "treas: ^TNX\n",
      "all: 2014-07-17 00:00:00 2024-02-22 00:00:00\n",
      "dataset lengths (existing vs new): 2417, 2415\n",
      "treas: ^FVX\n"
     ]
    },
    {
     "name": "stderr",
     "output_type": "stream",
     "text": [
      "[*********************100%%**********************]  1 of 1 completed\n",
      "[*********************100%%**********************]  1 of 1 completed\n",
      "[*********************100%%**********************]  1 of 1 completed\n"
     ]
    },
    {
     "name": "stdout",
     "output_type": "stream",
     "text": [
      "all: 2014-07-17 00:00:00 2024-02-22 00:00:00\n",
      "dataset lengths (existing vs new): 2415, 2415\n",
      "treas: ARKK\n",
      "all: 2015-03-27 00:00:00 2024-02-22 00:00:00\n",
      "dataset lengths (existing vs new): 2415, 2242\n",
      "treas: IWM\n",
      "all: 2015-03-27 00:00:00 2024-02-22 00:00:00\n",
      "dataset lengths (existing vs new): 2240, 2417\n",
      "treas: QQQ\n"
     ]
    },
    {
     "name": "stderr",
     "output_type": "stream",
     "text": [
      "[*********************100%%**********************]  1 of 1 completed\n",
      "[*********************100%%**********************]  1 of 1 completed\n"
     ]
    },
    {
     "name": "stdout",
     "output_type": "stream",
     "text": [
      "all: 2015-03-27 00:00:00 2024-02-22 00:00:00\n",
      "dataset lengths (existing vs new): 2240, 2417\n",
      "treas: AAPL\n",
      "all: 2015-03-27 00:00:00 2024-02-22 00:00:00\n",
      "dataset lengths (existing vs new): 2240, 2417\n"
     ]
    },
    {
     "name": "stderr",
     "output_type": "stream",
     "text": [
      "[*********************100%%**********************]  1 of 1 completed"
     ]
    },
    {
     "name": "stdout",
     "output_type": "stream",
     "text": [
      "103:FLTR.L\n"
     ]
    },
    {
     "name": "stderr",
     "output_type": "stream",
     "text": [
      "\n",
      "[*********************100%%**********************]  1 of 1 completed\n",
      "[*********************100%%**********************]  1 of 1 completed\n"
     ]
    },
    {
     "name": "stdout",
     "output_type": "stream",
     "text": [
      "ticker: FLTR.L\n",
      "range: 2014-07-18 00:00:00 2024-02-23 00:00:00\n",
      "index: 2014-02-24 00:00:00 2024-02-22 00:00:00\n",
      "all: 2014-07-18 00:00:00 2024-02-22 00:00:00\n",
      "dataset lengths (existing vs new): 2426, 2417\n",
      "index: 2014-02-24 00:00:00 2024-02-22 00:00:00\n",
      "all: 2014-07-18 00:00:00 2024-02-22 00:00:00\n",
      "dataset lengths (existing vs new): 2371, 2417\n"
     ]
    },
    {
     "name": "stderr",
     "output_type": "stream",
     "text": [
      "[*********************100%%**********************]  1 of 1 completed\n",
      "[*********************100%%**********************]  1 of 1 completed\n",
      "[*********************100%%**********************]  1 of 1 completed\n"
     ]
    },
    {
     "name": "stdout",
     "output_type": "stream",
     "text": [
      "index: 2014-02-24 00:00:00 2024-02-22 00:00:00\n",
      "all: 2014-07-18 00:00:00 2024-02-22 00:00:00\n",
      "dataset lengths (existing vs new): 2371, 2417\n",
      "treas: ^TNX\n",
      "all: 2014-07-18 00:00:00 2024-02-22 00:00:00\n",
      "dataset lengths (existing vs new): 2371, 2415\n",
      "treas: ^FVX\n",
      "all: 2014-07-18 00:00:00 2024-02-22 00:00:00\n",
      "dataset lengths (existing vs new): 2369, 2415\n",
      "treas: ARKK\n"
     ]
    },
    {
     "name": "stderr",
     "output_type": "stream",
     "text": [
      "[*********************100%%**********************]  1 of 1 completed\n",
      "[*********************100%%**********************]  1 of 1 completed"
     ]
    },
    {
     "name": "stdout",
     "output_type": "stream",
     "text": [
      "all: 2015-03-27 00:00:00 2024-02-22 00:00:00\n",
      "dataset lengths (existing vs new): 2369, 2242\n",
      "treas: IWM\n"
     ]
    },
    {
     "name": "stderr",
     "output_type": "stream",
     "text": [
      "\n",
      "[*********************100%%**********************]  1 of 1 completed\n",
      "[*********************100%%**********************]  1 of 1 completed\n"
     ]
    },
    {
     "name": "stdout",
     "output_type": "stream",
     "text": [
      "all: 2015-03-27 00:00:00 2024-02-22 00:00:00\n",
      "dataset lengths (existing vs new): 2197, 2417\n",
      "treas: QQQ\n",
      "all: 2015-03-27 00:00:00 2024-02-22 00:00:00\n",
      "dataset lengths (existing vs new): 2197, 2417\n",
      "treas: AAPL\n",
      "all: 2015-03-27 00:00:00 2024-02-22 00:00:00\n",
      "dataset lengths (existing vs new): 2197, 2417\n"
     ]
    },
    {
     "name": "stderr",
     "output_type": "stream",
     "text": [
      "[*********************100%%**********************]  1 of 1 completed"
     ]
    },
    {
     "name": "stdout",
     "output_type": "stream",
     "text": [
      "104:FREY\n",
      "ticker: FREY\n",
      "range: 2020-06-04 00:00:00 2024-02-22 00:00:00\n"
     ]
    },
    {
     "name": "stderr",
     "output_type": "stream",
     "text": [
      "\n",
      "[*********************100%%**********************]  1 of 1 completed\n",
      "[*********************100%%**********************]  1 of 1 completed\n",
      "[*********************100%%**********************]  1 of 1 completed\n"
     ]
    },
    {
     "name": "stdout",
     "output_type": "stream",
     "text": [
      "index: 2014-02-24 00:00:00 2024-02-22 00:00:00\n",
      "all: 2020-06-04 00:00:00 2024-02-22 00:00:00\n",
      "dataset lengths (existing vs new): 936, 2417\n",
      "index: 2014-02-24 00:00:00 2024-02-22 00:00:00\n",
      "all: 2020-06-04 00:00:00 2024-02-22 00:00:00\n",
      "dataset lengths (existing vs new): 936, 2417\n",
      "index: 2014-02-24 00:00:00 2024-02-22 00:00:00\n",
      "all: 2020-06-04 00:00:00 2024-02-22 00:00:00\n",
      "dataset lengths (existing vs new): 936, 2417\n",
      "treas: ^TNX\n"
     ]
    },
    {
     "name": "stderr",
     "output_type": "stream",
     "text": [
      "[*********************100%%**********************]  1 of 1 completed\n",
      "[*********************100%%**********************]  1 of 1 completed\n",
      "[*********************100%%**********************]  1 of 1 completed\n"
     ]
    },
    {
     "name": "stdout",
     "output_type": "stream",
     "text": [
      "all: 2020-06-04 00:00:00 2024-02-22 00:00:00\n",
      "dataset lengths (existing vs new): 936, 2415\n",
      "treas: ^FVX\n",
      "all: 2020-06-04 00:00:00 2024-02-22 00:00:00\n",
      "dataset lengths (existing vs new): 936, 2415\n",
      "treas: ARKK\n",
      "all: 2020-06-04 00:00:00 2024-02-22 00:00:00\n",
      "dataset lengths (existing vs new): 936, 2242\n",
      "treas: IWM\n"
     ]
    },
    {
     "name": "stderr",
     "output_type": "stream",
     "text": [
      "[*********************100%%**********************]  1 of 1 completed\n",
      "[*********************100%%**********************]  1 of 1 completed\n"
     ]
    },
    {
     "name": "stdout",
     "output_type": "stream",
     "text": [
      "all: 2020-06-04 00:00:00 2024-02-22 00:00:00\n",
      "dataset lengths (existing vs new): 936, 2417\n",
      "treas: QQQ\n",
      "all: 2020-06-04 00:00:00 2024-02-22 00:00:00\n",
      "dataset lengths (existing vs new): 936, 2417\n",
      "treas: AAPL\n"
     ]
    },
    {
     "name": "stderr",
     "output_type": "stream",
     "text": [
      "[*********************100%%**********************]  1 of 1 completed\n"
     ]
    },
    {
     "name": "stdout",
     "output_type": "stream",
     "text": [
      "all: 2020-06-04 00:00:00 2024-02-22 00:00:00\n",
      "dataset lengths (existing vs new): 936, 2417\n",
      "105:FSLY\n"
     ]
    },
    {
     "name": "stderr",
     "output_type": "stream",
     "text": [
      "[*********************100%%**********************]  1 of 1 completed\n",
      "[*********************100%%**********************]  1 of 1 completed\n",
      "[*********************100%%**********************]  1 of 1 completed\n"
     ]
    },
    {
     "name": "stdout",
     "output_type": "stream",
     "text": [
      "ticker: FSLY\n",
      "range: 2019-10-09 00:00:00 2024-02-22 00:00:00\n",
      "index: 2014-02-24 00:00:00 2024-02-22 00:00:00\n",
      "all: 2019-10-09 00:00:00 2024-02-22 00:00:00\n",
      "dataset lengths (existing vs new): 1100, 2417\n",
      "index: 2014-02-24 00:00:00 2024-02-22 00:00:00\n",
      "all: 2019-10-09 00:00:00 2024-02-22 00:00:00\n",
      "dataset lengths (existing vs new): 1100, 2417\n"
     ]
    },
    {
     "name": "stderr",
     "output_type": "stream",
     "text": [
      "[*********************100%%**********************]  1 of 1 completed\n",
      "[*********************100%%**********************]  1 of 1 completed\n",
      "[*********************100%%**********************]  1 of 1 completed\n"
     ]
    },
    {
     "name": "stdout",
     "output_type": "stream",
     "text": [
      "index: 2014-02-24 00:00:00 2024-02-22 00:00:00\n",
      "all: 2019-10-09 00:00:00 2024-02-22 00:00:00\n",
      "dataset lengths (existing vs new): 1100, 2417\n",
      "treas: ^TNX\n",
      "all: 2019-10-09 00:00:00 2024-02-22 00:00:00\n",
      "dataset lengths (existing vs new): 1100, 2415\n",
      "treas: ^FVX\n",
      "all: 2019-10-09 00:00:00 2024-02-22 00:00:00\n",
      "dataset lengths (existing vs new): 1100, 2415\n",
      "treas: ARKK\n"
     ]
    },
    {
     "name": "stderr",
     "output_type": "stream",
     "text": [
      "[*********************100%%**********************]  1 of 1 completed\n",
      "[*********************100%%**********************]  1 of 1 completed\n",
      "[*********************100%%**********************]  1 of 1 completed\n"
     ]
    },
    {
     "name": "stdout",
     "output_type": "stream",
     "text": [
      "all: 2019-10-09 00:00:00 2024-02-22 00:00:00\n",
      "dataset lengths (existing vs new): 1100, 2242\n",
      "treas: IWM\n",
      "all: 2019-10-09 00:00:00 2024-02-22 00:00:00\n",
      "dataset lengths (existing vs new): 1100, 2417\n",
      "treas: QQQ\n",
      "all: 2019-10-09 00:00:00 2024-02-22 00:00:00\n",
      "dataset lengths (existing vs new): 1100, 2417\n",
      "treas: AAPL\n"
     ]
    },
    {
     "name": "stderr",
     "output_type": "stream",
     "text": [
      "[*********************100%%**********************]  1 of 1 completed\n"
     ]
    },
    {
     "name": "stdout",
     "output_type": "stream",
     "text": [
      "all: 2019-10-09 00:00:00 2024-02-22 00:00:00\n",
      "dataset lengths (existing vs new): 1100, 2417\n",
      "106:FTCH\n"
     ]
    },
    {
     "name": "stderr",
     "output_type": "stream",
     "text": [
      "[*********************100%%**********************]  1 of 1 completed\n",
      "\n",
      "1 Failed download:\n",
      "['FTCH']: Exception('%ticker%: No data found, symbol may be delisted')\n"
     ]
    },
    {
     "ename": "TypeError",
     "evalue": "'NoneType' object is not subscriptable",
     "output_type": "error",
     "traceback": [
      "\u001b[0;31m---------------------------------------------------------------------------\u001b[0m",
      "\u001b[0;31mTypeError\u001b[0m                                 Traceback (most recent call last)",
      "Cell \u001b[0;32mIn[9], line 17\u001b[0m\n\u001b[1;32m     15\u001b[0m \u001b[38;5;28mprint\u001b[39m(\u001b[38;5;124mf\u001b[39m\u001b[38;5;124m'\u001b[39m\u001b[38;5;132;01m{\u001b[39;00mi\u001b[38;5;132;01m:\u001b[39;00m\u001b[38;5;124m3d\u001b[39m\u001b[38;5;132;01m}\u001b[39;00m\u001b[38;5;124m:\u001b[39m\u001b[38;5;132;01m{\u001b[39;00mticker\u001b[38;5;132;01m}\u001b[39;00m\u001b[38;5;124m'\u001b[39m)\n\u001b[1;32m     16\u001b[0m data \u001b[38;5;241m=\u001b[39m yf\u001b[38;5;241m.\u001b[39mdownload(ticker, period\u001b[38;5;241m=\u001b[39mperiod)\n\u001b[0;32m---> 17\u001b[0m data_filtered \u001b[38;5;241m=\u001b[39m \u001b[43mcreate_features\u001b[49m\u001b[43m(\u001b[49m\u001b[43mticker\u001b[49m\u001b[38;5;241;43m=\u001b[39;49m\u001b[43mticker\u001b[49m\u001b[43m,\u001b[49m\u001b[43m \u001b[49m\u001b[43mdata\u001b[49m\u001b[38;5;241;43m=\u001b[39;49m\u001b[43mdata\u001b[49m\u001b[43m)\u001b[49m\n\u001b[1;32m     19\u001b[0m all_df \u001b[38;5;241m=\u001b[39m data_filtered\n\u001b[1;32m     20\u001b[0m \u001b[38;5;28mprint\u001b[39m(\u001b[38;5;124mf\u001b[39m\u001b[38;5;124m\"\u001b[39m\u001b[38;5;124mticker: \u001b[39m\u001b[38;5;132;01m{\u001b[39;00mticker\u001b[38;5;132;01m}\u001b[39;00m\u001b[38;5;124m\"\u001b[39m)\n",
      "Cell \u001b[0;32mIn[7], line 41\u001b[0m, in \u001b[0;36mcreate_features\u001b[0;34m(ticker, data)\u001b[0m\n\u001b[1;32m     39\u001b[0m stoch \u001b[38;5;241m=\u001b[39m ta\u001b[38;5;241m.\u001b[39mstoch(high\u001b[38;5;241m=\u001b[39mdata[\u001b[38;5;124m'\u001b[39m\u001b[38;5;124mHigh\u001b[39m\u001b[38;5;124m'\u001b[39m], low\u001b[38;5;241m=\u001b[39mdata[\u001b[38;5;124m'\u001b[39m\u001b[38;5;124mLow\u001b[39m\u001b[38;5;124m'\u001b[39m], close\u001b[38;5;241m=\u001b[39mdata[\u001b[38;5;124m'\u001b[39m\u001b[38;5;124mClose\u001b[39m\u001b[38;5;124m'\u001b[39m], k\u001b[38;5;241m=\u001b[39m\u001b[38;5;241m14\u001b[39m, d\u001b[38;5;241m=\u001b[39m\u001b[38;5;241m3\u001b[39m, smooth_k\u001b[38;5;241m=\u001b[39m\u001b[38;5;241m3\u001b[39m)\n\u001b[1;32m     40\u001b[0m \u001b[38;5;66;03m# Add the stochastic oscillator values to the DataFrame\u001b[39;00m\n\u001b[0;32m---> 41\u001b[0m data[\u001b[38;5;124m'\u001b[39m\u001b[38;5;124m%\u001b[39m\u001b[38;5;124mK_14_3_3\u001b[39m\u001b[38;5;124m'\u001b[39m] \u001b[38;5;241m=\u001b[39m \u001b[43mstoch\u001b[49m\u001b[43m[\u001b[49m\u001b[38;5;124;43m'\u001b[39;49m\u001b[38;5;124;43mSTOCHk_14_3_3\u001b[39;49m\u001b[38;5;124;43m'\u001b[39;49m\u001b[43m]\u001b[49m\n\u001b[1;32m     42\u001b[0m data[\u001b[38;5;124m'\u001b[39m\u001b[38;5;124m%\u001b[39m\u001b[38;5;124mD_14_3_3\u001b[39m\u001b[38;5;124m'\u001b[39m] \u001b[38;5;241m=\u001b[39m stoch[\u001b[38;5;124m'\u001b[39m\u001b[38;5;124mSTOCHd_14_3_3\u001b[39m\u001b[38;5;124m'\u001b[39m]\n\u001b[1;32m     44\u001b[0m \u001b[38;5;66;03m# CMF = Chaikin Money Flow\u001b[39;00m\n",
      "\u001b[0;31mTypeError\u001b[0m: 'NoneType' object is not subscriptable"
     ]
    }
   ],
   "source": [
    "from sklearn.feature_selection import mutual_info_classif\n",
    "from pathlib import Path\n",
    "\n",
    "index_tickers = [\"^DJI\", \"^GSPC\", \"^IXIC\"]\n",
    "treas_tickers = [\"^TNX\", \"^FVX\"]\n",
    "macro_tickers = ['ARKK', 'IWM', 'QQQ', 'AAPL']\n",
    "period = \"10y\"\n",
    "\n",
    "try:\n",
    "    with warnings.catch_warnings():\n",
    "        warnings.filterwarnings(\"ignore\", category=RuntimeWarning)\n",
    "\n",
    "        for i in range(len(tickers)):\n",
    "            ticker = tickers[i]\n",
    "            print(f'{i:3d}:{ticker}')\n",
    "            data = yf.download(ticker, period=period)\n",
    "            data_filtered = create_features(ticker=ticker, data=data)\n",
    "\n",
    "            all_df = data_filtered\n",
    "            print(f\"ticker: {ticker}\")\n",
    "            print(f\"range: {all_df.index[0]} {all_df.index[-1]}\")\n",
    "\n",
    "\n",
    "            # Add indices\n",
    "            for idx in index_tickers:\n",
    "                data = yf.download(idx, period=period)\n",
    "                print(f\"index: {data.index[0]} {data.index[-1]}\")\n",
    "                data_filtered = create_features(ticker=idx, data=data)\n",
    "                # Perform inner join on the index\n",
    "                result = all_df.join(data_filtered, how='inner', lsuffix='_left', rsuffix='_right')\n",
    "                print(f\"all: {result.index[0]} {result.index[-1]}\")\n",
    "                \n",
    "                # assert all_df.shape[0] == data_filtered.shape[0], \\\n",
    "                print(f\"dataset lengths (existing vs new): {all_df.shape[0]}, {data_filtered.shape[0]}\")\n",
    "\n",
    "                all_df = result\n",
    "\n",
    "            # Add treasury yields\n",
    "            for treas in treas_tickers:\n",
    "                print(f\"treas: {treas}\")\n",
    "                data = yf.download(treas, period=period)\n",
    "                data_filtered = create_features(ticker=treas, data=data)\n",
    "\n",
    "                # Perform inner join on the index\n",
    "                result = all_df.join(data_filtered, how='inner', lsuffix='_left', rsuffix='_right')\n",
    "                print(f\"all: {result.index[0]} {result.index[-1]}\")\n",
    "                \n",
    "                # assert all_df.shape[0] == data_filtered.shape[0], \\\n",
    "                print(f\"dataset lengths (existing vs new): {all_df.shape[0]}, {data_filtered.shape[0]}\")\n",
    "\n",
    "                all_df = result\n",
    "\n",
    "            # Add macro tickers\n",
    "            for macro in macro_tickers:\n",
    "                if ticker == macro:\n",
    "                    continue\n",
    "                print(f\"treas: {macro}\")\n",
    "                data = yf.download(macro, period=period)\n",
    "                data_filtered = create_features(ticker=macro, data=data)\n",
    "\n",
    "                # Perform inner join on the index\n",
    "                result = all_df.join(data_filtered, how='inner', lsuffix='_left', rsuffix='_right')\n",
    "                print(f\"all: {result.index[0]} {result.index[-1]}\")\n",
    "                \n",
    "                # assert all_df.shape[0] == data_filtered.shape[0], \\\n",
    "                print(f\"dataset lengths (existing vs new): {all_df.shape[0]}, {data_filtered.shape[0]}\")\n",
    "\n",
    "                all_df = result\n",
    "\n",
    "\n",
    "            \n",
    "            # Get the columns with only one unique value\n",
    "            single_value_cols = all_df.columns[all_df.nunique() == 1]\n",
    "\n",
    "            # Drop the columns with only one unique value\n",
    "            all_df = all_df.drop(single_value_cols, axis=1)\n",
    "\n",
    "            all_df = all_df.dropna(axis=1)\n",
    "            # print(all_df.isnull().sum())\n",
    "\n",
    "            y = (all_df[f'{ticker}_Close'].pct_change().shift(-1) > 0).astype(int)\n",
    "            X = all_df.drop([f'{ticker}_Close'], axis=1)\n",
    "\n",
    "\n",
    "            # Compute mutual information\n",
    "            mi_scores = mutual_info_classif(X, y)\n",
    "\n",
    "            # Sort features by mutual information value\n",
    "            sorted_features = sorted(zip(X.columns, mi_scores), key=lambda x: x[1], reverse=True)\n",
    "\n",
    "            # Print the sorted features and their mutual information scores\n",
    "            # for feature, score in sorted_features:\n",
    "            #     print(f'{feature}: {score}')\n",
    "\n",
    "            # Get the columns with mutual information above 0.01, excluding the off-limits column\n",
    "            selected_columns = X.columns[mi_scores > 0.0001]\n",
    "\n",
    "            # Filter the DataFrame based on selected columns\n",
    "            df_filtered = X[selected_columns]\n",
    "            df_filtered = df_filtered.copy()\n",
    "\n",
    "            # df_filtered.loc[:, 'Name'] = ticker\n",
    "            df_filtered.loc[:, 'Name'] = ticker\n",
    "            df_filtered[f'{ticker}_Close'] = all_df[f'{ticker}_Close']\n",
    "            Path(f'./data/data-2d/{ticker}').mkdir(parents=True, exist_ok=True)\n",
    "            df_filtered.to_csv(f'./data/data-2d/{ticker.upper()}/{ticker.upper()}.csv', index=True)\n",
    "except AssertionError as e:\n",
    "    print(f'Exception: {e}')\n",
    "    different_index_values = all_df.index.symmetric_difference(data_filtered.index)\n",
    "\n",
    "    # Create a new DataFrame indicating which original DataFrame each index value is missing\n",
    "    missing_indicator = pd.DataFrame(index=different_index_values)\n",
    "    missing_indicator['In_all_df'] = missing_indicator.index.isin(all_df.index)\n",
    "    missing_indicator['In_data_filtered'] = missing_indicator.index.isin(data_filtered.index)\n",
    "\n",
    "    print(missing_indicator)\n",
    "\n",
    "\n"
   ]
  },
  {
   "cell_type": "code",
   "execution_count": null,
   "metadata": {},
   "outputs": [
    {
     "ename": "FileNotFoundError",
     "evalue": "[Errno 2] No such file or directory: './data/top-100-tickers.txt'",
     "output_type": "error",
     "traceback": [
      "\u001b[0;31m---------------------------------------------------------------------------\u001b[0m",
      "\u001b[0;31mFileNotFoundError\u001b[0m                         Traceback (most recent call last)",
      "Cell \u001b[0;32mIn[9], line 5\u001b[0m\n\u001b[1;32m      2\u001b[0m file_path \u001b[38;5;241m=\u001b[39m \u001b[38;5;124m'\u001b[39m\u001b[38;5;124m./data/top-100-tickers.txt\u001b[39m\u001b[38;5;124m'\u001b[39m\n\u001b[1;32m      4\u001b[0m \u001b[38;5;66;03m# Read the file and modify each line\u001b[39;00m\n\u001b[0;32m----> 5\u001b[0m \u001b[38;5;28;01mwith\u001b[39;00m \u001b[38;5;28;43mopen\u001b[39;49m\u001b[43m(\u001b[49m\u001b[43mfile_path\u001b[49m\u001b[43m,\u001b[49m\u001b[43m \u001b[49m\u001b[38;5;124;43m'\u001b[39;49m\u001b[38;5;124;43mr\u001b[39;49m\u001b[38;5;124;43m'\u001b[39;49m\u001b[43m)\u001b[49m \u001b[38;5;28;01mas\u001b[39;00m file:\n\u001b[1;32m      6\u001b[0m     lines \u001b[38;5;241m=\u001b[39m file\u001b[38;5;241m.\u001b[39mreadlines()\n\u001b[1;32m      7\u001b[0m     lines \u001b[38;5;241m=\u001b[39m [\u001b[38;5;124mf\u001b[39m\u001b[38;5;124m'\u001b[39m\u001b[38;5;132;01m{\u001b[39;00mline\u001b[38;5;241m.\u001b[39mstrip()\u001b[38;5;132;01m}\u001b[39;00m\u001b[38;5;124m'\u001b[39m \u001b[38;5;28;01mfor\u001b[39;00m line \u001b[38;5;129;01min\u001b[39;00m lines]\n",
      "File \u001b[0;32m~/.local/lib/python3.10/site-packages/IPython/core/interactiveshell.py:286\u001b[0m, in \u001b[0;36m_modified_open\u001b[0;34m(file, *args, **kwargs)\u001b[0m\n\u001b[1;32m    279\u001b[0m \u001b[38;5;28;01mif\u001b[39;00m file \u001b[38;5;129;01min\u001b[39;00m {\u001b[38;5;241m0\u001b[39m, \u001b[38;5;241m1\u001b[39m, \u001b[38;5;241m2\u001b[39m}:\n\u001b[1;32m    280\u001b[0m     \u001b[38;5;28;01mraise\u001b[39;00m \u001b[38;5;167;01mValueError\u001b[39;00m(\n\u001b[1;32m    281\u001b[0m         \u001b[38;5;124mf\u001b[39m\u001b[38;5;124m\"\u001b[39m\u001b[38;5;124mIPython won\u001b[39m\u001b[38;5;124m'\u001b[39m\u001b[38;5;124mt let you open fd=\u001b[39m\u001b[38;5;132;01m{\u001b[39;00mfile\u001b[38;5;132;01m}\u001b[39;00m\u001b[38;5;124m by default \u001b[39m\u001b[38;5;124m\"\u001b[39m\n\u001b[1;32m    282\u001b[0m         \u001b[38;5;124m\"\u001b[39m\u001b[38;5;124mas it is likely to crash IPython. If you know what you are doing, \u001b[39m\u001b[38;5;124m\"\u001b[39m\n\u001b[1;32m    283\u001b[0m         \u001b[38;5;124m\"\u001b[39m\u001b[38;5;124myou can use builtins\u001b[39m\u001b[38;5;124m'\u001b[39m\u001b[38;5;124m open.\u001b[39m\u001b[38;5;124m\"\u001b[39m\n\u001b[1;32m    284\u001b[0m     )\n\u001b[0;32m--> 286\u001b[0m \u001b[38;5;28;01mreturn\u001b[39;00m \u001b[43mio_open\u001b[49m\u001b[43m(\u001b[49m\u001b[43mfile\u001b[49m\u001b[43m,\u001b[49m\u001b[43m \u001b[49m\u001b[38;5;241;43m*\u001b[39;49m\u001b[43margs\u001b[49m\u001b[43m,\u001b[49m\u001b[43m \u001b[49m\u001b[38;5;241;43m*\u001b[39;49m\u001b[38;5;241;43m*\u001b[39;49m\u001b[43mkwargs\u001b[49m\u001b[43m)\u001b[49m\n",
      "\u001b[0;31mFileNotFoundError\u001b[0m: [Errno 2] No such file or directory: './data/top-100-tickers.txt'"
     ]
    }
   ],
   "source": [
    "# Specify the file path\n",
    "file_path = './data/top-100-tickers.txt'\n",
    "\n",
    "# Read the file and modify each line\n",
    "with open(file_path, 'r') as file:\n",
    "    lines = file.readlines()\n",
    "    lines = [f'{line.strip()}' for line in lines]\n",
    "\n",
    "# Split the modified lines by commas and create a Python list\n",
    "lines_list = ','.join(lines).split(',')\n",
    "\n",
    "# Print the resulting list\n",
    "print(lines_list)"
   ]
  }
 ],
 "metadata": {
  "kernelspec": {
   "display_name": "Python 3 (ipykernel)",
   "language": "python",
   "name": "python3"
  },
  "language_info": {
   "codemirror_mode": {
    "name": "ipython",
    "version": 3
   },
   "file_extension": ".py",
   "mimetype": "text/x-python",
   "name": "python",
   "nbconvert_exporter": "python",
   "pygments_lexer": "ipython3",
   "version": "3.9.6"
  }
 },
 "nbformat": 4,
 "nbformat_minor": 2
}
